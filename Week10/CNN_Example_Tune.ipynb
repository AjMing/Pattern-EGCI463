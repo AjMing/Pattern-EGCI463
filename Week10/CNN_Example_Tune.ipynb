{
  "nbformat": 4,
  "nbformat_minor": 0,
  "metadata": {
    "anaconda-cloud": {},
    "colab": {
      "provenance": [],
      "toc_visible": true,
      "include_colab_link": true
    },
    "kernelspec": {
      "display_name": "Python 3",
      "language": "python",
      "name": "python3"
    },
    "language_info": {
      "codemirror_mode": {
        "name": "ipython",
        "version": 3
      },
      "file_extension": ".py",
      "mimetype": "text/x-python",
      "name": "python",
      "nbconvert_exporter": "python",
      "pygments_lexer": "ipython3",
      "version": "3.6.1"
    }
  },
  "cells": [
    {
      "cell_type": "markdown",
      "metadata": {
        "id": "view-in-github",
        "colab_type": "text"
      },
      "source": [
        "<a href=\"https://colab.research.google.com/github/AjMing/Pattern-EGCI463/blob/main/Week10/CNN_Example_Tune.ipynb\" target=\"_parent\"><img src=\"https://colab.research.google.com/assets/colab-badge.svg\" alt=\"Open In Colab\"/></a>"
      ]
    },
    {
      "cell_type": "code",
      "metadata": {
        "id": "rhhv2TruI5VU"
      },
      "source": [
        "import keras\n",
        "from keras.models import Sequential\n",
        "from keras.layers import Dense, Dropout, Flatten\n",
        "from keras.layers import Conv2D, MaxPooling2D\n",
        "import numpy as np\n"
      ],
      "execution_count": null,
      "outputs": []
    },
    {
      "cell_type": "code",
      "metadata": {
        "colab": {
          "base_uri": "https://localhost:8080/"
        },
        "id": "8wa-21scI5Va",
        "outputId": "445455cb-e867-4748-bf76-0ffb66831561"
      },
      "source": [
        "from google.colab import drive\n",
        "\n",
        "drive.mount('/content/gdrive')\n",
        "path = '/content/gdrive/My Drive/data/'"
      ],
      "execution_count": null,
      "outputs": [
        {
          "output_type": "stream",
          "name": "stdout",
          "text": [
            "Mounted at /content/gdrive\n"
          ]
        }
      ]
    },
    {
      "cell_type": "code",
      "metadata": {
        "colab": {
          "base_uri": "https://localhost:8080/"
        },
        "id": "CHWlxp4kI5Vf",
        "outputId": "5a0f211a-88be-4f26-8e93-ba46ff60eec2"
      },
      "source": [
        "input_shape = (28, 28, 1)\n",
        "\n",
        "#Define the model achitecture\n",
        "model = Sequential()\n",
        "model.add(Conv2D(64, kernel_size=(3, 3),\n",
        "                 activation='relu',\n",
        "                 input_shape=input_shape))\n",
        "model.add(Conv2D(64, (3, 3), activation='relu')) # (32 *64+(3*3))+64\n",
        "model.add(MaxPooling2D(pool_size=(3, 3)))\n",
        "model.add(Dropout(0.25))\n",
        "model.add(Flatten())\n",
        "model.add(Dense(128, activation='relu'))\n",
        "model.add(Dropout(0.5))\n",
        "model.add(Dense(10, activation='softmax'))\n",
        "model.compile(loss='categorical_crossentropy', optimizer='Adadelta', metrics=[\"accuracy\"])\n",
        "model.summary()"
      ],
      "execution_count": null,
      "outputs": [
        {
          "output_type": "stream",
          "name": "stdout",
          "text": [
            "Model: \"sequential_4\"\n",
            "_________________________________________________________________\n",
            " Layer (type)                Output Shape              Param #   \n",
            "=================================================================\n",
            " conv2d_8 (Conv2D)           (None, 26, 26, 64)        640       \n",
            "                                                                 \n",
            " conv2d_9 (Conv2D)           (None, 24, 24, 64)        36928     \n",
            "                                                                 \n",
            " max_pooling2d_4 (MaxPoolin  (None, 8, 8, 64)          0         \n",
            " g2D)                                                            \n",
            "                                                                 \n",
            " dropout_8 (Dropout)         (None, 8, 8, 64)          0         \n",
            "                                                                 \n",
            " flatten_4 (Flatten)         (None, 4096)              0         \n",
            "                                                                 \n",
            " dense_8 (Dense)             (None, 128)               524416    \n",
            "                                                                 \n",
            " dropout_9 (Dropout)         (None, 128)               0         \n",
            "                                                                 \n",
            " dense_9 (Dense)             (None, 10)                1290      \n",
            "                                                                 \n",
            "=================================================================\n",
            "Total params: 563274 (2.15 MB)\n",
            "Trainable params: 563274 (2.15 MB)\n",
            "Non-trainable params: 0 (0.00 Byte)\n",
            "_________________________________________________________________\n"
          ]
        }
      ]
    },
    {
      "cell_type": "code",
      "metadata": {
        "id": "BIH76E-hI5Vk"
      },
      "source": [
        "import pandas as pd"
      ],
      "execution_count": null,
      "outputs": []
    },
    {
      "cell_type": "code",
      "metadata": {
        "id": "KA6prJgHI5Vo"
      },
      "source": [
        "data=pd.read_csv(path+'digit.csv',header=None)\n",
        "digit =np.reshape(np.array(data.iloc[:,:-1]),[500,28,28,1])\n",
        "digit=digit/255.0"
      ],
      "execution_count": null,
      "outputs": []
    },
    {
      "cell_type": "code",
      "metadata": {
        "colab": {
          "base_uri": "https://localhost:8080/",
          "height": 430
        },
        "id": "_f-K16c4I5Vr",
        "outputId": "751327fd-ea51-4b2f-b1db-f44d21ba53d9"
      },
      "source": [
        "import matplotlib.pyplot as plt\n",
        "\n",
        "plt.imshow(np.reshape(digit[100,:,:],[28,28]),cmap='gray')\n",
        "plt.show()"
      ],
      "execution_count": null,
      "outputs": [
        {
          "output_type": "display_data",
          "data": {
            "text/plain": [
              "<Figure size 640x480 with 1 Axes>"
            ],
            "image/png": "[encoded data removed]"
          },
          "metadata": {}
        }
      ]
    },
    {
      "cell_type": "code",
      "metadata": {
        "id": "iZYbZ4eNI5Vw"
      },
      "source": [
        "from sklearn.model_selection import train_test_split\n",
        "\n",
        "X_train , X_test, Y_train, Y_test=train_test_split(digit,data.iloc[:,-1].values,test_size=0.2)"
      ],
      "execution_count": null,
      "outputs": []
    },
    {
      "cell_type": "markdown",
      "source": [],
      "metadata": {
        "id": "mcSAXWcP9Esp"
      }
    },
    {
      "cell_type": "code",
      "metadata": {
        "id": "Kh9IRf_kI5V0"
      },
      "source": [],
      "execution_count": null,
      "outputs": []
    },
    {
      "cell_type": "code",
      "metadata": {
        "id": "cp2685ZlI5V3"
      },
      "source": [
        "from keras import utils\n",
        "y_train = keras.utils.to_categorical(Y_train, num_classes=10)\n",
        "y_test = keras.utils.to_categorical(Y_test, num_classes=10)"
      ],
      "execution_count": null,
      "outputs": []
    },
    {
      "cell_type": "code",
      "source": [
        "Y_test"
      ],
      "metadata": {
        "colab": {
          "base_uri": "https://localhost:8080/"
        },
        "id": "0dLPnDLFR_Hy",
        "outputId": "92d4ac9e-a2ab-410e-9ad7-6427d4e0356d"
      },
      "execution_count": null,
      "outputs": [
        {
          "output_type": "execute_result",
          "data": {
            "text/plain": [
              "array([3, 0, 1, 7, 9, 9, 6, 7, 5, 4, 0, 1, 2, 0, 9, 8, 9, 3, 2, 8, 1, 2,\n",
              "       3, 0, 8, 9, 0, 6, 8, 1, 4, 6, 2, 4, 5, 9, 2, 2, 1, 7, 4, 7, 1, 4,\n",
              "       1, 4, 5, 5, 6, 9, 6, 4, 9, 4, 3, 7, 8, 3, 9, 8, 0, 0, 9, 3, 5, 1,\n",
              "       7, 5, 1, 6, 1, 9, 3, 3, 7, 1, 0, 8, 6, 0, 6, 4, 0, 9, 2, 5, 4, 6,\n",
              "       3, 1, 7, 1, 7, 8, 7, 6, 3, 4, 9, 2])"
            ]
          },
          "metadata": {},
          "execution_count": 23
        }
      ]
    },
    {
      "cell_type": "code",
      "source": [
        "y_test"
      ],
      "metadata": {
        "colab": {
          "base_uri": "https://localhost:8080/"
        },
        "id": "_8bEEgNXR6ui",
        "outputId": "4df20c3b-f75c-40fa-d37e-5ca056e940c9"
      },
      "execution_count": null,
      "outputs": [
        {
          "output_type": "execute_result",
          "data": {
            "text/plain": [
              "array([[0., 0., 0., 1., 0., 0., 0., 0., 0., 0.],\n",
              "       [1., 0., 0., 0., 0., 0., 0., 0., 0., 0.],\n",
              "       [0., 1., 0., 0., 0., 0., 0., 0., 0., 0.],\n",
              "       [0., 0., 0., 0., 0., 0., 0., 1., 0., 0.],\n",
              "       [0., 0., 0., 0., 0., 0., 0., 0., 0., 1.],\n",
              "       [0., 0., 0., 0., 0., 0., 0., 0., 0., 1.],\n",
              "       [0., 0., 0., 0., 0., 0., 1., 0., 0., 0.],\n",
              "       [0., 0., 0., 0., 0., 0., 0., 1., 0., 0.],\n",
              "       [0., 0., 0., 0., 0., 1., 0., 0., 0., 0.],\n",
              "       [0., 0., 0., 0., 1., 0., 0., 0., 0., 0.],\n",
              "       [1., 0., 0., 0., 0., 0., 0., 0., 0., 0.],\n",
              "       [0., 1., 0., 0., 0., 0., 0., 0., 0., 0.],\n",
              "       [0., 0., 1., 0., 0., 0., 0., 0., 0., 0.],\n",
              "       [1., 0., 0., 0., 0., 0., 0., 0., 0., 0.],\n",
              "       [0., 0., 0., 0., 0., 0., 0., 0., 0., 1.],\n",
              "       [0., 0., 0., 0., 0., 0., 0., 0., 1., 0.],\n",
              "       [0., 0., 0., 0., 0., 0., 0., 0., 0., 1.],\n",
              "       [0., 0., 0., 1., 0., 0., 0., 0., 0., 0.],\n",
              "       [0., 0., 1., 0., 0., 0., 0., 0., 0., 0.],\n",
              "       [0., 0., 0., 0., 0., 0., 0., 0., 1., 0.],\n",
              "       [0., 1., 0., 0., 0., 0., 0., 0., 0., 0.],\n",
              "       [0., 0., 1., 0., 0., 0., 0., 0., 0., 0.],\n",
              "       [0., 0., 0., 1., 0., 0., 0., 0., 0., 0.],\n",
              "       [1., 0., 0., 0., 0., 0., 0., 0., 0., 0.],\n",
              "       [0., 0., 0., 0., 0., 0., 0., 0., 1., 0.],\n",
              "       [0., 0., 0., 0., 0., 0., 0., 0., 0., 1.],\n",
              "       [1., 0., 0., 0., 0., 0., 0., 0., 0., 0.],\n",
              "       [0., 0., 0., 0., 0., 0., 1., 0., 0., 0.],\n",
              "       [0., 0., 0., 0., 0., 0., 0., 0., 1., 0.],\n",
              "       [0., 1., 0., 0., 0., 0., 0., 0., 0., 0.],\n",
              "       [0., 0., 0., 0., 1., 0., 0., 0., 0., 0.],\n",
              "       [0., 0., 0., 0., 0., 0., 1., 0., 0., 0.],\n",
              "       [0., 0., 1., 0., 0., 0., 0., 0., 0., 0.],\n",
              "       [0., 0., 0., 0., 1., 0., 0., 0., 0., 0.],\n",
              "       [0., 0., 0., 0., 0., 1., 0., 0., 0., 0.],\n",
              "       [0., 0., 0., 0., 0., 0., 0., 0., 0., 1.],\n",
              "       [0., 0., 1., 0., 0., 0., 0., 0., 0., 0.],\n",
              "       [0., 0., 1., 0., 0., 0., 0., 0., 0., 0.],\n",
              "       [0., 1., 0., 0., 0., 0., 0., 0., 0., 0.],\n",
              "       [0., 0., 0., 0., 0., 0., 0., 1., 0., 0.],\n",
              "       [0., 0., 0., 0., 1., 0., 0., 0., 0., 0.],\n",
              "       [0., 0., 0., 0., 0., 0., 0., 1., 0., 0.],\n",
              "       [0., 1., 0., 0., 0., 0., 0., 0., 0., 0.],\n",
              "       [0., 0., 0., 0., 1., 0., 0., 0., 0., 0.],\n",
              "       [0., 1., 0., 0., 0., 0., 0., 0., 0., 0.],\n",
              "       [0., 0., 0., 0., 1., 0., 0., 0., 0., 0.],\n",
              "       [0., 0., 0., 0., 0., 1., 0., 0., 0., 0.],\n",
              "       [0., 0., 0., 0., 0., 1., 0., 0., 0., 0.],\n",
              "       [0., 0., 0., 0., 0., 0., 1., 0., 0., 0.],\n",
              "       [0., 0., 0., 0., 0., 0., 0., 0., 0., 1.],\n",
              "       [0., 0., 0., 0., 0., 0., 1., 0., 0., 0.],\n",
              "       [0., 0., 0., 0., 1., 0., 0., 0., 0., 0.],\n",
              "       [0., 0., 0., 0., 0., 0., 0., 0., 0., 1.],\n",
              "       [0., 0., 0., 0., 1., 0., 0., 0., 0., 0.],\n",
              "       [0., 0., 0., 1., 0., 0., 0., 0., 0., 0.],\n",
              "       [0., 0., 0., 0., 0., 0., 0., 1., 0., 0.],\n",
              "       [0., 0., 0., 0., 0., 0., 0., 0., 1., 0.],\n",
              "       [0., 0., 0., 1., 0., 0., 0., 0., 0., 0.],\n",
              "       [0., 0., 0., 0., 0., 0., 0., 0., 0., 1.],\n",
              "       [0., 0., 0., 0., 0., 0., 0., 0., 1., 0.],\n",
              "       [1., 0., 0., 0., 0., 0., 0., 0., 0., 0.],\n",
              "       [1., 0., 0., 0., 0., 0., 0., 0., 0., 0.],\n",
              "       [0., 0., 0., 0., 0., 0., 0., 0., 0., 1.],\n",
              "       [0., 0., 0., 1., 0., 0., 0., 0., 0., 0.],\n",
              "       [0., 0., 0., 0., 0., 1., 0., 0., 0., 0.],\n",
              "       [0., 1., 0., 0., 0., 0., 0., 0., 0., 0.],\n",
              "       [0., 0., 0., 0., 0., 0., 0., 1., 0., 0.],\n",
              "       [0., 0., 0., 0., 0., 1., 0., 0., 0., 0.],\n",
              "       [0., 1., 0., 0., 0., 0., 0., 0., 0., 0.],\n",
              "       [0., 0., 0., 0., 0., 0., 1., 0., 0., 0.],\n",
              "       [0., 1., 0., 0., 0., 0., 0., 0., 0., 0.],\n",
              "       [0., 0., 0., 0., 0., 0., 0., 0., 0., 1.],\n",
              "       [0., 0., 0., 1., 0., 0., 0., 0., 0., 0.],\n",
              "       [0., 0., 0., 1., 0., 0., 0., 0., 0., 0.],\n",
              "       [0., 0., 0., 0., 0., 0., 0., 1., 0., 0.],\n",
              "       [0., 1., 0., 0., 0., 0., 0., 0., 0., 0.],\n",
              "       [1., 0., 0., 0., 0., 0., 0., 0., 0., 0.],\n",
              "       [0., 0., 0., 0., 0., 0., 0., 0., 1., 0.],\n",
              "       [0., 0., 0., 0., 0., 0., 1., 0., 0., 0.],\n",
              "       [1., 0., 0., 0., 0., 0., 0., 0., 0., 0.],\n",
              "       [0., 0., 0., 0., 0., 0., 1., 0., 0., 0.],\n",
              "       [0., 0., 0., 0., 1., 0., 0., 0., 0., 0.],\n",
              "       [1., 0., 0., 0., 0., 0., 0., 0., 0., 0.],\n",
              "       [0., 0., 0., 0., 0., 0., 0., 0., 0., 1.],\n",
              "       [0., 0., 1., 0., 0., 0., 0., 0., 0., 0.],\n",
              "       [0., 0., 0., 0., 0., 1., 0., 0., 0., 0.],\n",
              "       [0., 0., 0., 0., 1., 0., 0., 0., 0., 0.],\n",
              "       [0., 0., 0., 0., 0., 0., 1., 0., 0., 0.],\n",
              "       [0., 0., 0., 1., 0., 0., 0., 0., 0., 0.],\n",
              "       [0., 1., 0., 0., 0., 0., 0., 0., 0., 0.],\n",
              "       [0., 0., 0., 0., 0., 0., 0., 1., 0., 0.],\n",
              "       [0., 1., 0., 0., 0., 0., 0., 0., 0., 0.],\n",
              "       [0., 0., 0., 0., 0., 0., 0., 1., 0., 0.],\n",
              "       [0., 0., 0., 0., 0., 0., 0., 0., 1., 0.],\n",
              "       [0., 0., 0., 0., 0., 0., 0., 1., 0., 0.],\n",
              "       [0., 0., 0., 0., 0., 0., 1., 0., 0., 0.],\n",
              "       [0., 0., 0., 1., 0., 0., 0., 0., 0., 0.],\n",
              "       [0., 0., 0., 0., 1., 0., 0., 0., 0., 0.],\n",
              "       [0., 0., 0., 0., 0., 0., 0., 0., 0., 1.],\n",
              "       [0., 0., 1., 0., 0., 0., 0., 0., 0., 0.]], dtype=float32)"
            ]
          },
          "metadata": {},
          "execution_count": 22
        }
      ]
    },
    {
      "cell_type": "code",
      "source": [
        "Y_test"
      ],
      "metadata": {
        "colab": {
          "base_uri": "https://localhost:8080/"
        },
        "id": "v69qfrAKR3rF",
        "outputId": "1fe4cf94-a5e8-48c1-ce78-bdc0a1941c34"
      },
      "execution_count": null,
      "outputs": [
        {
          "output_type": "execute_result",
          "data": {
            "text/plain": [
              "array([3, 0, 1, 7, 9, 9, 6, 7, 5, 4, 0, 1, 2, 0, 9, 8, 9, 3, 2, 8, 1, 2,\n",
              "       3, 0, 8, 9, 0, 6, 8, 1, 4, 6, 2, 4, 5, 9, 2, 2, 1, 7, 4, 7, 1, 4,\n",
              "       1, 4, 5, 5, 6, 9, 6, 4, 9, 4, 3, 7, 8, 3, 9, 8, 0, 0, 9, 3, 5, 1,\n",
              "       7, 5, 1, 6, 1, 9, 3, 3, 7, 1, 0, 8, 6, 0, 6, 4, 0, 9, 2, 5, 4, 6,\n",
              "       3, 1, 7, 1, 7, 8, 7, 6, 3, 4, 9, 2])"
            ]
          },
          "metadata": {},
          "execution_count": 21
        }
      ]
    },
    {
      "cell_type": "code",
      "source": [
        "model.fit(X_train, y_train, epochs=200, verbose=1,validation_data=(X_test, y_test))\n"
      ],
      "metadata": {
        "colab": {
          "base_uri": "https://localhost:8080/",
          "height": 1000
        },
        "id": "2E9zp28wUmD-",
        "outputId": "990ea4c8-ae39-4b43-dc4a-8013062d6748"
      },
      "execution_count": null,
      "outputs": [
        {
          "output_type": "stream",
          "name": "stdout",
          "text": [
            "Epoch 1/200\n",
            "13/13 [==============================] - 4s 255ms/step - loss: 2.0622 - accuracy: 0.2850 - val_loss: 1.3575 - val_accuracy: 0.7800\n",
            "Epoch 2/200\n",
            "13/13 [==============================] - 2s 136ms/step - loss: 1.2661 - accuracy: 0.5925 - val_loss: 0.7157 - val_accuracy: 0.8500\n",
            "Epoch 3/200\n",
            "13/13 [==============================] - 2s 127ms/step - loss: 0.8545 - accuracy: 0.7325 - val_loss: 0.4775 - val_accuracy: 0.8900\n",
            "Epoch 4/200\n",
            "13/13 [==============================] - 2s 122ms/step - loss: 0.5724 - accuracy: 0.8025 - val_loss: 0.3223 - val_accuracy: 0.9200\n",
            "Epoch 5/200\n",
            "13/13 [==============================] - 2s 127ms/step - loss: 0.4008 - accuracy: 0.8800 - val_loss: 0.2679 - val_accuracy: 0.9500\n",
            "Epoch 6/200\n",
            "13/13 [==============================] - 2s 175ms/step - loss: 0.3601 - accuracy: 0.8925 - val_loss: 0.2516 - val_accuracy: 0.9400\n",
            "Epoch 7/200\n",
            "13/13 [==============================] - 2s 128ms/step - loss: 0.2530 - accuracy: 0.9250 - val_loss: 0.2369 - val_accuracy: 0.9400\n",
            "Epoch 8/200\n",
            "13/13 [==============================] - 3s 235ms/step - loss: 0.2365 - accuracy: 0.9300 - val_loss: 0.2675 - val_accuracy: 0.9500\n",
            "Epoch 9/200\n",
            "13/13 [==============================] - 2s 172ms/step - loss: 0.1966 - accuracy: 0.9425 - val_loss: 0.1976 - val_accuracy: 0.9500\n",
            "Epoch 10/200\n",
            "13/13 [==============================] - 2s 124ms/step - loss: 0.1673 - accuracy: 0.9425 - val_loss: 0.1982 - val_accuracy: 0.9600\n",
            "Epoch 11/200\n",
            "13/13 [==============================] - 2s 123ms/step - loss: 0.1324 - accuracy: 0.9575 - val_loss: 0.1925 - val_accuracy: 0.9600\n",
            "Epoch 12/200\n",
            "13/13 [==============================] - 2s 122ms/step - loss: 0.1482 - accuracy: 0.9550 - val_loss: 0.1687 - val_accuracy: 0.9500\n",
            "Epoch 13/200\n",
            "13/13 [==============================] - 2s 123ms/step - loss: 0.1105 - accuracy: 0.9675 - val_loss: 0.1947 - val_accuracy: 0.9500\n",
            "Epoch 14/200\n",
            "13/13 [==============================] - 2s 122ms/step - loss: 0.0960 - accuracy: 0.9800 - val_loss: 0.2190 - val_accuracy: 0.9500\n",
            "Epoch 15/200\n",
            "13/13 [==============================] - 2s 135ms/step - loss: 0.0911 - accuracy: 0.9775 - val_loss: 0.2383 - val_accuracy: 0.9500\n",
            "Epoch 16/200\n",
            "13/13 [==============================] - 3s 214ms/step - loss: 0.0619 - accuracy: 0.9850 - val_loss: 0.2352 - val_accuracy: 0.9400\n",
            "Epoch 17/200\n",
            "13/13 [==============================] - 2s 185ms/step - loss: 0.0564 - accuracy: 0.9850 - val_loss: 0.2115 - val_accuracy: 0.9600\n",
            "Epoch 18/200\n",
            "13/13 [==============================] - 2s 122ms/step - loss: 0.0755 - accuracy: 0.9750 - val_loss: 0.1919 - val_accuracy: 0.9600\n",
            "Epoch 19/200\n",
            "13/13 [==============================] - 2s 124ms/step - loss: 0.0572 - accuracy: 0.9875 - val_loss: 0.1803 - val_accuracy: 0.9700\n",
            "Epoch 20/200\n",
            "13/13 [==============================] - 2s 120ms/step - loss: 0.0330 - accuracy: 0.9900 - val_loss: 0.1973 - val_accuracy: 0.9500\n",
            "Epoch 21/200\n",
            "13/13 [==============================] - 2s 123ms/step - loss: 0.0396 - accuracy: 0.9900 - val_loss: 0.1784 - val_accuracy: 0.9700\n",
            "Epoch 22/200\n",
            "13/13 [==============================] - 2s 122ms/step - loss: 0.0294 - accuracy: 0.9900 - val_loss: 0.2036 - val_accuracy: 0.9700\n",
            "Epoch 23/200\n",
            "13/13 [==============================] - 2s 127ms/step - loss: 0.0387 - accuracy: 0.9850 - val_loss: 0.2425 - val_accuracy: 0.9600\n",
            "Epoch 24/200\n",
            "13/13 [==============================] - 3s 269ms/step - loss: 0.0422 - accuracy: 0.9875 - val_loss: 0.1942 - val_accuracy: 0.9700\n",
            "Epoch 25/200\n",
            "13/13 [==============================] - 2s 157ms/step - loss: 0.0494 - accuracy: 0.9850 - val_loss: 0.2559 - val_accuracy: 0.9600\n",
            "Epoch 26/200\n",
            "13/13 [==============================] - 2s 130ms/step - loss: 0.0455 - accuracy: 0.9825 - val_loss: 0.1971 - val_accuracy: 0.9700\n",
            "Epoch 27/200\n",
            "13/13 [==============================] - 2s 123ms/step - loss: 0.0243 - accuracy: 0.9975 - val_loss: 0.1630 - val_accuracy: 0.9800\n",
            "Epoch 28/200\n",
            "13/13 [==============================] - 2s 123ms/step - loss: 0.0372 - accuracy: 0.9900 - val_loss: 0.2353 - val_accuracy: 0.9700\n",
            "Epoch 29/200\n",
            "13/13 [==============================] - 2s 128ms/step - loss: 0.0275 - accuracy: 0.9875 - val_loss: 0.2255 - val_accuracy: 0.9700\n",
            "Epoch 30/200\n",
            "13/13 [==============================] - 2s 123ms/step - loss: 0.0289 - accuracy: 0.9900 - val_loss: 0.2318 - val_accuracy: 0.9700\n",
            "Epoch 31/200\n",
            "13/13 [==============================] - 2s 172ms/step - loss: 0.0219 - accuracy: 0.9950 - val_loss: 0.2875 - val_accuracy: 0.9600\n",
            "Epoch 32/200\n",
            "13/13 [==============================] - 3s 241ms/step - loss: 0.0354 - accuracy: 0.9925 - val_loss: 0.2714 - val_accuracy: 0.9600\n",
            "Epoch 33/200\n",
            "13/13 [==============================] - 2s 144ms/step - loss: 0.0370 - accuracy: 0.9900 - val_loss: 0.2522 - val_accuracy: 0.9600\n",
            "Epoch 34/200\n",
            "13/13 [==============================] - 2s 131ms/step - loss: 0.0261 - accuracy: 0.9900 - val_loss: 0.2379 - val_accuracy: 0.9700\n",
            "Epoch 35/200\n",
            "13/13 [==============================] - 2s 126ms/step - loss: 0.0320 - accuracy: 0.9875 - val_loss: 0.2311 - val_accuracy: 0.9600\n",
            "Epoch 36/200\n",
            "13/13 [==============================] - 2s 135ms/step - loss: 0.0390 - accuracy: 0.9800 - val_loss: 0.2701 - val_accuracy: 0.9600\n",
            "Epoch 37/200\n",
            "13/13 [==============================] - 2s 139ms/step - loss: 0.0487 - accuracy: 0.9850 - val_loss: 0.2876 - val_accuracy: 0.9500\n",
            "Epoch 38/200\n",
            "13/13 [==============================] - 2s 133ms/step - loss: 0.0379 - accuracy: 0.9925 - val_loss: 0.2461 - val_accuracy: 0.9600\n",
            "Epoch 39/200\n",
            "13/13 [==============================] - 3s 249ms/step - loss: 0.0298 - accuracy: 0.9850 - val_loss: 0.2637 - val_accuracy: 0.9600\n",
            "Epoch 40/200\n",
            "13/13 [==============================] - 3s 204ms/step - loss: 0.0256 - accuracy: 0.9900 - val_loss: 0.2377 - val_accuracy: 0.9600\n",
            "Epoch 41/200\n",
            "13/13 [==============================] - 2s 133ms/step - loss: 0.0248 - accuracy: 0.9925 - val_loss: 0.2496 - val_accuracy: 0.9600\n",
            "Epoch 42/200\n",
            "13/13 [==============================] - 2s 139ms/step - loss: 0.0212 - accuracy: 0.9925 - val_loss: 0.3011 - val_accuracy: 0.9500\n",
            "Epoch 43/200\n",
            "13/13 [==============================] - 2s 137ms/step - loss: 0.0121 - accuracy: 0.9975 - val_loss: 0.2967 - val_accuracy: 0.9500\n",
            "Epoch 44/200\n",
            "13/13 [==============================] - 2s 134ms/step - loss: 0.0099 - accuracy: 1.0000 - val_loss: 0.2687 - val_accuracy: 0.9700\n",
            "Epoch 45/200\n",
            "13/13 [==============================] - 2s 132ms/step - loss: 0.0075 - accuracy: 1.0000 - val_loss: 0.2782 - val_accuracy: 0.9700\n",
            "Epoch 46/200\n",
            "13/13 [==============================] - 2s 194ms/step - loss: 0.0178 - accuracy: 0.9950 - val_loss: 0.2821 - val_accuracy: 0.9700\n",
            "Epoch 47/200\n",
            "13/13 [==============================] - 3s 219ms/step - loss: 0.0164 - accuracy: 0.9975 - val_loss: 0.3542 - val_accuracy: 0.9400\n",
            "Epoch 48/200\n",
            "13/13 [==============================] - 2s 135ms/step - loss: 0.0157 - accuracy: 0.9925 - val_loss: 0.3419 - val_accuracy: 0.9400\n",
            "Epoch 49/200\n",
            "13/13 [==============================] - 2s 130ms/step - loss: 0.0237 - accuracy: 0.9925 - val_loss: 0.3085 - val_accuracy: 0.9600\n",
            "Epoch 50/200\n",
            "13/13 [==============================] - 2s 125ms/step - loss: 0.0125 - accuracy: 0.9975 - val_loss: 0.3286 - val_accuracy: 0.9700\n",
            "Epoch 51/200\n",
            "13/13 [==============================] - 2s 128ms/step - loss: 0.0218 - accuracy: 0.9925 - val_loss: 0.3129 - val_accuracy: 0.9500\n",
            "Epoch 52/200\n",
            "13/13 [==============================] - 2s 128ms/step - loss: 0.0183 - accuracy: 0.9950 - val_loss: 0.3011 - val_accuracy: 0.9400\n",
            "Epoch 53/200\n",
            "13/13 [==============================] - 2s 127ms/step - loss: 0.0301 - accuracy: 0.9900 - val_loss: 0.3378 - val_accuracy: 0.9400\n",
            "Epoch 54/200\n",
            "13/13 [==============================] - 3s 221ms/step - loss: 0.0115 - accuracy: 0.9975 - val_loss: 0.3542 - val_accuracy: 0.9500\n",
            "Epoch 55/200\n",
            "13/13 [==============================] - 3s 209ms/step - loss: 0.0222 - accuracy: 0.9925 - val_loss: 0.3882 - val_accuracy: 0.9400\n",
            "Epoch 56/200\n",
            "13/13 [==============================] - 2s 129ms/step - loss: 0.0165 - accuracy: 0.9950 - val_loss: 0.3189 - val_accuracy: 0.9500\n",
            "Epoch 57/200\n",
            "13/13 [==============================] - 2s 128ms/step - loss: 0.0211 - accuracy: 0.9925 - val_loss: 0.2932 - val_accuracy: 0.9500\n",
            "Epoch 58/200\n",
            "13/13 [==============================] - 2s 134ms/step - loss: 0.0226 - accuracy: 0.9900 - val_loss: 0.2902 - val_accuracy: 0.9600\n",
            "Epoch 59/200\n",
            "13/13 [==============================] - 2s 125ms/step - loss: 0.0286 - accuracy: 0.9875 - val_loss: 0.2733 - val_accuracy: 0.9500\n",
            "Epoch 60/200\n",
            "13/13 [==============================] - 2s 130ms/step - loss: 0.0327 - accuracy: 0.9875 - val_loss: 0.3376 - val_accuracy: 0.9400\n",
            "Epoch 61/200\n",
            "13/13 [==============================] - 3s 239ms/step - loss: 0.0198 - accuracy: 0.9925 - val_loss: 0.2540 - val_accuracy: 0.9600\n",
            "Epoch 62/200\n",
            "13/13 [==============================] - 3s 235ms/step - loss: 0.0153 - accuracy: 0.9950 - val_loss: 0.2663 - val_accuracy: 0.9700\n",
            "Epoch 63/200\n",
            "13/13 [==============================] - 2s 132ms/step - loss: 0.0247 - accuracy: 0.9950 - val_loss: 0.2887 - val_accuracy: 0.9600\n",
            "Epoch 64/200\n",
            "13/13 [==============================] - 2s 126ms/step - loss: 0.0100 - accuracy: 0.9950 - val_loss: 0.2490 - val_accuracy: 0.9700\n",
            "Epoch 65/200\n",
            "13/13 [==============================] - 2s 129ms/step - loss: 0.0125 - accuracy: 0.9950 - val_loss: 0.2386 - val_accuracy: 0.9700\n",
            "Epoch 66/200\n",
            "13/13 [==============================] - 2s 130ms/step - loss: 0.0239 - accuracy: 0.9875 - val_loss: 0.2659 - val_accuracy: 0.9600\n",
            "Epoch 67/200\n",
            "13/13 [==============================] - 2s 126ms/step - loss: 0.0214 - accuracy: 0.9925 - val_loss: 0.3150 - val_accuracy: 0.9400\n",
            "Epoch 68/200\n",
            "13/13 [==============================] - 2s 149ms/step - loss: 0.0106 - accuracy: 0.9975 - val_loss: 0.2462 - val_accuracy: 0.9500\n",
            "Epoch 69/200\n",
            "13/13 [==============================] - 3s 232ms/step - loss: 0.0251 - accuracy: 0.9925 - val_loss: 0.2151 - val_accuracy: 0.9700\n",
            "Epoch 70/200\n",
            "13/13 [==============================] - 2s 178ms/step - loss: 0.0113 - accuracy: 0.9975 - val_loss: 0.2619 - val_accuracy: 0.9600\n",
            "Epoch 71/200\n",
            "13/13 [==============================] - 2s 130ms/step - loss: 0.0441 - accuracy: 0.9875 - val_loss: 0.2299 - val_accuracy: 0.9700\n",
            "Epoch 72/200\n",
            "13/13 [==============================] - 2s 134ms/step - loss: 0.0324 - accuracy: 0.9900 - val_loss: 0.2571 - val_accuracy: 0.9600\n",
            "Epoch 73/200\n",
            "13/13 [==============================] - 2s 134ms/step - loss: 0.0520 - accuracy: 0.9850 - val_loss: 0.3149 - val_accuracy: 0.9500\n",
            "Epoch 74/200\n",
            "13/13 [==============================] - 2s 131ms/step - loss: 0.0298 - accuracy: 0.9900 - val_loss: 0.2565 - val_accuracy: 0.9400\n",
            "Epoch 75/200\n",
            "13/13 [==============================] - 2s 127ms/step - loss: 0.0270 - accuracy: 0.9875 - val_loss: 0.2402 - val_accuracy: 0.9500\n",
            "Epoch 76/200\n",
            "13/13 [==============================] - 2s 191ms/step - loss: 0.0195 - accuracy: 0.9900 - val_loss: 0.2677 - val_accuracy: 0.9600\n",
            "Epoch 77/200\n",
            "13/13 [==============================] - 3s 238ms/step - loss: 0.0094 - accuracy: 0.9975 - val_loss: 0.2840 - val_accuracy: 0.9600\n",
            "Epoch 78/200\n",
            "13/13 [==============================] - 2s 127ms/step - loss: 0.0025 - accuracy: 1.0000 - val_loss: 0.2926 - val_accuracy: 0.9500\n",
            "Epoch 79/200\n",
            "13/13 [==============================] - 2s 128ms/step - loss: 0.0086 - accuracy: 0.9975 - val_loss: 0.2955 - val_accuracy: 0.9600\n",
            "Epoch 80/200\n",
            "13/13 [==============================] - 2s 127ms/step - loss: 0.0136 - accuracy: 0.9950 - val_loss: 0.2917 - val_accuracy: 0.9600\n",
            "Epoch 81/200\n",
            "13/13 [==============================] - 2s 130ms/step - loss: 0.0190 - accuracy: 0.9950 - val_loss: 0.3101 - val_accuracy: 0.9500\n",
            "Epoch 82/200\n",
            "13/13 [==============================] - 2s 128ms/step - loss: 0.0065 - accuracy: 1.0000 - val_loss: 0.3067 - val_accuracy: 0.9500\n",
            "Epoch 83/200\n",
            "13/13 [==============================] - 2s 131ms/step - loss: 0.0169 - accuracy: 0.9925 - val_loss: 0.2660 - val_accuracy: 0.9500\n",
            "Epoch 84/200\n",
            "13/13 [==============================] - 3s 238ms/step - loss: 0.0122 - accuracy: 0.9950 - val_loss: 0.2241 - val_accuracy: 0.9800\n",
            "Epoch 85/200\n",
            "13/13 [==============================] - 3s 252ms/step - loss: 0.0171 - accuracy: 0.9950 - val_loss: 0.2005 - val_accuracy: 0.9800\n",
            "Epoch 86/200\n",
            "13/13 [==============================] - 2s 131ms/step - loss: 0.0032 - accuracy: 1.0000 - val_loss: 0.2073 - val_accuracy: 0.9700\n",
            "Epoch 87/200\n",
            "13/13 [==============================] - 2s 129ms/step - loss: 0.0033 - accuracy: 1.0000 - val_loss: 0.2158 - val_accuracy: 0.9600\n",
            "Epoch 88/200\n",
            "13/13 [==============================] - 2s 131ms/step - loss: 0.0075 - accuracy: 0.9975 - val_loss: 0.2054 - val_accuracy: 0.9700\n",
            "Epoch 89/200\n",
            "13/13 [==============================] - 2s 127ms/step - loss: 0.0038 - accuracy: 1.0000 - val_loss: 0.2226 - val_accuracy: 0.9700\n",
            "Epoch 90/200\n",
            "13/13 [==============================] - 2s 130ms/step - loss: 0.0047 - accuracy: 0.9975 - val_loss: 0.2320 - val_accuracy: 0.9700\n",
            "Epoch 91/200\n",
            "13/13 [==============================] - 3s 205ms/step - loss: 0.0026 - accuracy: 1.0000 - val_loss: 0.2292 - val_accuracy: 0.9700\n",
            "Epoch 92/200\n",
            "13/13 [==============================] - 3s 223ms/step - loss: 0.0131 - accuracy: 0.9975 - val_loss: 0.2340 - val_accuracy: 0.9800\n",
            "Epoch 93/200\n",
            "13/13 [==============================] - 2s 184ms/step - loss: 0.0118 - accuracy: 0.9950 - val_loss: 0.2337 - val_accuracy: 0.9700\n",
            "Epoch 94/200\n",
            "13/13 [==============================] - 3s 232ms/step - loss: 0.0021 - accuracy: 1.0000 - val_loss: 0.2272 - val_accuracy: 0.9700\n",
            "Epoch 95/200\n",
            " 2/13 [===>..........................] - ETA: 2s - loss: 6.4781e-05 - accuracy: 1.0000"
          ]
        },
        {
          "output_type": "error",
          "ename": "KeyboardInterrupt",
          "evalue": "ignored",
          "traceback": [
            "\u001b[0;31m---------------------------------------------------------------------------\u001b[0m",
            "\u001b[0;31mKeyboardInterrupt\u001b[0m                         Traceback (most recent call last)",
            "\u001b[0;32m<ipython-input-17-90d01e55cd57>\u001b[0m in \u001b[0;36m<cell line: 1>\u001b[0;34m()\u001b[0m\n\u001b[0;32m----> 1\u001b[0;31m \u001b[0mmodel\u001b[0m\u001b[0;34m.\u001b[0m\u001b[0mfit\u001b[0m\u001b[0;34m(\u001b[0m\u001b[0mX_train\u001b[0m\u001b[0;34m,\u001b[0m \u001b[0my_train\u001b[0m\u001b[0;34m,\u001b[0m \u001b[0mepochs\u001b[0m\u001b[0;34m=\u001b[0m\u001b[0;36m200\u001b[0m\u001b[0;34m,\u001b[0m \u001b[0mverbose\u001b[0m\u001b[0;34m=\u001b[0m\u001b[0;36m1\u001b[0m\u001b[0;34m,\u001b[0m\u001b[0mvalidation_data\u001b[0m\u001b[0;34m=\u001b[0m\u001b[0;34m(\u001b[0m\u001b[0mX_test\u001b[0m\u001b[0;34m,\u001b[0m \u001b[0my_test\u001b[0m\u001b[0;34m)\u001b[0m\u001b[0;34m)\u001b[0m\u001b[0;34m\u001b[0m\u001b[0;34m\u001b[0m\u001b[0m\n\u001b[0m",
            "\u001b[0;32m/usr/local/lib/python3.10/dist-packages/keras/src/utils/traceback_utils.py\u001b[0m in \u001b[0;36merror_handler\u001b[0;34m(*args, **kwargs)\u001b[0m\n\u001b[1;32m     63\u001b[0m         \u001b[0mfiltered_tb\u001b[0m \u001b[0;34m=\u001b[0m \u001b[0;32mNone\u001b[0m\u001b[0;34m\u001b[0m\u001b[0;34m\u001b[0m\u001b[0m\n\u001b[1;32m     64\u001b[0m         \u001b[0;32mtry\u001b[0m\u001b[0;34m:\u001b[0m\u001b[0;34m\u001b[0m\u001b[0;34m\u001b[0m\u001b[0m\n\u001b[0;32m---> 65\u001b[0;31m             \u001b[0;32mreturn\u001b[0m \u001b[0mfn\u001b[0m\u001b[0;34m(\u001b[0m\u001b[0;34m*\u001b[0m\u001b[0margs\u001b[0m\u001b[0;34m,\u001b[0m \u001b[0;34m**\u001b[0m\u001b[0mkwargs\u001b[0m\u001b[0;34m)\u001b[0m\u001b[0;34m\u001b[0m\u001b[0;34m\u001b[0m\u001b[0m\n\u001b[0m\u001b[1;32m     66\u001b[0m         \u001b[0;32mexcept\u001b[0m \u001b[0mException\u001b[0m \u001b[0;32mas\u001b[0m \u001b[0me\u001b[0m\u001b[0;34m:\u001b[0m\u001b[0;34m\u001b[0m\u001b[0;34m\u001b[0m\u001b[0m\n\u001b[1;32m     67\u001b[0m             \u001b[0mfiltered_tb\u001b[0m \u001b[0;34m=\u001b[0m \u001b[0m_process_traceback_frames\u001b[0m\u001b[0;34m(\u001b[0m\u001b[0me\u001b[0m\u001b[0;34m.\u001b[0m\u001b[0m__traceback__\u001b[0m\u001b[0;34m)\u001b[0m\u001b[0;34m\u001b[0m\u001b[0;34m\u001b[0m\u001b[0m\n",
            "\u001b[0;32m/usr/local/lib/python3.10/dist-packages/keras/src/engine/training.py\u001b[0m in \u001b[0;36mfit\u001b[0;34m(self, x, y, batch_size, epochs, verbose, callbacks, validation_split, validation_data, shuffle, class_weight, sample_weight, initial_epoch, steps_per_epoch, validation_steps, validation_batch_size, validation_freq, max_queue_size, workers, use_multiprocessing)\u001b[0m\n\u001b[1;32m   1781\u001b[0m                         ):\n\u001b[1;32m   1782\u001b[0m                             \u001b[0mcallbacks\u001b[0m\u001b[0;34m.\u001b[0m\u001b[0mon_train_batch_begin\u001b[0m\u001b[0;34m(\u001b[0m\u001b[0mstep\u001b[0m\u001b[0;34m)\u001b[0m\u001b[0;34m\u001b[0m\u001b[0;34m\u001b[0m\u001b[0m\n\u001b[0;32m-> 1783\u001b[0;31m                             \u001b[0mtmp_logs\u001b[0m \u001b[0;34m=\u001b[0m \u001b[0mself\u001b[0m\u001b[0;34m.\u001b[0m\u001b[0mtrain_function\u001b[0m\u001b[0;34m(\u001b[0m\u001b[0miterator\u001b[0m\u001b[0;34m)\u001b[0m\u001b[0;34m\u001b[0m\u001b[0;34m\u001b[0m\u001b[0m\n\u001b[0m\u001b[1;32m   1784\u001b[0m                             \u001b[0;32mif\u001b[0m \u001b[0mdata_handler\u001b[0m\u001b[0;34m.\u001b[0m\u001b[0mshould_sync\u001b[0m\u001b[0;34m:\u001b[0m\u001b[0;34m\u001b[0m\u001b[0;34m\u001b[0m\u001b[0m\n\u001b[1;32m   1785\u001b[0m                                 \u001b[0mcontext\u001b[0m\u001b[0;34m.\u001b[0m\u001b[0masync_wait\u001b[0m\u001b[0;34m(\u001b[0m\u001b[0;34m)\u001b[0m\u001b[0;34m\u001b[0m\u001b[0;34m\u001b[0m\u001b[0m\n",
            "\u001b[0;32m/usr/local/lib/python3.10/dist-packages/tensorflow/python/util/traceback_utils.py\u001b[0m in \u001b[0;36merror_handler\u001b[0;34m(*args, **kwargs)\u001b[0m\n\u001b[1;32m    148\u001b[0m     \u001b[0mfiltered_tb\u001b[0m \u001b[0;34m=\u001b[0m \u001b[0;32mNone\u001b[0m\u001b[0;34m\u001b[0m\u001b[0;34m\u001b[0m\u001b[0m\n\u001b[1;32m    149\u001b[0m     \u001b[0;32mtry\u001b[0m\u001b[0;34m:\u001b[0m\u001b[0;34m\u001b[0m\u001b[0;34m\u001b[0m\u001b[0m\n\u001b[0;32m--> 150\u001b[0;31m       \u001b[0;32mreturn\u001b[0m \u001b[0mfn\u001b[0m\u001b[0;34m(\u001b[0m\u001b[0;34m*\u001b[0m\u001b[0margs\u001b[0m\u001b[0;34m,\u001b[0m \u001b[0;34m**\u001b[0m\u001b[0mkwargs\u001b[0m\u001b[0;34m)\u001b[0m\u001b[0;34m\u001b[0m\u001b[0;34m\u001b[0m\u001b[0m\n\u001b[0m\u001b[1;32m    151\u001b[0m     \u001b[0;32mexcept\u001b[0m \u001b[0mException\u001b[0m \u001b[0;32mas\u001b[0m \u001b[0me\u001b[0m\u001b[0;34m:\u001b[0m\u001b[0;34m\u001b[0m\u001b[0;34m\u001b[0m\u001b[0m\n\u001b[1;32m    152\u001b[0m       \u001b[0mfiltered_tb\u001b[0m \u001b[0;34m=\u001b[0m \u001b[0m_process_traceback_frames\u001b[0m\u001b[0;34m(\u001b[0m\u001b[0me\u001b[0m\u001b[0;34m.\u001b[0m\u001b[0m__traceback__\u001b[0m\u001b[0;34m)\u001b[0m\u001b[0;34m\u001b[0m\u001b[0;34m\u001b[0m\u001b[0m\n",
            "\u001b[0;32m/usr/local/lib/python3.10/dist-packages/tensorflow/python/eager/polymorphic_function/polymorphic_function.py\u001b[0m in \u001b[0;36m__call__\u001b[0;34m(self, *args, **kwds)\u001b[0m\n\u001b[1;32m    829\u001b[0m \u001b[0;34m\u001b[0m\u001b[0m\n\u001b[1;32m    830\u001b[0m       \u001b[0;32mwith\u001b[0m \u001b[0mOptionalXlaContext\u001b[0m\u001b[0;34m(\u001b[0m\u001b[0mself\u001b[0m\u001b[0;34m.\u001b[0m\u001b[0m_jit_compile\u001b[0m\u001b[0;34m)\u001b[0m\u001b[0;34m:\u001b[0m\u001b[0;34m\u001b[0m\u001b[0;34m\u001b[0m\u001b[0m\n\u001b[0;32m--> 831\u001b[0;31m         \u001b[0mresult\u001b[0m \u001b[0;34m=\u001b[0m \u001b[0mself\u001b[0m\u001b[0;34m.\u001b[0m\u001b[0m_call\u001b[0m\u001b[0;34m(\u001b[0m\u001b[0;34m*\u001b[0m\u001b[0margs\u001b[0m\u001b[0;34m,\u001b[0m \u001b[0;34m**\u001b[0m\u001b[0mkwds\u001b[0m\u001b[0;34m)\u001b[0m\u001b[0;34m\u001b[0m\u001b[0;34m\u001b[0m\u001b[0m\n\u001b[0m\u001b[1;32m    832\u001b[0m \u001b[0;34m\u001b[0m\u001b[0m\n\u001b[1;32m    833\u001b[0m       \u001b[0mnew_tracing_count\u001b[0m \u001b[0;34m=\u001b[0m \u001b[0mself\u001b[0m\u001b[0;34m.\u001b[0m\u001b[0mexperimental_get_tracing_count\u001b[0m\u001b[0;34m(\u001b[0m\u001b[0;34m)\u001b[0m\u001b[0;34m\u001b[0m\u001b[0;34m\u001b[0m\u001b[0m\n",
            "\u001b[0;32m/usr/local/lib/python3.10/dist-packages/tensorflow/python/eager/polymorphic_function/polymorphic_function.py\u001b[0m in \u001b[0;36m_call\u001b[0;34m(self, *args, **kwds)\u001b[0m\n\u001b[1;32m    865\u001b[0m       \u001b[0;31m# In this case we have created variables on the first call, so we run the\u001b[0m\u001b[0;34m\u001b[0m\u001b[0;34m\u001b[0m\u001b[0m\n\u001b[1;32m    866\u001b[0m       \u001b[0;31m# defunned version which is guaranteed to never create variables.\u001b[0m\u001b[0;34m\u001b[0m\u001b[0;34m\u001b[0m\u001b[0m\n\u001b[0;32m--> 867\u001b[0;31m       return tracing_compilation.call_function(\n\u001b[0m\u001b[1;32m    868\u001b[0m           \u001b[0margs\u001b[0m\u001b[0;34m,\u001b[0m \u001b[0mkwds\u001b[0m\u001b[0;34m,\u001b[0m \u001b[0mself\u001b[0m\u001b[0;34m.\u001b[0m\u001b[0m_no_variable_creation_config\u001b[0m\u001b[0;34m\u001b[0m\u001b[0;34m\u001b[0m\u001b[0m\n\u001b[1;32m    869\u001b[0m       )\n",
            "\u001b[0;32m/usr/local/lib/python3.10/dist-packages/tensorflow/python/eager/polymorphic_function/tracing_compilation.py\u001b[0m in \u001b[0;36mcall_function\u001b[0;34m(args, kwargs, tracing_options)\u001b[0m\n\u001b[1;32m    137\u001b[0m   \u001b[0mbound_args\u001b[0m \u001b[0;34m=\u001b[0m \u001b[0mfunction\u001b[0m\u001b[0;34m.\u001b[0m\u001b[0mfunction_type\u001b[0m\u001b[0;34m.\u001b[0m\u001b[0mbind\u001b[0m\u001b[0;34m(\u001b[0m\u001b[0;34m*\u001b[0m\u001b[0margs\u001b[0m\u001b[0;34m,\u001b[0m \u001b[0;34m**\u001b[0m\u001b[0mkwargs\u001b[0m\u001b[0;34m)\u001b[0m\u001b[0;34m\u001b[0m\u001b[0;34m\u001b[0m\u001b[0m\n\u001b[1;32m    138\u001b[0m   \u001b[0mflat_inputs\u001b[0m \u001b[0;34m=\u001b[0m \u001b[0mfunction\u001b[0m\u001b[0;34m.\u001b[0m\u001b[0mfunction_type\u001b[0m\u001b[0;34m.\u001b[0m\u001b[0munpack_inputs\u001b[0m\u001b[0;34m(\u001b[0m\u001b[0mbound_args\u001b[0m\u001b[0;34m)\u001b[0m\u001b[0;34m\u001b[0m\u001b[0;34m\u001b[0m\u001b[0m\n\u001b[0;32m--> 139\u001b[0;31m   return function._call_flat(  # pylint: disable=protected-access\n\u001b[0m\u001b[1;32m    140\u001b[0m       \u001b[0mflat_inputs\u001b[0m\u001b[0;34m,\u001b[0m \u001b[0mcaptured_inputs\u001b[0m\u001b[0;34m=\u001b[0m\u001b[0mfunction\u001b[0m\u001b[0;34m.\u001b[0m\u001b[0mcaptured_inputs\u001b[0m\u001b[0;34m\u001b[0m\u001b[0;34m\u001b[0m\u001b[0m\n\u001b[1;32m    141\u001b[0m   )\n",
            "\u001b[0;32m/usr/local/lib/python3.10/dist-packages/tensorflow/python/eager/polymorphic_function/concrete_function.py\u001b[0m in \u001b[0;36m_call_flat\u001b[0;34m(self, tensor_inputs, captured_inputs)\u001b[0m\n\u001b[1;32m   1262\u001b[0m         and executing_eagerly):\n\u001b[1;32m   1263\u001b[0m       \u001b[0;31m# No tape is watching; skip to running the function.\u001b[0m\u001b[0;34m\u001b[0m\u001b[0;34m\u001b[0m\u001b[0m\n\u001b[0;32m-> 1264\u001b[0;31m       \u001b[0;32mreturn\u001b[0m \u001b[0mself\u001b[0m\u001b[0;34m.\u001b[0m\u001b[0m_inference_function\u001b[0m\u001b[0;34m.\u001b[0m\u001b[0mflat_call\u001b[0m\u001b[0;34m(\u001b[0m\u001b[0margs\u001b[0m\u001b[0;34m)\u001b[0m\u001b[0;34m\u001b[0m\u001b[0;34m\u001b[0m\u001b[0m\n\u001b[0m\u001b[1;32m   1265\u001b[0m     forward_backward = self._select_forward_and_backward_functions(\n\u001b[1;32m   1266\u001b[0m         \u001b[0margs\u001b[0m\u001b[0;34m,\u001b[0m\u001b[0;34m\u001b[0m\u001b[0;34m\u001b[0m\u001b[0m\n",
            "\u001b[0;32m/usr/local/lib/python3.10/dist-packages/tensorflow/python/eager/polymorphic_function/atomic_function.py\u001b[0m in \u001b[0;36mflat_call\u001b[0;34m(self, args)\u001b[0m\n\u001b[1;32m    215\u001b[0m   \u001b[0;32mdef\u001b[0m \u001b[0mflat_call\u001b[0m\u001b[0;34m(\u001b[0m\u001b[0mself\u001b[0m\u001b[0;34m,\u001b[0m \u001b[0margs\u001b[0m\u001b[0;34m:\u001b[0m \u001b[0mSequence\u001b[0m\u001b[0;34m[\u001b[0m\u001b[0mcore\u001b[0m\u001b[0;34m.\u001b[0m\u001b[0mTensor\u001b[0m\u001b[0;34m]\u001b[0m\u001b[0;34m)\u001b[0m \u001b[0;34m->\u001b[0m \u001b[0mAny\u001b[0m\u001b[0;34m:\u001b[0m\u001b[0;34m\u001b[0m\u001b[0;34m\u001b[0m\u001b[0m\n\u001b[1;32m    216\u001b[0m     \u001b[0;34m\"\"\"Calls with tensor inputs and returns the structured output.\"\"\"\u001b[0m\u001b[0;34m\u001b[0m\u001b[0;34m\u001b[0m\u001b[0m\n\u001b[0;32m--> 217\u001b[0;31m     \u001b[0mflat_outputs\u001b[0m \u001b[0;34m=\u001b[0m \u001b[0mself\u001b[0m\u001b[0;34m(\u001b[0m\u001b[0;34m*\u001b[0m\u001b[0margs\u001b[0m\u001b[0;34m)\u001b[0m\u001b[0;34m\u001b[0m\u001b[0;34m\u001b[0m\u001b[0m\n\u001b[0m\u001b[1;32m    218\u001b[0m     \u001b[0;32mreturn\u001b[0m \u001b[0mself\u001b[0m\u001b[0;34m.\u001b[0m\u001b[0mfunction_type\u001b[0m\u001b[0;34m.\u001b[0m\u001b[0mpack_output\u001b[0m\u001b[0;34m(\u001b[0m\u001b[0mflat_outputs\u001b[0m\u001b[0;34m)\u001b[0m\u001b[0;34m\u001b[0m\u001b[0;34m\u001b[0m\u001b[0m\n\u001b[1;32m    219\u001b[0m \u001b[0;34m\u001b[0m\u001b[0m\n",
            "\u001b[0;32m/usr/local/lib/python3.10/dist-packages/tensorflow/python/eager/polymorphic_function/atomic_function.py\u001b[0m in \u001b[0;36m__call__\u001b[0;34m(self, *args)\u001b[0m\n\u001b[1;32m    250\u001b[0m         \u001b[0;32mwith\u001b[0m \u001b[0mrecord\u001b[0m\u001b[0;34m.\u001b[0m\u001b[0mstop_recording\u001b[0m\u001b[0;34m(\u001b[0m\u001b[0;34m)\u001b[0m\u001b[0;34m:\u001b[0m\u001b[0;34m\u001b[0m\u001b[0;34m\u001b[0m\u001b[0m\n\u001b[1;32m    251\u001b[0m           \u001b[0;32mif\u001b[0m \u001b[0mself\u001b[0m\u001b[0;34m.\u001b[0m\u001b[0m_bound_context\u001b[0m\u001b[0;34m.\u001b[0m\u001b[0mexecuting_eagerly\u001b[0m\u001b[0;34m(\u001b[0m\u001b[0;34m)\u001b[0m\u001b[0;34m:\u001b[0m\u001b[0;34m\u001b[0m\u001b[0;34m\u001b[0m\u001b[0m\n\u001b[0;32m--> 252\u001b[0;31m             outputs = self._bound_context.call_function(\n\u001b[0m\u001b[1;32m    253\u001b[0m                 \u001b[0mself\u001b[0m\u001b[0;34m.\u001b[0m\u001b[0mname\u001b[0m\u001b[0;34m,\u001b[0m\u001b[0;34m\u001b[0m\u001b[0;34m\u001b[0m\u001b[0m\n\u001b[1;32m    254\u001b[0m                 \u001b[0mlist\u001b[0m\u001b[0;34m(\u001b[0m\u001b[0margs\u001b[0m\u001b[0;34m)\u001b[0m\u001b[0;34m,\u001b[0m\u001b[0;34m\u001b[0m\u001b[0;34m\u001b[0m\u001b[0m\n",
            "\u001b[0;32m/usr/local/lib/python3.10/dist-packages/tensorflow/python/eager/context.py\u001b[0m in \u001b[0;36mcall_function\u001b[0;34m(self, name, tensor_inputs, num_outputs)\u001b[0m\n\u001b[1;32m   1477\u001b[0m     \u001b[0mcancellation_context\u001b[0m \u001b[0;34m=\u001b[0m \u001b[0mcancellation\u001b[0m\u001b[0;34m.\u001b[0m\u001b[0mcontext\u001b[0m\u001b[0;34m(\u001b[0m\u001b[0;34m)\u001b[0m\u001b[0;34m\u001b[0m\u001b[0;34m\u001b[0m\u001b[0m\n\u001b[1;32m   1478\u001b[0m     \u001b[0;32mif\u001b[0m \u001b[0mcancellation_context\u001b[0m \u001b[0;32mis\u001b[0m \u001b[0;32mNone\u001b[0m\u001b[0;34m:\u001b[0m\u001b[0;34m\u001b[0m\u001b[0;34m\u001b[0m\u001b[0m\n\u001b[0;32m-> 1479\u001b[0;31m       outputs = execute.execute(\n\u001b[0m\u001b[1;32m   1480\u001b[0m           \u001b[0mname\u001b[0m\u001b[0;34m.\u001b[0m\u001b[0mdecode\u001b[0m\u001b[0;34m(\u001b[0m\u001b[0;34m\"utf-8\"\u001b[0m\u001b[0;34m)\u001b[0m\u001b[0;34m,\u001b[0m\u001b[0;34m\u001b[0m\u001b[0;34m\u001b[0m\u001b[0m\n\u001b[1;32m   1481\u001b[0m           \u001b[0mnum_outputs\u001b[0m\u001b[0;34m=\u001b[0m\u001b[0mnum_outputs\u001b[0m\u001b[0;34m,\u001b[0m\u001b[0;34m\u001b[0m\u001b[0;34m\u001b[0m\u001b[0m\n",
            "\u001b[0;32m/usr/local/lib/python3.10/dist-packages/tensorflow/python/eager/execute.py\u001b[0m in \u001b[0;36mquick_execute\u001b[0;34m(op_name, num_outputs, inputs, attrs, ctx, name)\u001b[0m\n\u001b[1;32m     58\u001b[0m         \u001b[0;32mfor\u001b[0m \u001b[0mt\u001b[0m \u001b[0;32min\u001b[0m \u001b[0minputs\u001b[0m\u001b[0;34m\u001b[0m\u001b[0;34m\u001b[0m\u001b[0m\n\u001b[1;32m     59\u001b[0m     ]\n\u001b[0;32m---> 60\u001b[0;31m     tensors = pywrap_tfe.TFE_Py_Execute(ctx._handle, device_name, op_name,\n\u001b[0m\u001b[1;32m     61\u001b[0m                                         inputs, attrs, num_outputs)\n\u001b[1;32m     62\u001b[0m   \u001b[0;32mexcept\u001b[0m \u001b[0mcore\u001b[0m\u001b[0;34m.\u001b[0m\u001b[0m_NotOkStatusException\u001b[0m \u001b[0;32mas\u001b[0m \u001b[0me\u001b[0m\u001b[0;34m:\u001b[0m\u001b[0;34m\u001b[0m\u001b[0;34m\u001b[0m\u001b[0m\n",
            "\u001b[0;31mKeyboardInterrupt\u001b[0m: "
          ]
        }
      ]
    },
    {
      "cell_type": "code",
      "source": [
        "from sklearn.metrics import confusion_matrix, ConfusionMatrixDisplay\n",
        "\n",
        "y_pred = model.predict(X_train)\n",
        "Y_pred = np.argmax(y_pred, axis=1)\n",
        "print('Confusion Matrix')\n",
        "target_names = ['0', '1', '2','3', '4', '5', '6', '7', '8', '9']\n",
        "\n",
        "cm = confusion_matrix(Y_train, Y_pred)\n",
        "\n",
        "disp = ConfusionMatrixDisplay(confusion_matrix=cm, display_labels=target_names)\n",
        "disp.plot()\n"
      ],
      "metadata": {
        "colab": {
          "base_uri": "https://localhost:8080/",
          "height": 501
        },
        "id": "46GNDVzPUzHV",
        "outputId": "568444df-6ed6-43f9-e374-144646f34578"
      },
      "execution_count": null,
      "outputs": [
        {
          "output_type": "stream",
          "name": "stdout",
          "text": [
            "13/13 [==============================] - 1s 32ms/step\n",
            "Confusion Matrix\n"
          ]
        },
        {
          "output_type": "execute_result",
          "data": {
            "text/plain": [
              "<sklearn.metrics._plot.confusion_matrix.ConfusionMatrixDisplay at 0x7a8748cd7760>"
            ]
          },
          "metadata": {},
          "execution_count": 18
        },
        {
          "output_type": "display_data",
          "data": {
            "text/plain": [
              "<Figure size 640x480 with 2 Axes>"
            ],
            "image/png": "[encoded data removed]"
          },
          "metadata": {}
        }
      ]
    },
    {
      "cell_type": "code",
      "source": [
        "from sklearn.metrics import classification_report, confusion_matrix\n",
        "\n",
        "y_pred = model.predict(X_test)\n",
        "Y_pred = np.argmax(y_pred, axis=1)\n",
        "print('Confusion Matrix')\n",
        "cm=confusion_matrix(Y_test, Y_pred)\n",
        "print('Classification Report')\n",
        "target_names = ['0', '1', '2','3', '4', '5', '6', '7', '8', '9']\n",
        "\n",
        "disp = ConfusionMatrixDisplay(confusion_matrix=cm, display_labels=target_names)\n",
        "disp.plot()\n",
        "print(classification_report(Y_test, Y_pred, target_names=target_names))"
      ],
      "metadata": {
        "colab": {
          "base_uri": "https://localhost:8080/",
          "height": 796
        },
        "id": "V8uNPtMwW3CM",
        "outputId": "b52803b3-ebcc-4ee6-afeb-11343d3b3560"
      },
      "execution_count": null,
      "outputs": [
        {
          "output_type": "stream",
          "name": "stdout",
          "text": [
            "4/4 [==============================] - 0s 24ms/step\n",
            "Confusion Matrix\n",
            "Classification Report\n",
            "              precision    recall  f1-score   support\n",
            "\n",
            "           0       1.00      1.00      1.00        10\n",
            "           1       1.00      0.92      0.96        13\n",
            "           2       1.00      1.00      1.00         8\n",
            "           3       0.91      1.00      0.95        10\n",
            "           4       1.00      1.00      1.00        11\n",
            "           5       0.88      1.00      0.93         7\n",
            "           6       1.00      1.00      1.00        10\n",
            "           7       1.00      0.80      0.89        10\n",
            "           8       1.00      1.00      1.00         8\n",
            "           9       0.93      1.00      0.96        13\n",
            "\n",
            "    accuracy                           0.97       100\n",
            "   macro avg       0.97      0.97      0.97       100\n",
            "weighted avg       0.97      0.97      0.97       100\n",
            "\n"
          ]
        },
        {
          "output_type": "display_data",
          "data": {
            "text/plain": [
              "<Figure size 640x480 with 2 Axes>"
            ],
            "image/png": "[encoded data removed]"
          },
          "metadata": {}
        }
      ]
    },
    {
      "cell_type": "code",
      "metadata": {
        "id": "Pvg8sFx_KbJt"
      },
      "source": [
        "\n",
        "from keras.callbacks import ModelCheckpoint, EarlyStopping\n",
        "filepath=path+\"/weights-1-{epoch:02d}-{loss:.4f}.hdf5\""
      ],
      "execution_count": null,
      "outputs": []
    },
    {
      "cell_type": "code",
      "source": [],
      "metadata": {
        "id": "1mBREQP7W1tm"
      },
      "execution_count": null,
      "outputs": []
    },
    {
      "cell_type": "code",
      "source": [
        "model.compile(loss='categorical_crossentropy', optimizer='Adam', metrics=[\"accuracy\"])\n"
      ],
      "metadata": {
        "id": "EkRxm9GUT8uS"
      },
      "execution_count": null,
      "outputs": []
    },
    {
      "cell_type": "code",
      "metadata": {
        "id": "zOhLYfuTI5WA",
        "colab": {
          "base_uri": "https://localhost:8080/"
        },
        "outputId": "3bb93600-79dc-466f-c6a0-1097453cfd1b"
      },
      "source": [
        "#cb = [EarlyStopping(monitor='val_loss', patience=5)]\n",
        "cb=[ModelCheckpoint(filepath=filepath, monitor='val_accuracy', save_best_only=True,mode='max',verbose=1)]\n",
        "\n",
        "history=model.fit(X_train, y_train,epochs=20, verbose=1,validation_data=(X_test, y_test),callbacks=cb)\n",
        "\n"
      ],
      "execution_count": null,
      "outputs": [
        {
          "output_type": "stream",
          "name": "stdout",
          "text": [
            "Epoch 1/20\n",
            "13/13 [==============================] - ETA: 0s - loss: 0.0278 - accuracy: 0.9950\n",
            "Epoch 1: val_accuracy improved from -inf to 0.96000, saving model to /content/gdrive/My Drive/data/weights-1-01-0.0278.hdf5\n",
            "13/13 [==============================] - 3s 140ms/step - loss: 0.0278 - accuracy: 0.9950 - val_loss: 0.2883 - val_accuracy: 0.9600\n",
            "Epoch 2/20\n",
            " 1/13 [=>............................] - ETA: 1s - loss: 0.0058 - accuracy: 1.0000"
          ]
        },
        {
          "output_type": "stream",
          "name": "stderr",
          "text": [
            "/usr/local/lib/python3.10/dist-packages/keras/src/engine/training.py:3079: UserWarning: You are saving your model as an HDF5 file via `model.save()`. This file format is considered legacy. We recommend using instead the native Keras format, e.g. `model.save('my_model.keras')`.\n",
            "  saving_api.save_model(\n"
          ]
        },
        {
          "output_type": "stream",
          "name": "stdout",
          "text": [
            "13/13 [==============================] - ETA: 0s - loss: 0.0039 - accuracy: 1.0000\n",
            "Epoch 2: val_accuracy did not improve from 0.96000\n",
            "13/13 [==============================] - 3s 202ms/step - loss: 0.0039 - accuracy: 1.0000 - val_loss: 0.3460 - val_accuracy: 0.9600\n",
            "Epoch 3/20\n",
            "13/13 [==============================] - ETA: 0s - loss: 8.1103e-04 - accuracy: 1.0000\n",
            "Epoch 3: val_accuracy did not improve from 0.96000\n",
            "13/13 [==============================] - 3s 216ms/step - loss: 8.1103e-04 - accuracy: 1.0000 - val_loss: 0.4456 - val_accuracy: 0.9600\n",
            "Epoch 4/20\n",
            "13/13 [==============================] - ETA: 0s - loss: 0.0041 - accuracy: 0.9975\n",
            "Epoch 4: val_accuracy did not improve from 0.96000\n",
            "13/13 [==============================] - 2s 121ms/step - loss: 0.0041 - accuracy: 0.9975 - val_loss: 0.3901 - val_accuracy: 0.9600\n",
            "Epoch 5/20\n",
            "13/13 [==============================] - ETA: 0s - loss: 0.0038 - accuracy: 0.9975\n",
            "Epoch 5: val_accuracy improved from 0.96000 to 0.97000, saving model to /content/gdrive/My Drive/data/weights-1-05-0.0038.hdf5\n",
            "13/13 [==============================] - 2s 126ms/step - loss: 0.0038 - accuracy: 0.9975 - val_loss: 0.3088 - val_accuracy: 0.9700\n",
            "Epoch 6/20\n",
            "13/13 [==============================] - ETA: 0s - loss: 0.0102 - accuracy: 0.9950\n",
            "Epoch 6: val_accuracy did not improve from 0.97000\n",
            "13/13 [==============================] - 2s 127ms/step - loss: 0.0102 - accuracy: 0.9950 - val_loss: 0.2818 - val_accuracy: 0.9500\n",
            "Epoch 7/20\n",
            "13/13 [==============================] - ETA: 0s - loss: 0.0140 - accuracy: 0.9950\n",
            "Epoch 7: val_accuracy did not improve from 0.97000\n",
            "13/13 [==============================] - 2s 120ms/step - loss: 0.0140 - accuracy: 0.9950 - val_loss: 0.2789 - val_accuracy: 0.9700\n",
            "Epoch 8/20\n",
            "13/13 [==============================] - ETA: 0s - loss: 0.0131 - accuracy: 0.9950\n",
            "Epoch 8: val_accuracy did not improve from 0.97000\n",
            "13/13 [==============================] - 2s 120ms/step - loss: 0.0131 - accuracy: 0.9950 - val_loss: 0.2574 - val_accuracy: 0.9700\n",
            "Epoch 9/20\n",
            "13/13 [==============================] - ETA: 0s - loss: 0.0210 - accuracy: 0.9950\n",
            "Epoch 9: val_accuracy did not improve from 0.97000\n",
            "13/13 [==============================] - 2s 120ms/step - loss: 0.0210 - accuracy: 0.9950 - val_loss: 0.4074 - val_accuracy: 0.9400\n",
            "Epoch 10/20\n",
            "13/13 [==============================] - ETA: 0s - loss: 0.0571 - accuracy: 0.9875\n",
            "Epoch 10: val_accuracy did not improve from 0.97000\n",
            "13/13 [==============================] - 3s 205ms/step - loss: 0.0571 - accuracy: 0.9875 - val_loss: 0.3788 - val_accuracy: 0.9500\n",
            "Epoch 11/20\n",
            "13/13 [==============================] - ETA: 0s - loss: 0.0061 - accuracy: 1.0000\n",
            "Epoch 11: val_accuracy did not improve from 0.97000\n",
            "13/13 [==============================] - 3s 237ms/step - loss: 0.0061 - accuracy: 1.0000 - val_loss: 0.3262 - val_accuracy: 0.9500\n",
            "Epoch 12/20\n",
            "13/13 [==============================] - ETA: 0s - loss: 0.0206 - accuracy: 0.9900\n",
            "Epoch 12: val_accuracy did not improve from 0.97000\n",
            "13/13 [==============================] - 3s 226ms/step - loss: 0.0206 - accuracy: 0.9900 - val_loss: 0.3586 - val_accuracy: 0.9600\n",
            "Epoch 13/20\n",
            "13/13 [==============================] - ETA: 0s - loss: 0.0289 - accuracy: 0.9900\n",
            "Epoch 13: val_accuracy did not improve from 0.97000\n",
            "13/13 [==============================] - 2s 157ms/step - loss: 0.0289 - accuracy: 0.9900 - val_loss: 0.3289 - val_accuracy: 0.9500\n",
            "Epoch 14/20\n",
            "13/13 [==============================] - ETA: 0s - loss: 0.0086 - accuracy: 0.9975\n",
            "Epoch 14: val_accuracy did not improve from 0.97000\n",
            "13/13 [==============================] - 2s 121ms/step - loss: 0.0086 - accuracy: 0.9975 - val_loss: 0.2197 - val_accuracy: 0.9600\n",
            "Epoch 15/20\n",
            "13/13 [==============================] - ETA: 0s - loss: 0.0241 - accuracy: 0.9950\n",
            "Epoch 15: val_accuracy did not improve from 0.97000\n",
            "13/13 [==============================] - 2s 121ms/step - loss: 0.0241 - accuracy: 0.9950 - val_loss: 0.1944 - val_accuracy: 0.9600\n",
            "Epoch 16/20\n",
            "13/13 [==============================] - ETA: 0s - loss: 0.0046 - accuracy: 1.0000\n",
            "Epoch 16: val_accuracy did not improve from 0.97000\n",
            "13/13 [==============================] - 2s 126ms/step - loss: 0.0046 - accuracy: 1.0000 - val_loss: 0.2218 - val_accuracy: 0.9600\n",
            "Epoch 17/20\n",
            "13/13 [==============================] - ETA: 0s - loss: 0.0210 - accuracy: 0.9950\n",
            "Epoch 17: val_accuracy did not improve from 0.97000\n",
            "13/13 [==============================] - 2s 198ms/step - loss: 0.0210 - accuracy: 0.9950 - val_loss: 0.2743 - val_accuracy: 0.9600\n",
            "Epoch 18/20\n",
            "13/13 [==============================] - ETA: 0s - loss: 0.0112 - accuracy: 0.9950\n",
            "Epoch 18: val_accuracy did not improve from 0.97000\n",
            "13/13 [==============================] - 3s 216ms/step - loss: 0.0112 - accuracy: 0.9950 - val_loss: 0.3073 - val_accuracy: 0.9700\n",
            "Epoch 19/20\n",
            "13/13 [==============================] - ETA: 0s - loss: 0.0050 - accuracy: 1.0000\n",
            "Epoch 19: val_accuracy did not improve from 0.97000\n",
            "13/13 [==============================] - 2s 123ms/step - loss: 0.0050 - accuracy: 1.0000 - val_loss: 0.2996 - val_accuracy: 0.9600\n",
            "Epoch 20/20\n",
            "13/13 [==============================] - ETA: 0s - loss: 0.0167 - accuracy: 0.9950\n",
            "Epoch 20: val_accuracy did not improve from 0.97000\n",
            "13/13 [==============================] - 2s 123ms/step - loss: 0.0167 - accuracy: 0.9950 - val_loss: 0.2880 - val_accuracy: 0.9600\n"
          ]
        }
      ]
    },
    {
      "cell_type": "code",
      "metadata": {
        "id": "GyP4GPx4L8ll",
        "colab": {
          "base_uri": "https://localhost:8080/"
        },
        "outputId": "41516059-c4a3-4261-812b-a479ca0473a1"
      },
      "source": [
        "model.summary()"
      ],
      "execution_count": null,
      "outputs": [
        {
          "output_type": "stream",
          "name": "stdout",
          "text": [
            "Model: \"sequential\"\n",
            "_________________________________________________________________\n",
            " Layer (type)                Output Shape              Param #   \n",
            "=================================================================\n",
            " conv2d (Conv2D)             (None, 26, 26, 32)        320       \n",
            "                                                                 \n",
            " conv2d_1 (Conv2D)           (None, 24, 24, 64)        18496     \n",
            "                                                                 \n",
            " max_pooling2d (MaxPooling2  (None, 8, 8, 64)          0         \n",
            " D)                                                              \n",
            "                                                                 \n",
            " dropout (Dropout)           (None, 8, 8, 64)          0         \n",
            "                                                                 \n",
            " flatten (Flatten)           (None, 4096)              0         \n",
            "                                                                 \n",
            " dense (Dense)               (None, 128)               524416    \n",
            "                                                                 \n",
            " dropout_1 (Dropout)         (None, 128)               0         \n",
            "                                                                 \n",
            " dense_1 (Dense)             (None, 10)                1290      \n",
            "                                                                 \n",
            "=================================================================\n",
            "Total params: 544522 (2.08 MB)\n",
            "Trainable params: 544522 (2.08 MB)\n",
            "Non-trainable params: 0 (0.00 Byte)\n",
            "_________________________________________________________________\n"
          ]
        }
      ]
    },
    {
      "cell_type": "code",
      "metadata": {
        "id": "Rn4tzF1OI5WE",
        "colab": {
          "base_uri": "https://localhost:8080/",
          "height": 430
        },
        "outputId": "bcb8cb97-32bc-489a-da10-de69e9166993"
      },
      "source": [
        "import matplotlib.pyplot as plt\n",
        "plt.plot(history.history['loss'], label='train')\n",
        "plt.plot(history.history['val_loss'], label='test')\n",
        "plt.legend()\n",
        "plt.show()"
      ],
      "execution_count": null,
      "outputs": [
        {
          "output_type": "display_data",
          "data": {
            "text/plain": [
              "<Figure size 640x480 with 1 Axes>"
            ],
            "image/png": "[encoded data removed]"
          },
          "metadata": {}
        }
      ]
    },
    {
      "cell_type": "code",
      "metadata": {
        "id": "GorpA0OlLVAE",
        "colab": {
          "base_uri": "https://localhost:8080/",
          "height": 430
        },
        "outputId": "0661f204-9408-44f2-f138-e90ff340a8a3"
      },
      "source": [
        "plt.plot(history.history['accuracy'], label='train')\n",
        "plt.plot(history.history['val_accuracy'], label='test')\n",
        "plt.legend()\n",
        "plt.show()"
      ],
      "execution_count": null,
      "outputs": [
        {
          "output_type": "display_data",
          "data": {
            "text/plain": [
              "<Figure size 640x480 with 1 Axes>"
            ],
            "image/png": "[encoded data removed]"
          },
          "metadata": {}
        }
      ]
    },
    {
      "cell_type": "code",
      "metadata": {
        "id": "cFJ3L5rKMDKU"
      },
      "source": [
        "drive.flush_and_unmount"
      ],
      "execution_count": null,
      "outputs": []
    },
    {
      "cell_type": "code",
      "metadata": {
        "id": "6G8ZAs-AmZU7"
      },
      "source": [
        "756/150*181\n"
      ],
      "execution_count": null,
      "outputs": []
    },
    {
      "cell_type": "code",
      "metadata": {
        "id": "WVDpuH2JfXXQ",
        "colab": {
          "base_uri": "https://localhost:8080/"
        },
        "outputId": "80c656cd-609f-4a2d-8714-ee7914fcb370"
      },
      "source": [
        "\n",
        "model.summary()"
      ],
      "execution_count": null,
      "outputs": [
        {
          "output_type": "stream",
          "name": "stdout",
          "text": [
            "Model: \"sequential_1\"\n",
            "_________________________________________________________________\n",
            " Layer (type)                Output Shape              Param #   \n",
            "=================================================================\n",
            " conv2d_2 (Conv2D)           (None, 26, 26, 32)        320       \n",
            "                                                                 \n",
            " conv2d_3 (Conv2D)           (None, 24, 24, 64)        18496     \n",
            "                                                                 \n",
            " max_pooling2d_1 (MaxPooling  (None, 8, 8, 64)         0         \n",
            " 2D)                                                             \n",
            "                                                                 \n",
            " dropout_2 (Dropout)         (None, 8, 8, 64)          0         \n",
            "                                                                 \n",
            " flatten_1 (Flatten)         (None, 4096)              0         \n",
            "                                                                 \n",
            " dense_2 (Dense)             (None, 128)               524416    \n",
            "                                                                 \n",
            " dropout_3 (Dropout)         (None, 128)               0         \n",
            "                                                                 \n",
            " dense_3 (Dense)             (None, 10)                1290      \n",
            "                                                                 \n",
            "=================================================================\n",
            "Total params: 544,522\n",
            "Trainable params: 544,522\n",
            "Non-trainable params: 0\n",
            "_________________________________________________________________\n"
          ]
        }
      ]
    },
    {
      "cell_type": "code",
      "source": [
        "!pip install tensorflow scikeras scikit-learn\n",
        "from scikeras.wrappers import KerasClassifier\n"
      ],
      "metadata": {
        "colab": {
          "base_uri": "https://localhost:8080/"
        },
        "id": "N210nH7XaTly",
        "outputId": "3b2e8158-bba8-4dcb-98bc-7aaa4f6d2121"
      },
      "execution_count": null,
      "outputs": [
        {
          "output_type": "stream",
          "name": "stdout",
          "text": [
            "Requirement already satisfied: tensorflow in /usr/local/lib/python3.10/dist-packages (2.14.0)\n",
            "Collecting scikeras\n",
            "  Downloading scikeras-0.12.0-py3-none-any.whl (27 kB)\n",
            "Requirement already satisfied: scikit-learn in /usr/local/lib/python3.10/dist-packages (1.2.2)\n",
            "Requirement already satisfied: absl-py>=1.0.0 in /usr/local/lib/python3.10/dist-packages (from tensorflow) (1.4.0)\n",
            "Requirement already satisfied: astunparse>=1.6.0 in /usr/local/lib/python3.10/dist-packages (from tensorflow) (1.6.3)\n",
            "Requirement already satisfied: flatbuffers>=23.5.26 in /usr/local/lib/python3.10/dist-packages (from tensorflow) (23.5.26)\n",
            "Requirement already satisfied: gast!=0.5.0,!=0.5.1,!=0.5.2,>=0.2.1 in /usr/local/lib/python3.10/dist-packages (from tensorflow) (0.5.4)\n",
            "Requirement already satisfied: google-pasta>=0.1.1 in /usr/local/lib/python3.10/dist-packages (from tensorflow) (0.2.0)\n",
            "Requirement already satisfied: h5py>=2.9.0 in /usr/local/lib/python3.10/dist-packages (from tensorflow) (3.9.0)\n",
            "Requirement already satisfied: libclang>=13.0.0 in /usr/local/lib/python3.10/dist-packages (from tensorflow) (16.0.6)\n",
            "Requirement already satisfied: ml-dtypes==0.2.0 in /usr/local/lib/python3.10/dist-packages (from tensorflow) (0.2.0)\n",
            "Requirement already satisfied: numpy>=1.23.5 in /usr/local/lib/python3.10/dist-packages (from tensorflow) (1.23.5)\n",
            "Requirement already satisfied: opt-einsum>=2.3.2 in /usr/local/lib/python3.10/dist-packages (from tensorflow) (3.3.0)\n",
            "Requirement already satisfied: packaging in /usr/local/lib/python3.10/dist-packages (from tensorflow) (23.2)\n",
            "Requirement already satisfied: protobuf!=4.21.0,!=4.21.1,!=4.21.2,!=4.21.3,!=4.21.4,!=4.21.5,<5.0.0dev,>=3.20.3 in /usr/local/lib/python3.10/dist-packages (from tensorflow) (3.20.3)\n",
            "Requirement already satisfied: setuptools in /usr/local/lib/python3.10/dist-packages (from tensorflow) (67.7.2)\n",
            "Requirement already satisfied: six>=1.12.0 in /usr/local/lib/python3.10/dist-packages (from tensorflow) (1.16.0)\n",
            "Requirement already satisfied: termcolor>=1.1.0 in /usr/local/lib/python3.10/dist-packages (from tensorflow) (2.3.0)\n",
            "Requirement already satisfied: typing-extensions>=3.6.6 in /usr/local/lib/python3.10/dist-packages (from tensorflow) (4.5.0)\n",
            "Requirement already satisfied: wrapt<1.15,>=1.11.0 in /usr/local/lib/python3.10/dist-packages (from tensorflow) (1.14.1)\n",
            "Requirement already satisfied: tensorflow-io-gcs-filesystem>=0.23.1 in /usr/local/lib/python3.10/dist-packages (from tensorflow) (0.34.0)\n",
            "Requirement already satisfied: grpcio<2.0,>=1.24.3 in /usr/local/lib/python3.10/dist-packages (from tensorflow) (1.59.0)\n",
            "Requirement already satisfied: tensorboard<2.15,>=2.14 in /usr/local/lib/python3.10/dist-packages (from tensorflow) (2.14.1)\n",
            "Requirement already satisfied: tensorflow-estimator<2.15,>=2.14.0 in /usr/local/lib/python3.10/dist-packages (from tensorflow) (2.14.0)\n",
            "Requirement already satisfied: keras<2.15,>=2.14.0 in /usr/local/lib/python3.10/dist-packages (from tensorflow) (2.14.0)\n",
            "Requirement already satisfied: scipy>=1.3.2 in /usr/local/lib/python3.10/dist-packages (from scikit-learn) (1.11.3)\n",
            "Requirement already satisfied: joblib>=1.1.1 in /usr/local/lib/python3.10/dist-packages (from scikit-learn) (1.3.2)\n",
            "Requirement already satisfied: threadpoolctl>=2.0.0 in /usr/local/lib/python3.10/dist-packages (from scikit-learn) (3.2.0)\n",
            "Requirement already satisfied: wheel<1.0,>=0.23.0 in /usr/local/lib/python3.10/dist-packages (from astunparse>=1.6.0->tensorflow) (0.41.2)\n",
            "Requirement already satisfied: google-auth<3,>=1.6.3 in /usr/local/lib/python3.10/dist-packages (from tensorboard<2.15,>=2.14->tensorflow) (2.17.3)\n",
            "Requirement already satisfied: google-auth-oauthlib<1.1,>=0.5 in /usr/local/lib/python3.10/dist-packages (from tensorboard<2.15,>=2.14->tensorflow) (1.0.0)\n",
            "Requirement already satisfied: markdown>=2.6.8 in /usr/local/lib/python3.10/dist-packages (from tensorboard<2.15,>=2.14->tensorflow) (3.5)\n",
            "Requirement already satisfied: requests<3,>=2.21.0 in /usr/local/lib/python3.10/dist-packages (from tensorboard<2.15,>=2.14->tensorflow) (2.31.0)\n",
            "Requirement already satisfied: tensorboard-data-server<0.8.0,>=0.7.0 in /usr/local/lib/python3.10/dist-packages (from tensorboard<2.15,>=2.14->tensorflow) (0.7.2)\n",
            "Requirement already satisfied: werkzeug>=1.0.1 in /usr/local/lib/python3.10/dist-packages (from tensorboard<2.15,>=2.14->tensorflow) (3.0.1)\n",
            "Requirement already satisfied: cachetools<6.0,>=2.0.0 in /usr/local/lib/python3.10/dist-packages (from google-auth<3,>=1.6.3->tensorboard<2.15,>=2.14->tensorflow) (5.3.2)\n",
            "Requirement already satisfied: pyasn1-modules>=0.2.1 in /usr/local/lib/python3.10/dist-packages (from google-auth<3,>=1.6.3->tensorboard<2.15,>=2.14->tensorflow) (0.3.0)\n",
            "Requirement already satisfied: rsa<5,>=3.1.4 in /usr/local/lib/python3.10/dist-packages (from google-auth<3,>=1.6.3->tensorboard<2.15,>=2.14->tensorflow) (4.9)\n",
            "Requirement already satisfied: requests-oauthlib>=0.7.0 in /usr/local/lib/python3.10/dist-packages (from google-auth-oauthlib<1.1,>=0.5->tensorboard<2.15,>=2.14->tensorflow) (1.3.1)\n",
            "Requirement already satisfied: charset-normalizer<4,>=2 in /usr/local/lib/python3.10/dist-packages (from requests<3,>=2.21.0->tensorboard<2.15,>=2.14->tensorflow) (3.3.1)\n",
            "Requirement already satisfied: idna<4,>=2.5 in /usr/local/lib/python3.10/dist-packages (from requests<3,>=2.21.0->tensorboard<2.15,>=2.14->tensorflow) (3.4)\n",
            "Requirement already satisfied: urllib3<3,>=1.21.1 in /usr/local/lib/python3.10/dist-packages (from requests<3,>=2.21.0->tensorboard<2.15,>=2.14->tensorflow) (2.0.7)\n",
            "Requirement already satisfied: certifi>=2017.4.17 in /usr/local/lib/python3.10/dist-packages (from requests<3,>=2.21.0->tensorboard<2.15,>=2.14->tensorflow) (2023.7.22)\n",
            "Requirement already satisfied: MarkupSafe>=2.1.1 in /usr/local/lib/python3.10/dist-packages (from werkzeug>=1.0.1->tensorboard<2.15,>=2.14->tensorflow) (2.1.3)\n",
            "Requirement already satisfied: pyasn1<0.6.0,>=0.4.6 in /usr/local/lib/python3.10/dist-packages (from pyasn1-modules>=0.2.1->google-auth<3,>=1.6.3->tensorboard<2.15,>=2.14->tensorflow) (0.5.0)\n",
            "Requirement already satisfied: oauthlib>=3.0.0 in /usr/local/lib/python3.10/dist-packages (from requests-oauthlib>=0.7.0->google-auth-oauthlib<1.1,>=0.5->tensorboard<2.15,>=2.14->tensorflow) (3.2.2)\n",
            "Installing collected packages: scikeras\n",
            "Successfully installed scikeras-0.12.0\n"
          ]
        }
      ]
    },
    {
      "cell_type": "code",
      "source": [
        "from scikeras.wrappers import KerasClassifier\n",
        "from sklearn.model_selection import GridSearchCV"
      ],
      "metadata": {
        "id": "O6V94NySZtiQ"
      },
      "execution_count": null,
      "outputs": []
    },
    {
      "cell_type": "code",
      "source": [
        "def create_network(optimizer=\"rmsprop\"):\n",
        "\n",
        "  #Define the model achitecture\n",
        "  model = Sequential()\n",
        "  model.add(Conv2D(64, kernel_size=(3, 3),\n",
        "                  activation='relu',\n",
        "                  input_shape=input_shape))\n",
        "  model.add(Conv2D(64, (3, 3), activation='relu')) # (32 *64+(3*3))+64\n",
        "  model.add(MaxPooling2D(pool_size=(3, 3)))\n",
        "  model.add(Dropout(0.25))\n",
        "  model.add(Flatten())\n",
        "  model.add(Dense(128, activation='relu'))\n",
        "  model.add(Dropout(0.5))\n",
        "  model.add(Dense(10, activation='softmax'))\n",
        "  model.compile(loss='categorical_crossentropy', optimizer=optimizer, metrics=[\"accuracy\"])\n",
        "  model.summary()\n",
        "  return model"
      ],
      "metadata": {
        "id": "rr1eyXwQau9H"
      },
      "execution_count": null,
      "outputs": []
    },
    {
      "cell_type": "code",
      "metadata": {
        "id": "s419wjORgCge",
        "colab": {
          "base_uri": "https://localhost:8080/"
        },
        "outputId": "0f891e7a-649a-4b09-838e-a84e71f570b0"
      },
      "source": [
        "network=KerasClassifier(build_fn=create_network,verbose=1)\n",
        "epochs=[5,10]\n",
        "batches=[10,50,100]\n",
        "optimizer=[\"rmsprop\",\"adam\"]\n",
        "\n",
        "\n",
        "param_grid = dict(epochs=epochs,batch_size=batches,optimizer=optimizer)\n",
        "grid = GridSearchCV(estimator=network, param_grid=param_grid, n_jobs=-1,)\n",
        "grid_result = grid.fit(X_train,y_train)"
      ],
      "execution_count": null,
      "outputs": [
        {
          "output_type": "stream",
          "name": "stdout",
          "text": [
            "Model: \"sequential_5\"\n",
            "_________________________________________________________________\n",
            " Layer (type)                Output Shape              Param #   \n",
            "=================================================================\n",
            " conv2d_10 (Conv2D)          (None, 26, 26, 64)        640       \n",
            "                                                                 \n",
            " conv2d_11 (Conv2D)          (None, 24, 24, 64)        36928     \n",
            "                                                                 \n",
            " max_pooling2d_5 (MaxPoolin  (None, 8, 8, 64)          0         \n",
            " g2D)                                                            \n",
            "                                                                 \n",
            " dropout_10 (Dropout)        (None, 8, 8, 64)          0         \n",
            "                                                                 \n",
            " flatten_5 (Flatten)         (None, 4096)              0         \n",
            "                                                                 \n",
            " dense_10 (Dense)            (None, 128)               524416    \n",
            "                                                                 \n",
            " dropout_11 (Dropout)        (None, 128)               0         \n",
            "                                                                 \n",
            " dense_11 (Dense)            (None, 10)                1290      \n",
            "                                                                 \n",
            "=================================================================\n",
            "Total params: 563274 (2.15 MB)\n",
            "Trainable params: 563274 (2.15 MB)\n",
            "Non-trainable params: 0 (0.00 Byte)\n",
            "_________________________________________________________________\n"
          ]
        },
        {
          "output_type": "stream",
          "name": "stderr",
          "text": [
            "/usr/local/lib/python3.10/dist-packages/scikeras/wrappers.py:915: UserWarning: ``build_fn`` will be renamed to ``model`` in a future release, at which point use of ``build_fn`` will raise an Error instead.\n",
            "  X, y = self._initialize(X, y)\n"
          ]
        },
        {
          "output_type": "stream",
          "name": "stdout",
          "text": [
            "Epoch 1/5\n",
            "40/40 [==============================] - 2s 42ms/step - loss: 1.8753 - accuracy: 0.3750\n",
            "Epoch 2/5\n",
            "40/40 [==============================] - 2s 52ms/step - loss: 0.8290 - accuracy: 0.7325\n",
            "Epoch 3/5\n",
            "40/40 [==============================] - 4s 103ms/step - loss: 0.4986 - accuracy: 0.8375\n",
            "Epoch 4/5\n",
            "40/40 [==============================] - 4s 93ms/step - loss: 0.3974 - accuracy: 0.8750\n",
            "Epoch 5/5\n",
            "40/40 [==============================] - 3s 75ms/step - loss: 0.3210 - accuracy: 0.9125\n"
          ]
        }
      ]
    },
    {
      "cell_type": "markdown",
      "source": [
        "# New Section"
      ],
      "metadata": {
        "id": "FeWVypxid0bW"
      }
    },
    {
      "cell_type": "code",
      "source": [
        "print(\"Best: %f using %s\" % (grid_result.best_score_, grid_result.best_params_))\n",
        "means = grid_result.cv_results_['mean_test_score']\n",
        "stds = grid_result.cv_results_['std_test_score']\n",
        "params = grid_result.cv_results_['params']\n",
        "for mean, stdev, param in zip(means, stds, params):\n",
        "    print(\"%f (%f) with: %r\" % (mean, stdev, param))"
      ],
      "metadata": {
        "colab": {
          "base_uri": "https://localhost:8080/"
        },
        "id": "mlLFUOzlbIYf",
        "outputId": "f999e065-56ab-4306-a76b-f6a4f83d816a"
      },
      "execution_count": null,
      "outputs": [
        {
          "output_type": "stream",
          "name": "stdout",
          "text": [
            "Best: 0.915000 using {'batch_size': 10, 'epochs': 5, 'optimizer': 'rmsprop'}\n",
            "0.915000 (0.034821) with: {'batch_size': 10, 'epochs': 5, 'optimizer': 'rmsprop'}\n",
            "0.880000 (0.055678) with: {'batch_size': 10, 'epochs': 5, 'optimizer': 'adam'}\n",
            "0.902500 (0.033912) with: {'batch_size': 10, 'epochs': 10, 'optimizer': 'rmsprop'}\n",
            "0.895000 (0.045139) with: {'batch_size': 10, 'epochs': 10, 'optimizer': 'adam'}\n",
            "0.820000 (0.034095) with: {'batch_size': 50, 'epochs': 5, 'optimizer': 'rmsprop'}\n",
            "0.842500 (0.023184) with: {'batch_size': 50, 'epochs': 5, 'optimizer': 'adam'}\n",
            "0.855000 (0.043012) with: {'batch_size': 50, 'epochs': 10, 'optimizer': 'rmsprop'}\n",
            "0.880000 (0.046503) with: {'batch_size': 50, 'epochs': 10, 'optimizer': 'adam'}\n",
            "0.805000 (0.018708) with: {'batch_size': 100, 'epochs': 5, 'optimizer': 'rmsprop'}\n",
            "0.810000 (0.038243) with: {'batch_size': 100, 'epochs': 5, 'optimizer': 'adam'}\n",
            "0.860000 (0.048348) with: {'batch_size': 100, 'epochs': 10, 'optimizer': 'rmsprop'}\n",
            "0.862500 (0.036228) with: {'batch_size': 100, 'epochs': 10, 'optimizer': 'adam'}\n"
          ]
        }
      ]
    },
    {
      "cell_type": "code",
      "source": [],
      "metadata": {
        "id": "fPxuhcBoeUPe"
      },
      "execution_count": null,
      "outputs": []
    }
  ]
}