{
  "nbformat": 4,
  "nbformat_minor": 0,
  "metadata": {
    "kernelspec": {
      "display_name": "Python 3",
      "language": "python",
      "name": "python3"
    },
    "language_info": {
      "codemirror_mode": {
        "name": "ipython",
        "version": 3
      },
      "file_extension": ".py",
      "mimetype": "text/x-python",
      "name": "python",
      "nbconvert_exporter": "python",
      "pygments_lexer": "ipython3",
      "version": "3.6.9"
    },
    "colab": {
      "provenance": [],
      "include_colab_link": true
    }
  },
  "cells": [
    {
      "cell_type": "markdown",
      "metadata": {
        "id": "view-in-github",
        "colab_type": "text"
      },
      "source": [
        "<a href=\"https://colab.research.google.com/github/AjMing/Pattern-EGCI463/blob/main/week6/digit_PCA.ipynb\" target=\"_parent\"><img src=\"https://colab.research.google.com/assets/colab-badge.svg\" alt=\"Open In Colab\"/></a>"
      ]
    },
    {
      "cell_type": "markdown",
      "metadata": {
        "id": "BwCNorb_WmI6"
      },
      "source": [
        "# ***Import Data***"
      ]
    },
    {
      "cell_type": "code",
      "metadata": {
        "id": "-ssgpOMHT7zk",
        "colab": {
          "base_uri": "https://localhost:8080/"
        },
        "outputId": "825d1d2c-be21-41b4-acfa-8f2f617bc850"
      },
      "source": [
        "import pandas as pd\n",
        "\n",
        "from google.colab import drive\n",
        "drive.mount(\"/content/drive\",force_remount=True)\n",
        "path=\"/content/drive/My Drive/data/digit.csv\"\n",
        "df =pd.read_csv(path)\n",
        "data=pd.read_csv(path,header=None)\n"
      ],
      "execution_count": null,
      "outputs": [
        {
          "output_type": "stream",
          "name": "stdout",
          "text": [
            "Mounted at /content/drive\n"
          ]
        }
      ]
    },
    {
      "cell_type": "markdown",
      "metadata": {
        "id": "ptmBdW2GWlYX"
      },
      "source": [
        "# Try to predict using simple MLP"
      ]
    },
    {
      "cell_type": "code",
      "metadata": {
        "id": "TnMDyCZzW64d"
      },
      "source": [
        "X = data.values\n",
        "\n",
        "from sklearn.model_selection import train_test_split\n",
        "X_train , X_test, Y_train, Y_test=train_test_split(X[:,:784],X[:,784],test_size=0.2,random_state=20)"
      ],
      "execution_count": null,
      "outputs": []
    },
    {
      "cell_type": "code",
      "metadata": {
        "colab": {
          "base_uri": "https://localhost:8080/",
          "height": 670
        },
        "id": "bZWgVG48Wj-V",
        "outputId": "66a1faa5-5261-428b-876f-32bb12fbb057"
      },
      "source": [
        "from sklearn.neural_network import MLPClassifier\n",
        "mlp = MLPClassifier(random_state=1,verbose=1)\n",
        "mlp.fit(X_train, Y_train)\n"
      ],
      "execution_count": null,
      "outputs": [
        {
          "output_type": "stream",
          "name": "stdout",
          "text": [
            "Iteration 1, loss = 28.10077002\n",
            "Iteration 2, loss = 18.78900480\n",
            "Iteration 3, loss = 11.97624402\n",
            "Iteration 4, loss = 8.83116308\n",
            "Iteration 5, loss = 5.93362146\n",
            "Iteration 6, loss = 4.26195395\n",
            "Iteration 7, loss = 2.80468094\n",
            "Iteration 8, loss = 1.77304747\n",
            "Iteration 9, loss = 1.03039756\n",
            "Iteration 10, loss = 0.58818467\n",
            "Iteration 11, loss = 0.29507789\n",
            "Iteration 12, loss = 0.17546472\n",
            "Iteration 13, loss = 0.14242159\n",
            "Iteration 14, loss = 0.12819588\n",
            "Iteration 15, loss = 0.08097133\n",
            "Iteration 16, loss = 0.02248117\n",
            "Iteration 17, loss = 0.00693713\n",
            "Iteration 18, loss = 0.00246614\n",
            "Iteration 19, loss = 0.00054509\n",
            "Iteration 20, loss = 0.00083755\n",
            "Iteration 21, loss = 0.00065466\n",
            "Iteration 22, loss = 0.00025502\n",
            "Iteration 23, loss = 0.00022308\n",
            "Iteration 24, loss = 0.00019881\n",
            "Iteration 25, loss = 0.00017117\n",
            "Iteration 26, loss = 0.00011067\n",
            "Iteration 27, loss = 0.00008811\n",
            "Iteration 28, loss = 0.00007421\n",
            "Iteration 29, loss = 0.00006648\n",
            "Iteration 30, loss = 0.00006169\n",
            "Iteration 31, loss = 0.00005881\n",
            "Iteration 32, loss = 0.00005801\n",
            "Iteration 33, loss = 0.00005604\n",
            "Training loss did not improve more than tol=0.000100 for 10 consecutive epochs. Stopping.\n"
          ]
        },
        {
          "output_type": "execute_result",
          "data": {
            "text/plain": [
              "MLPClassifier(random_state=1, verbose=1)"
            ],
            "text/html": [
              "<style>#sk-container-id-1 {\n",
              "  /* Definition of color scheme common for light and dark mode */\n",
              "  --sklearn-color-text: black;\n",
              "  --sklearn-color-line: gray;\n",
              "  /* Definition of color scheme for unfitted estimators */\n",
              "  --sklearn-color-unfitted-level-0: #fff5e6;\n",
              "  --sklearn-color-unfitted-level-1: #f6e4d2;\n",
              "  --sklearn-color-unfitted-level-2: #ffe0b3;\n",
              "  --sklearn-color-unfitted-level-3: chocolate;\n",
              "  /* Definition of color scheme for fitted estimators */\n",
              "  --sklearn-color-fitted-level-0: #f0f8ff;\n",
              "  --sklearn-color-fitted-level-1: #d4ebff;\n",
              "  --sklearn-color-fitted-level-2: #b3dbfd;\n",
              "  --sklearn-color-fitted-level-3: cornflowerblue;\n",
              "\n",
              "  /* Specific color for light theme */\n",
              "  --sklearn-color-text-on-default-background: var(--sg-text-color, var(--theme-code-foreground, var(--jp-content-font-color1, black)));\n",
              "  --sklearn-color-background: var(--sg-background-color, var(--theme-background, var(--jp-layout-color0, white)));\n",
              "  --sklearn-color-border-box: var(--sg-text-color, var(--theme-code-foreground, var(--jp-content-font-color1, black)));\n",
              "  --sklearn-color-icon: #696969;\n",
              "\n",
              "  @media (prefers-color-scheme: dark) {\n",
              "    /* Redefinition of color scheme for dark theme */\n",
              "    --sklearn-color-text-on-default-background: var(--sg-text-color, var(--theme-code-foreground, var(--jp-content-font-color1, white)));\n",
              "    --sklearn-color-background: var(--sg-background-color, var(--theme-background, var(--jp-layout-color0, #111)));\n",
              "    --sklearn-color-border-box: var(--sg-text-color, var(--theme-code-foreground, var(--jp-content-font-color1, white)));\n",
              "    --sklearn-color-icon: #878787;\n",
              "  }\n",
              "}\n",
              "\n",
              "#sk-container-id-1 {\n",
              "  color: var(--sklearn-color-text);\n",
              "}\n",
              "\n",
              "#sk-container-id-1 pre {\n",
              "  padding: 0;\n",
              "}\n",
              "\n",
              "#sk-container-id-1 input.sk-hidden--visually {\n",
              "  border: 0;\n",
              "  clip: rect(1px 1px 1px 1px);\n",
              "  clip: rect(1px, 1px, 1px, 1px);\n",
              "  height: 1px;\n",
              "  margin: -1px;\n",
              "  overflow: hidden;\n",
              "  padding: 0;\n",
              "  position: absolute;\n",
              "  width: 1px;\n",
              "}\n",
              "\n",
              "#sk-container-id-1 div.sk-dashed-wrapped {\n",
              "  border: 1px dashed var(--sklearn-color-line);\n",
              "  margin: 0 0.4em 0.5em 0.4em;\n",
              "  box-sizing: border-box;\n",
              "  padding-bottom: 0.4em;\n",
              "  background-color: var(--sklearn-color-background);\n",
              "}\n",
              "\n",
              "#sk-container-id-1 div.sk-container {\n",
              "  /* jupyter's `normalize.less` sets `[hidden] { display: none; }`\n",
              "     but bootstrap.min.css set `[hidden] { display: none !important; }`\n",
              "     so we also need the `!important` here to be able to override the\n",
              "     default hidden behavior on the sphinx rendered scikit-learn.org.\n",
              "     See: https://github.com/scikit-learn/scikit-learn/issues/21755 */\n",
              "  display: inline-block !important;\n",
              "  position: relative;\n",
              "}\n",
              "\n",
              "#sk-container-id-1 div.sk-text-repr-fallback {\n",
              "  display: none;\n",
              "}\n",
              "\n",
              "div.sk-parallel-item,\n",
              "div.sk-serial,\n",
              "div.sk-item {\n",
              "  /* draw centered vertical line to link estimators */\n",
              "  background-image: linear-gradient(var(--sklearn-color-text-on-default-background), var(--sklearn-color-text-on-default-background));\n",
              "  background-size: 2px 100%;\n",
              "  background-repeat: no-repeat;\n",
              "  background-position: center center;\n",
              "}\n",
              "\n",
              "/* Parallel-specific style estimator block */\n",
              "\n",
              "#sk-container-id-1 div.sk-parallel-item::after {\n",
              "  content: \"\";\n",
              "  width: 100%;\n",
              "  border-bottom: 2px solid var(--sklearn-color-text-on-default-background);\n",
              "  flex-grow: 1;\n",
              "}\n",
              "\n",
              "#sk-container-id-1 div.sk-parallel {\n",
              "  display: flex;\n",
              "  align-items: stretch;\n",
              "  justify-content: center;\n",
              "  background-color: var(--sklearn-color-background);\n",
              "  position: relative;\n",
              "}\n",
              "\n",
              "#sk-container-id-1 div.sk-parallel-item {\n",
              "  display: flex;\n",
              "  flex-direction: column;\n",
              "}\n",
              "\n",
              "#sk-container-id-1 div.sk-parallel-item:first-child::after {\n",
              "  align-self: flex-end;\n",
              "  width: 50%;\n",
              "}\n",
              "\n",
              "#sk-container-id-1 div.sk-parallel-item:last-child::after {\n",
              "  align-self: flex-start;\n",
              "  width: 50%;\n",
              "}\n",
              "\n",
              "#sk-container-id-1 div.sk-parallel-item:only-child::after {\n",
              "  width: 0;\n",
              "}\n",
              "\n",
              "/* Serial-specific style estimator block */\n",
              "\n",
              "#sk-container-id-1 div.sk-serial {\n",
              "  display: flex;\n",
              "  flex-direction: column;\n",
              "  align-items: center;\n",
              "  background-color: var(--sklearn-color-background);\n",
              "  padding-right: 1em;\n",
              "  padding-left: 1em;\n",
              "}\n",
              "\n",
              "\n",
              "/* Toggleable style: style used for estimator/Pipeline/ColumnTransformer box that is\n",
              "clickable and can be expanded/collapsed.\n",
              "- Pipeline and ColumnTransformer use this feature and define the default style\n",
              "- Estimators will overwrite some part of the style using the `sk-estimator` class\n",
              "*/\n",
              "\n",
              "/* Pipeline and ColumnTransformer style (default) */\n",
              "\n",
              "#sk-container-id-1 div.sk-toggleable {\n",
              "  /* Default theme specific background. It is overwritten whether we have a\n",
              "  specific estimator or a Pipeline/ColumnTransformer */\n",
              "  background-color: var(--sklearn-color-background);\n",
              "}\n",
              "\n",
              "/* Toggleable label */\n",
              "#sk-container-id-1 label.sk-toggleable__label {\n",
              "  cursor: pointer;\n",
              "  display: block;\n",
              "  width: 100%;\n",
              "  margin-bottom: 0;\n",
              "  padding: 0.5em;\n",
              "  box-sizing: border-box;\n",
              "  text-align: center;\n",
              "}\n",
              "\n",
              "#sk-container-id-1 label.sk-toggleable__label-arrow:before {\n",
              "  /* Arrow on the left of the label */\n",
              "  content: \"▸\";\n",
              "  float: left;\n",
              "  margin-right: 0.25em;\n",
              "  color: var(--sklearn-color-icon);\n",
              "}\n",
              "\n",
              "#sk-container-id-1 label.sk-toggleable__label-arrow:hover:before {\n",
              "  color: var(--sklearn-color-text);\n",
              "}\n",
              "\n",
              "/* Toggleable content - dropdown */\n",
              "\n",
              "#sk-container-id-1 div.sk-toggleable__content {\n",
              "  max-height: 0;\n",
              "  max-width: 0;\n",
              "  overflow: hidden;\n",
              "  text-align: left;\n",
              "  /* unfitted */\n",
              "  background-color: var(--sklearn-color-unfitted-level-0);\n",
              "}\n",
              "\n",
              "#sk-container-id-1 div.sk-toggleable__content.fitted {\n",
              "  /* fitted */\n",
              "  background-color: var(--sklearn-color-fitted-level-0);\n",
              "}\n",
              "\n",
              "#sk-container-id-1 div.sk-toggleable__content pre {\n",
              "  margin: 0.2em;\n",
              "  border-radius: 0.25em;\n",
              "  color: var(--sklearn-color-text);\n",
              "  /* unfitted */\n",
              "  background-color: var(--sklearn-color-unfitted-level-0);\n",
              "}\n",
              "\n",
              "#sk-container-id-1 div.sk-toggleable__content.fitted pre {\n",
              "  /* unfitted */\n",
              "  background-color: var(--sklearn-color-fitted-level-0);\n",
              "}\n",
              "\n",
              "#sk-container-id-1 input.sk-toggleable__control:checked~div.sk-toggleable__content {\n",
              "  /* Expand drop-down */\n",
              "  max-height: 200px;\n",
              "  max-width: 100%;\n",
              "  overflow: auto;\n",
              "}\n",
              "\n",
              "#sk-container-id-1 input.sk-toggleable__control:checked~label.sk-toggleable__label-arrow:before {\n",
              "  content: \"▾\";\n",
              "}\n",
              "\n",
              "/* Pipeline/ColumnTransformer-specific style */\n",
              "\n",
              "#sk-container-id-1 div.sk-label input.sk-toggleable__control:checked~label.sk-toggleable__label {\n",
              "  color: var(--sklearn-color-text);\n",
              "  background-color: var(--sklearn-color-unfitted-level-2);\n",
              "}\n",
              "\n",
              "#sk-container-id-1 div.sk-label.fitted input.sk-toggleable__control:checked~label.sk-toggleable__label {\n",
              "  background-color: var(--sklearn-color-fitted-level-2);\n",
              "}\n",
              "\n",
              "/* Estimator-specific style */\n",
              "\n",
              "/* Colorize estimator box */\n",
              "#sk-container-id-1 div.sk-estimator input.sk-toggleable__control:checked~label.sk-toggleable__label {\n",
              "  /* unfitted */\n",
              "  background-color: var(--sklearn-color-unfitted-level-2);\n",
              "}\n",
              "\n",
              "#sk-container-id-1 div.sk-estimator.fitted input.sk-toggleable__control:checked~label.sk-toggleable__label {\n",
              "  /* fitted */\n",
              "  background-color: var(--sklearn-color-fitted-level-2);\n",
              "}\n",
              "\n",
              "#sk-container-id-1 div.sk-label label.sk-toggleable__label,\n",
              "#sk-container-id-1 div.sk-label label {\n",
              "  /* The background is the default theme color */\n",
              "  color: var(--sklearn-color-text-on-default-background);\n",
              "}\n",
              "\n",
              "/* On hover, darken the color of the background */\n",
              "#sk-container-id-1 div.sk-label:hover label.sk-toggleable__label {\n",
              "  color: var(--sklearn-color-text);\n",
              "  background-color: var(--sklearn-color-unfitted-level-2);\n",
              "}\n",
              "\n",
              "/* Label box, darken color on hover, fitted */\n",
              "#sk-container-id-1 div.sk-label.fitted:hover label.sk-toggleable__label.fitted {\n",
              "  color: var(--sklearn-color-text);\n",
              "  background-color: var(--sklearn-color-fitted-level-2);\n",
              "}\n",
              "\n",
              "/* Estimator label */\n",
              "\n",
              "#sk-container-id-1 div.sk-label label {\n",
              "  font-family: monospace;\n",
              "  font-weight: bold;\n",
              "  display: inline-block;\n",
              "  line-height: 1.2em;\n",
              "}\n",
              "\n",
              "#sk-container-id-1 div.sk-label-container {\n",
              "  text-align: center;\n",
              "}\n",
              "\n",
              "/* Estimator-specific */\n",
              "#sk-container-id-1 div.sk-estimator {\n",
              "  font-family: monospace;\n",
              "  border: 1px dotted var(--sklearn-color-border-box);\n",
              "  border-radius: 0.25em;\n",
              "  box-sizing: border-box;\n",
              "  margin-bottom: 0.5em;\n",
              "  /* unfitted */\n",
              "  background-color: var(--sklearn-color-unfitted-level-0);\n",
              "}\n",
              "\n",
              "#sk-container-id-1 div.sk-estimator.fitted {\n",
              "  /* fitted */\n",
              "  background-color: var(--sklearn-color-fitted-level-0);\n",
              "}\n",
              "\n",
              "/* on hover */\n",
              "#sk-container-id-1 div.sk-estimator:hover {\n",
              "  /* unfitted */\n",
              "  background-color: var(--sklearn-color-unfitted-level-2);\n",
              "}\n",
              "\n",
              "#sk-container-id-1 div.sk-estimator.fitted:hover {\n",
              "  /* fitted */\n",
              "  background-color: var(--sklearn-color-fitted-level-2);\n",
              "}\n",
              "\n",
              "/* Specification for estimator info (e.g. \"i\" and \"?\") */\n",
              "\n",
              "/* Common style for \"i\" and \"?\" */\n",
              "\n",
              ".sk-estimator-doc-link,\n",
              "a:link.sk-estimator-doc-link,\n",
              "a:visited.sk-estimator-doc-link {\n",
              "  float: right;\n",
              "  font-size: smaller;\n",
              "  line-height: 1em;\n",
              "  font-family: monospace;\n",
              "  background-color: var(--sklearn-color-background);\n",
              "  border-radius: 1em;\n",
              "  height: 1em;\n",
              "  width: 1em;\n",
              "  text-decoration: none !important;\n",
              "  margin-left: 1ex;\n",
              "  /* unfitted */\n",
              "  border: var(--sklearn-color-unfitted-level-1) 1pt solid;\n",
              "  color: var(--sklearn-color-unfitted-level-1);\n",
              "}\n",
              "\n",
              ".sk-estimator-doc-link.fitted,\n",
              "a:link.sk-estimator-doc-link.fitted,\n",
              "a:visited.sk-estimator-doc-link.fitted {\n",
              "  /* fitted */\n",
              "  border: var(--sklearn-color-fitted-level-1) 1pt solid;\n",
              "  color: var(--sklearn-color-fitted-level-1);\n",
              "}\n",
              "\n",
              "/* On hover */\n",
              "div.sk-estimator:hover .sk-estimator-doc-link:hover,\n",
              ".sk-estimator-doc-link:hover,\n",
              "div.sk-label-container:hover .sk-estimator-doc-link:hover,\n",
              ".sk-estimator-doc-link:hover {\n",
              "  /* unfitted */\n",
              "  background-color: var(--sklearn-color-unfitted-level-3);\n",
              "  color: var(--sklearn-color-background);\n",
              "  text-decoration: none;\n",
              "}\n",
              "\n",
              "div.sk-estimator.fitted:hover .sk-estimator-doc-link.fitted:hover,\n",
              ".sk-estimator-doc-link.fitted:hover,\n",
              "div.sk-label-container:hover .sk-estimator-doc-link.fitted:hover,\n",
              ".sk-estimator-doc-link.fitted:hover {\n",
              "  /* fitted */\n",
              "  background-color: var(--sklearn-color-fitted-level-3);\n",
              "  color: var(--sklearn-color-background);\n",
              "  text-decoration: none;\n",
              "}\n",
              "\n",
              "/* Span, style for the box shown on hovering the info icon */\n",
              ".sk-estimator-doc-link span {\n",
              "  display: none;\n",
              "  z-index: 9999;\n",
              "  position: relative;\n",
              "  font-weight: normal;\n",
              "  right: .2ex;\n",
              "  padding: .5ex;\n",
              "  margin: .5ex;\n",
              "  width: min-content;\n",
              "  min-width: 20ex;\n",
              "  max-width: 50ex;\n",
              "  color: var(--sklearn-color-text);\n",
              "  box-shadow: 2pt 2pt 4pt #999;\n",
              "  /* unfitted */\n",
              "  background: var(--sklearn-color-unfitted-level-0);\n",
              "  border: .5pt solid var(--sklearn-color-unfitted-level-3);\n",
              "}\n",
              "\n",
              ".sk-estimator-doc-link.fitted span {\n",
              "  /* fitted */\n",
              "  background: var(--sklearn-color-fitted-level-0);\n",
              "  border: var(--sklearn-color-fitted-level-3);\n",
              "}\n",
              "\n",
              ".sk-estimator-doc-link:hover span {\n",
              "  display: block;\n",
              "}\n",
              "\n",
              "/* \"?\"-specific style due to the `<a>` HTML tag */\n",
              "\n",
              "#sk-container-id-1 a.estimator_doc_link {\n",
              "  float: right;\n",
              "  font-size: 1rem;\n",
              "  line-height: 1em;\n",
              "  font-family: monospace;\n",
              "  background-color: var(--sklearn-color-background);\n",
              "  border-radius: 1rem;\n",
              "  height: 1rem;\n",
              "  width: 1rem;\n",
              "  text-decoration: none;\n",
              "  /* unfitted */\n",
              "  color: var(--sklearn-color-unfitted-level-1);\n",
              "  border: var(--sklearn-color-unfitted-level-1) 1pt solid;\n",
              "}\n",
              "\n",
              "#sk-container-id-1 a.estimator_doc_link.fitted {\n",
              "  /* fitted */\n",
              "  border: var(--sklearn-color-fitted-level-1) 1pt solid;\n",
              "  color: var(--sklearn-color-fitted-level-1);\n",
              "}\n",
              "\n",
              "/* On hover */\n",
              "#sk-container-id-1 a.estimator_doc_link:hover {\n",
              "  /* unfitted */\n",
              "  background-color: var(--sklearn-color-unfitted-level-3);\n",
              "  color: var(--sklearn-color-background);\n",
              "  text-decoration: none;\n",
              "}\n",
              "\n",
              "#sk-container-id-1 a.estimator_doc_link.fitted:hover {\n",
              "  /* fitted */\n",
              "  background-color: var(--sklearn-color-fitted-level-3);\n",
              "}\n",
              "</style><div id=\"sk-container-id-1\" class=\"sk-top-container\"><div class=\"sk-text-repr-fallback\"><pre>MLPClassifier(random_state=1, verbose=1)</pre><b>In a Jupyter environment, please rerun this cell to show the HTML representation or trust the notebook. <br />On GitHub, the HTML representation is unable to render, please try loading this page with nbviewer.org.</b></div><div class=\"sk-container\" hidden><div class=\"sk-item\"><div class=\"sk-estimator fitted sk-toggleable\"><input class=\"sk-toggleable__control sk-hidden--visually\" id=\"sk-estimator-id-1\" type=\"checkbox\" checked><label for=\"sk-estimator-id-1\" class=\"sk-toggleable__label fitted sk-toggleable__label-arrow fitted\">&nbsp;&nbsp;MLPClassifier<a class=\"sk-estimator-doc-link fitted\" rel=\"noreferrer\" target=\"_blank\" href=\"https://scikit-learn.org/1.5/modules/generated/sklearn.neural_network.MLPClassifier.html\">?<span>Documentation for MLPClassifier</span></a><span class=\"sk-estimator-doc-link fitted\">i<span>Fitted</span></span></label><div class=\"sk-toggleable__content fitted\"><pre>MLPClassifier(random_state=1, verbose=1)</pre></div> </div></div></div></div>"
            ]
          },
          "metadata": {},
          "execution_count": 3
        }
      ]
    },
    {
      "cell_type": "markdown",
      "metadata": {
        "id": "m23IgVx4Yi9x"
      },
      "source": [
        "Show score of the prediction"
      ]
    },
    {
      "cell_type": "code",
      "metadata": {
        "colab": {
          "base_uri": "https://localhost:8080/"
        },
        "id": "pwT2LAl_Yle5",
        "outputId": "79500d45-2b9d-4337-f515-f2e842479748"
      },
      "source": [
        "print('The score for training data is', mlp.score(X_train,Y_train))\n",
        "print('The score for test data is',mlp.score(X_test,Y_test))"
      ],
      "execution_count": null,
      "outputs": [
        {
          "output_type": "stream",
          "name": "stdout",
          "text": [
            "The score for training data is 1.0\n",
            "The score for test data is 0.74\n"
          ]
        }
      ]
    },
    {
      "cell_type": "code",
      "metadata": {
        "colab": {
          "base_uri": "https://localhost:8080/"
        },
        "id": "i8pLk8bm3FGh",
        "outputId": "c5b5fed3-5d0b-44d2-aa6e-7dbc1d4481e9"
      },
      "source": [
        "print('Data Size', X.shape)"
      ],
      "execution_count": null,
      "outputs": [
        {
          "output_type": "stream",
          "name": "stdout",
          "text": [
            "Data Size (500, 785)\n"
          ]
        }
      ]
    },
    {
      "cell_type": "markdown",
      "metadata": {
        "id": "8jbuR6HAaJvN"
      },
      "source": [
        "### PCA"
      ]
    },
    {
      "cell_type": "code",
      "metadata": {
        "id": "8Q7-4lP1T7zm"
      },
      "source": [
        "import numpy as np\n",
        "\n",
        "\n",
        "X_std=X[:,:-1]\n",
        "mean_vec = np.mean(X_std, axis=0)\n",
        "\n"
      ],
      "execution_count": null,
      "outputs": []
    },
    {
      "cell_type": "code",
      "metadata": {
        "id": "4_ASrmntT7zm",
        "colab": {
          "base_uri": "https://localhost:8080/"
        },
        "outputId": "19c75b15-9042-4b5f-9913-8441265b1bba"
      },
      "source": [
        "\n",
        "X_std.shape"
      ],
      "execution_count": null,
      "outputs": [
        {
          "output_type": "execute_result",
          "data": {
            "text/plain": [
              "(500, 784)"
            ]
          },
          "metadata": {},
          "execution_count": 7
        }
      ]
    },
    {
      "cell_type": "code",
      "metadata": {
        "id": "MWEIaiVgT7zm",
        "colab": {
          "base_uri": "https://localhost:8080/",
          "height": 797
        },
        "outputId": "2abbccd1-c37b-43d1-e0b9-2454d931f81f"
      },
      "source": [
        "cov_mat = (X_std - mean_vec).T.dot((X_std - mean_vec)) / (X_std.shape[0]-1)\n",
        "print('Covariance matrix \\n%s' %cov_mat)\n",
        "print('NumPy covariance matrix: \\n%s' %np.cov(X_std.T))\n",
        "cov_mat = np.cov(X_std.T)\n",
        "from numpy import linalg as LA\n",
        "values, vectors = LA.eig(cov_mat)\n",
        "\n",
        "import matplotlib.pyplot as plt\n",
        "plt.plot(np.sort(values)[::-1],'.')\n",
        "plt.tick_params(axis='y',length=6, width=2)"
      ],
      "execution_count": null,
      "outputs": [
        {
          "output_type": "stream",
          "name": "stdout",
          "text": [
            "Covariance matrix \n",
            "[[0. 0. 0. ... 0. 0. 0.]\n",
            " [0. 0. 0. ... 0. 0. 0.]\n",
            " [0. 0. 0. ... 0. 0. 0.]\n",
            " ...\n",
            " [0. 0. 0. ... 0. 0. 0.]\n",
            " [0. 0. 0. ... 0. 0. 0.]\n",
            " [0. 0. 0. ... 0. 0. 0.]]\n",
            "NumPy covariance matrix: \n",
            "[[0. 0. 0. ... 0. 0. 0.]\n",
            " [0. 0. 0. ... 0. 0. 0.]\n",
            " [0. 0. 0. ... 0. 0. 0.]\n",
            " ...\n",
            " [0. 0. 0. ... 0. 0. 0.]\n",
            " [0. 0. 0. ... 0. 0. 0.]\n",
            " [0. 0. 0. ... 0. 0. 0.]]\n"
          ]
        },
        {
          "output_type": "stream",
          "name": "stderr",
          "text": [
            "/usr/local/lib/python3.10/dist-packages/matplotlib/cbook.py:1699: ComplexWarning: Casting complex values to real discards the imaginary part\n",
            "  return math.isfinite(val)\n",
            "/usr/local/lib/python3.10/dist-packages/matplotlib/cbook.py:1345: ComplexWarning: Casting complex values to real discards the imaginary part\n",
            "  return np.asarray(x, float)\n"
          ]
        },
        {
          "output_type": "display_data",
          "data": {
            "text/plain": [
              "<Figure size 640x480 with 1 Axes>"
            ],
            "image/png": "[encoded data removed]"
          },
          "metadata": {}
        }
      ]
    },
    {
      "cell_type": "code",
      "source": [
        "values"
      ],
      "metadata": {
        "colab": {
          "base_uri": "https://localhost:8080/"
        },
        "id": "3ywY6QpNhM7p",
        "outputId": "26c6acf5-c0be-41db-9ae5-d543cac5fec9"
      },
      "execution_count": null,
      "outputs": [
        {
          "output_type": "execute_result",
          "data": {
            "text/plain": [
              "array([ 3.45461478e+05+0.00000000e+00j,  2.50042108e+05+0.00000000e+00j,\n",
              "        2.22144040e+05+0.00000000e+00j,  1.98563320e+05+0.00000000e+00j,\n",
              "        1.72166123e+05+0.00000000e+00j,  1.59213226e+05+0.00000000e+00j,\n",
              "        1.11376781e+05+0.00000000e+00j,  9.94514906e+04+0.00000000e+00j,\n",
              "        9.23693820e+04+0.00000000e+00j,  7.98787019e+04+0.00000000e+00j,\n",
              "        7.70032706e+04+0.00000000e+00j,  6.27997913e+04+0.00000000e+00j,\n",
              "        6.10981423e+04+0.00000000e+00j,  5.76338311e+04+0.00000000e+00j,\n",
              "        5.36082493e+04+0.00000000e+00j,  5.25869858e+04+0.00000000e+00j,\n",
              "        4.73179496e+04+0.00000000e+00j,  4.60612387e+04+0.00000000e+00j,\n",
              "        3.85063709e+04+0.00000000e+00j,  3.60826798e+04+0.00000000e+00j,\n",
              "        3.63963465e+04+0.00000000e+00j,  3.47309410e+04+0.00000000e+00j,\n",
              "        3.40837458e+04+0.00000000e+00j,  3.14690931e+04+0.00000000e+00j,\n",
              "        2.98153236e+04+0.00000000e+00j,  2.81911718e+04+0.00000000e+00j,\n",
              "        2.71305237e+04+0.00000000e+00j,  2.67216636e+04+0.00000000e+00j,\n",
              "        2.43836213e+04+0.00000000e+00j,  2.38897553e+04+0.00000000e+00j,\n",
              "        2.23625366e+04+0.00000000e+00j,  2.14423588e+04+0.00000000e+00j,\n",
              "        1.99753352e+04+0.00000000e+00j,  1.89767397e+04+0.00000000e+00j,\n",
              "        1.87853459e+04+0.00000000e+00j,  1.76774050e+04+0.00000000e+00j,\n",
              "        1.72039578e+04+0.00000000e+00j,  1.66617154e+04+0.00000000e+00j,\n",
              "        1.63498650e+04+0.00000000e+00j,  1.50161102e+04+0.00000000e+00j,\n",
              "        1.42156210e+04+0.00000000e+00j,  1.40659028e+04+0.00000000e+00j,\n",
              "        1.39764913e+04+0.00000000e+00j,  1.34090504e+04+0.00000000e+00j,\n",
              "        1.27499026e+04+0.00000000e+00j,  1.23630131e+04+0.00000000e+00j,\n",
              "        1.18738192e+04+0.00000000e+00j,  1.16382400e+04+0.00000000e+00j,\n",
              "        1.20983608e+04+0.00000000e+00j,  1.08240450e+04+0.00000000e+00j,\n",
              "        1.04281509e+04+0.00000000e+00j,  9.92032857e+03+0.00000000e+00j,\n",
              "        9.69188374e+03+0.00000000e+00j,  9.38766096e+03+0.00000000e+00j,\n",
              "        9.12575568e+03+0.00000000e+00j,  8.98228587e+03+0.00000000e+00j,\n",
              "        8.65207783e+03+0.00000000e+00j,  8.38218497e+03+0.00000000e+00j,\n",
              "        7.88354970e+03+0.00000000e+00j,  7.79871758e+03+0.00000000e+00j,\n",
              "        7.36912461e+03+0.00000000e+00j,  7.34932020e+03+0.00000000e+00j,\n",
              "        7.13194784e+03+0.00000000e+00j,  7.01803300e+03+0.00000000e+00j,\n",
              "        6.80919589e+03+0.00000000e+00j,  6.60923900e+03+0.00000000e+00j,\n",
              "        6.39605264e+03+0.00000000e+00j,  6.37427135e+03+0.00000000e+00j,\n",
              "        6.09176267e+03+0.00000000e+00j,  6.01316047e+03+0.00000000e+00j,\n",
              "        5.93723466e+03+0.00000000e+00j,  5.70053110e+03+0.00000000e+00j,\n",
              "        5.65220095e+03+0.00000000e+00j,  5.51308456e+03+0.00000000e+00j,\n",
              "        5.30720654e+03+0.00000000e+00j,  4.98825302e+03+0.00000000e+00j,\n",
              "        5.07431227e+03+0.00000000e+00j,  5.08492588e+03+0.00000000e+00j,\n",
              "        4.69299015e+03+0.00000000e+00j,  4.63819436e+03+0.00000000e+00j,\n",
              "        4.58510571e+03+0.00000000e+00j,  4.36005204e+03+0.00000000e+00j,\n",
              "        4.30060751e+03+0.00000000e+00j,  4.27238029e+03+0.00000000e+00j,\n",
              "        4.18064406e+03+0.00000000e+00j,  4.06451737e+03+0.00000000e+00j,\n",
              "        3.92914998e+03+0.00000000e+00j,  3.87759002e+03+0.00000000e+00j,\n",
              "        3.79805146e+03+0.00000000e+00j,  3.70887600e+03+0.00000000e+00j,\n",
              "        3.60538128e+03+0.00000000e+00j,  3.66330342e+03+0.00000000e+00j,\n",
              "        3.55393256e+03+0.00000000e+00j,  3.67881321e+03+0.00000000e+00j,\n",
              "        3.41295212e+03+0.00000000e+00j,  3.33033945e+03+0.00000000e+00j,\n",
              "        3.24308286e+03+0.00000000e+00j,  3.22944602e+03+0.00000000e+00j,\n",
              "        2.97261751e+03+0.00000000e+00j,  3.15844058e+03+0.00000000e+00j,\n",
              "        3.11351623e+03+0.00000000e+00j,  3.09060446e+03+0.00000000e+00j,\n",
              "        2.91232514e+03+0.00000000e+00j,  2.82254782e+03+0.00000000e+00j,\n",
              "        2.80810176e+03+0.00000000e+00j,  2.76713514e+03+0.00000000e+00j,\n",
              "        2.68144857e+03+0.00000000e+00j,  2.62827397e+03+0.00000000e+00j,\n",
              "        2.59206580e+03+0.00000000e+00j,  2.53240785e+03+0.00000000e+00j,\n",
              "        2.48610791e+03+0.00000000e+00j,  2.45020716e+03+0.00000000e+00j,\n",
              "        2.40216977e+03+0.00000000e+00j,  2.35315003e+03+0.00000000e+00j,\n",
              "        2.31293248e+03+0.00000000e+00j,  2.37427068e+03+0.00000000e+00j,\n",
              "        2.17430186e+03+0.00000000e+00j,  2.08511549e+03+0.00000000e+00j,\n",
              "        2.24797989e+03+0.00000000e+00j,  2.15109463e+03+0.00000000e+00j,\n",
              "        2.32331424e+03+0.00000000e+00j,  2.06007775e+03+0.00000000e+00j,\n",
              "        2.03393540e+03+0.00000000e+00j,  1.91421132e+03+0.00000000e+00j,\n",
              "        1.91120769e+03+0.00000000e+00j,  2.00243523e+03+0.00000000e+00j,\n",
              "        1.94953449e+03+0.00000000e+00j,  1.87787263e+03+0.00000000e+00j,\n",
              "        1.83228383e+03+0.00000000e+00j,  1.79272840e+03+0.00000000e+00j,\n",
              "        1.75567851e+03+0.00000000e+00j,  1.75977442e+03+0.00000000e+00j,\n",
              "        1.72065977e+03+0.00000000e+00j,  1.70991169e+03+0.00000000e+00j,\n",
              "        1.68351135e+03+0.00000000e+00j,  1.63740064e+03+0.00000000e+00j,\n",
              "        1.61346759e+03+0.00000000e+00j,  1.60539733e+03+0.00000000e+00j,\n",
              "        1.57287797e+03+0.00000000e+00j,  1.53856653e+03+0.00000000e+00j,\n",
              "        1.53039081e+03+0.00000000e+00j,  1.49647219e+03+0.00000000e+00j,\n",
              "        1.45339319e+03+0.00000000e+00j,  1.46999161e+03+0.00000000e+00j,\n",
              "        1.46389146e+03+0.00000000e+00j,  1.43054839e+03+0.00000000e+00j,\n",
              "        1.41317848e+03+0.00000000e+00j,  1.38102179e+03+0.00000000e+00j,\n",
              "        1.39338805e+03+0.00000000e+00j,  1.34162329e+03+0.00000000e+00j,\n",
              "        1.33667883e+03+0.00000000e+00j,  1.31225695e+03+0.00000000e+00j,\n",
              "        1.28554607e+03+0.00000000e+00j,  1.26379327e+03+0.00000000e+00j,\n",
              "        1.25396496e+03+0.00000000e+00j,  1.23651025e+03+0.00000000e+00j,\n",
              "        1.23398776e+03+0.00000000e+00j,  1.22462632e+03+0.00000000e+00j,\n",
              "        1.19308036e+03+0.00000000e+00j,  1.18374177e+03+0.00000000e+00j,\n",
              "        1.17170708e+03+0.00000000e+00j,  1.16169650e+03+0.00000000e+00j,\n",
              "        1.14907002e+03+0.00000000e+00j,  1.13503585e+03+0.00000000e+00j,\n",
              "        1.09662146e+03+0.00000000e+00j,  1.09299904e+03+0.00000000e+00j,\n",
              "        1.06913226e+03+0.00000000e+00j,  1.06305572e+03+0.00000000e+00j,\n",
              "        1.05187624e+03+0.00000000e+00j,  1.02957000e+03+0.00000000e+00j,\n",
              "        1.03310604e+03+0.00000000e+00j,  1.01076193e+03+0.00000000e+00j,\n",
              "        1.00314796e+03+0.00000000e+00j,  7.79003050e+02+0.00000000e+00j,\n",
              "        9.82650385e+02+0.00000000e+00j,  9.74215363e+02+0.00000000e+00j,\n",
              "        9.54273502e+02+0.00000000e+00j,  8.04695223e+02+0.00000000e+00j,\n",
              "        7.95102177e+02+0.00000000e+00j,  9.27760022e+02+0.00000000e+00j,\n",
              "        9.11923911e+02+0.00000000e+00j,  8.92039337e+02+0.00000000e+00j,\n",
              "        8.27625376e+02+0.00000000e+00j,  9.38513911e+02+0.00000000e+00j,\n",
              "        8.16387673e+02+0.00000000e+00j,  8.64299460e+02+0.00000000e+00j,\n",
              "        8.56429024e+02+0.00000000e+00j,  8.71196821e+02+0.00000000e+00j,\n",
              "        8.46360976e+02+0.00000000e+00j,  8.36475785e+02+0.00000000e+00j,\n",
              "        7.97242068e+02+0.00000000e+00j,  9.68231381e+02+0.00000000e+00j,\n",
              "        9.04299308e+02+0.00000000e+00j,  7.53196874e+02+0.00000000e+00j,\n",
              "        7.48345360e+02+0.00000000e+00j,  7.39825225e+02+0.00000000e+00j,\n",
              "        7.33593069e+02+0.00000000e+00j,  7.23301780e+02+0.00000000e+00j,\n",
              "        7.16891779e+02+0.00000000e+00j,  7.06229465e+02+0.00000000e+00j,\n",
              "        7.00152662e+02+0.00000000e+00j,  6.94553536e+02+0.00000000e+00j,\n",
              "        6.81959365e+02+0.00000000e+00j,  6.75405942e+02+0.00000000e+00j,\n",
              "        6.69432860e+02+0.00000000e+00j,  6.63218293e+02+0.00000000e+00j,\n",
              "        6.53876425e+02+0.00000000e+00j,  6.44747775e+02+0.00000000e+00j,\n",
              "        6.42467474e+02+0.00000000e+00j,  4.39085939e+02+0.00000000e+00j,\n",
              "        6.20804186e+02+0.00000000e+00j,  6.39171686e+02+0.00000000e+00j,\n",
              "        4.43208244e+02+0.00000000e+00j,  6.14050965e+02+0.00000000e+00j,\n",
              "        4.51099114e+02+0.00000000e+00j,  4.59275943e+02+0.00000000e+00j,\n",
              "        4.67762766e+02+0.00000000e+00j,  6.05030594e+02+0.00000000e+00j,\n",
              "        5.84209980e+02+0.00000000e+00j,  5.97935938e+02+0.00000000e+00j,\n",
              "        5.75099584e+02+0.00000000e+00j,  5.69042303e+02+0.00000000e+00j,\n",
              "        5.53479914e+02+0.00000000e+00j,  4.82612815e+02+0.00000000e+00j,\n",
              "        4.96457514e+02+0.00000000e+00j,  5.33957014e+02+0.00000000e+00j,\n",
              "        5.18597690e+02+0.00000000e+00j,  5.03341942e+02+0.00000000e+00j,\n",
              "        5.46515313e+02+0.00000000e+00j,  5.96500501e+02+0.00000000e+00j,\n",
              "        5.58765986e+02+0.00000000e+00j,  5.14459555e+02+0.00000000e+00j,\n",
              "        4.84559355e+02+0.00000000e+00j,  4.76885278e+02+0.00000000e+00j,\n",
              "        5.70693766e+02+0.00000000e+00j,  5.29942867e+02+0.00000000e+00j,\n",
              "        5.08323370e+02+0.00000000e+00j,  5.07241063e+02+0.00000000e+00j,\n",
              "        4.31014449e+02+0.00000000e+00j,  4.26653666e+02+0.00000000e+00j,\n",
              "        4.23628910e+02+0.00000000e+00j,  4.20063129e+02+0.00000000e+00j,\n",
              "        4.10323315e+02+0.00000000e+00j,  4.07020278e+02+0.00000000e+00j,\n",
              "        4.02071461e+02+0.00000000e+00j,  3.95553346e+02+0.00000000e+00j,\n",
              "        2.83141967e+02+0.00000000e+00j,  2.85854630e+02+0.00000000e+00j,\n",
              "        3.89366912e+02+0.00000000e+00j,  3.84534893e+02+0.00000000e+00j,\n",
              "        3.75018930e+02+0.00000000e+00j,  3.78008145e+02+0.00000000e+00j,\n",
              "        2.88240559e+02+0.00000000e+00j,  3.66804691e+02+0.00000000e+00j,\n",
              "        3.68841627e+02+0.00000000e+00j,  2.93044278e+02+0.00000000e+00j,\n",
              "        3.01688914e+02+0.00000000e+00j,  3.61678543e+02+0.00000000e+00j,\n",
              "        3.09873989e+02+0.00000000e+00j,  3.15551890e+02+0.00000000e+00j,\n",
              "        3.52939948e+02+0.00000000e+00j,  3.48763674e+02+0.00000000e+00j,\n",
              "        3.22998567e+02+0.00000000e+00j,  3.56759737e+02+0.00000000e+00j,\n",
              "        3.37731897e+02+0.00000000e+00j,  3.35512774e+02+0.00000000e+00j,\n",
              "        3.12456070e+02+0.00000000e+00j,  3.29415626e+02+0.00000000e+00j,\n",
              "        2.95223010e+02+0.00000000e+00j,  3.21282000e+02+0.00000000e+00j,\n",
              "        3.29882066e+02+0.00000000e+00j,  3.47093084e+02+0.00000000e+00j,\n",
              "        2.78756935e+02+0.00000000e+00j,  2.73347348e+02+0.00000000e+00j,\n",
              "        2.75253887e+02+0.00000000e+00j,  2.65074219e+02+0.00000000e+00j,\n",
              "        2.60551225e+02+0.00000000e+00j,  2.57165246e+02+0.00000000e+00j,\n",
              "        2.50420405e+02+0.00000000e+00j,  2.49351811e+02+0.00000000e+00j,\n",
              "        2.44835923e+02+0.00000000e+00j,  2.48253551e+02+0.00000000e+00j,\n",
              "        2.40232523e+02+0.00000000e+00j,  2.39809400e+02+0.00000000e+00j,\n",
              "        2.20048063e+02+0.00000000e+00j,  2.25337035e+02+0.00000000e+00j,\n",
              "        2.30423523e+02+0.00000000e+00j,  2.32794809e+02+0.00000000e+00j,\n",
              "        2.34242644e+02+0.00000000e+00j,  2.07062283e+02+0.00000000e+00j,\n",
              "        2.10013266e+02+0.00000000e+00j,  2.16224472e+02+0.00000000e+00j,\n",
              "        1.73431398e+02+0.00000000e+00j,  1.78012571e+02+0.00000000e+00j,\n",
              "        1.82033353e+02+0.00000000e+00j,  2.00795688e+02+0.00000000e+00j,\n",
              "        2.13833870e+02+0.00000000e+00j,  1.97116524e+02+0.00000000e+00j,\n",
              "        2.15292775e+02+0.00000000e+00j,  1.92264068e+02+0.00000000e+00j,\n",
              "        1.73885755e+02+0.00000000e+00j,  1.79161471e+02+0.00000000e+00j,\n",
              "        1.85751103e+02+0.00000000e+00j,  1.88576973e+02+0.00000000e+00j,\n",
              "        1.89255889e+02+0.00000000e+00j,  1.98375621e+02+0.00000000e+00j,\n",
              "        1.70296258e+02+0.00000000e+00j,  1.66497479e+02+0.00000000e+00j,\n",
              "        1.64036887e+02+0.00000000e+00j,  1.61876622e+02+0.00000000e+00j,\n",
              "        1.59764132e+02+0.00000000e+00j,  1.55737575e+02+0.00000000e+00j,\n",
              "        1.53802736e+02+0.00000000e+00j,  1.54871607e+02+0.00000000e+00j,\n",
              "        1.47522965e+02+0.00000000e+00j,  1.47138504e+02+0.00000000e+00j,\n",
              "        1.42236978e+02+0.00000000e+00j,  1.43362150e+02+0.00000000e+00j,\n",
              "        1.44602739e+02+0.00000000e+00j,  1.39048236e+02+0.00000000e+00j,\n",
              "        1.36411822e+02+0.00000000e+00j,  1.38182830e+02+0.00000000e+00j,\n",
              "        1.34707407e+02+0.00000000e+00j,  1.30675795e+02+0.00000000e+00j,\n",
              "        1.28705745e+02+0.00000000e+00j,  1.29782935e+02+0.00000000e+00j,\n",
              "        1.26198269e+02+0.00000000e+00j,  1.20266503e+02+0.00000000e+00j,\n",
              "        1.22700224e+02+0.00000000e+00j,  1.23308311e+02+0.00000000e+00j,\n",
              "        1.14912857e+02+0.00000000e+00j,  1.13909216e+02+0.00000000e+00j,\n",
              "        1.15579944e+02+0.00000000e+00j,  1.12238922e+02+0.00000000e+00j,\n",
              "        1.11272368e+02+0.00000000e+00j,  1.08214861e+02+0.00000000e+00j,\n",
              "        1.05175784e+02+0.00000000e+00j,  1.02981191e+02+0.00000000e+00j,\n",
              "        1.08414319e+02+0.00000000e+00j,  1.01406122e+02+0.00000000e+00j,\n",
              "        9.43879649e+01+0.00000000e+00j,  9.24006795e+01+0.00000000e+00j,\n",
              "        8.58396348e+01+0.00000000e+00j,  8.97773521e+01+0.00000000e+00j,\n",
              "        8.81388691e+01+0.00000000e+00j,  1.00694383e+02+0.00000000e+00j,\n",
              "        9.85547817e+01+0.00000000e+00j,  9.84441716e+01+0.00000000e+00j,\n",
              "        8.78247823e+01+0.00000000e+00j,  8.31126539e+01+0.00000000e+00j,\n",
              "        8.40174509e+01+0.00000000e+00j,  8.18241913e+01+0.00000000e+00j,\n",
              "        7.92886276e+01+0.00000000e+00j,  7.84638366e+01+0.00000000e+00j,\n",
              "        7.62083057e+01+0.00000000e+00j,  7.50794801e+01+0.00000000e+00j,\n",
              "        7.55147014e+01+0.00000000e+00j,  7.29061620e+01+0.00000000e+00j,\n",
              "        7.11883778e+01+0.00000000e+00j,  6.98797756e+01+0.00000000e+00j,\n",
              "        6.84951310e+01+0.00000000e+00j,  6.64247042e+01+0.00000000e+00j,\n",
              "        6.74034609e+01+0.00000000e+00j,  6.00708904e+01+0.00000000e+00j,\n",
              "        6.39620208e+01+0.00000000e+00j,  6.13908219e+01+0.00000000e+00j,\n",
              "        6.23207948e+01+0.00000000e+00j,  5.77180964e+01+0.00000000e+00j,\n",
              "        5.55109007e+01+0.00000000e+00j,  5.43113465e+01+0.00000000e+00j,\n",
              "        5.72131242e+01+0.00000000e+00j,  5.17693762e+01+0.00000000e+00j,\n",
              "        5.27109629e+01+0.00000000e+00j,  5.09612346e+01+0.00000000e+00j,\n",
              "        4.90770347e+01+0.00000000e+00j,  5.37978915e+01+0.00000000e+00j,\n",
              "        4.71156111e+01+0.00000000e+00j,  4.55512807e+01+0.00000000e+00j,\n",
              "        4.52576599e+01+0.00000000e+00j,  4.67739751e+01+0.00000000e+00j,\n",
              "        4.29369400e+01+0.00000000e+00j,  4.19503657e+01+0.00000000e+00j,\n",
              "        4.07446834e+01+0.00000000e+00j,  3.96310065e+01+0.00000000e+00j,\n",
              "        3.88030101e+01+0.00000000e+00j,  3.81304362e+01+0.00000000e+00j,\n",
              "        1.72205172e+01+0.00000000e+00j,  1.76567449e+01+0.00000000e+00j,\n",
              "        1.79519831e+01+0.00000000e+00j,  1.82334576e+01+0.00000000e+00j,\n",
              "        3.73078560e+01+0.00000000e+00j,  3.67497460e+01+0.00000000e+00j,\n",
              "        3.50587506e+01+0.00000000e+00j,  3.58560227e+01+0.00000000e+00j,\n",
              "        1.89114860e+01+0.00000000e+00j,  3.39653336e+01+0.00000000e+00j,\n",
              "        1.96188460e+01+0.00000000e+00j,  2.01915220e+01+0.00000000e+00j,\n",
              "        3.28627445e+01+0.00000000e+00j,  3.35206139e+01+0.00000000e+00j,\n",
              "        3.18040751e+01+0.00000000e+00j,  2.07244880e+01+0.00000000e+00j,\n",
              "        2.85842354e+01+0.00000000e+00j,  2.98241532e+01+0.00000000e+00j,\n",
              "        2.19608825e+01+0.00000000e+00j,  2.52183631e+01+0.00000000e+00j,\n",
              "        3.04249592e+01+0.00000000e+00j,  2.56467983e+01+0.00000000e+00j,\n",
              "        2.10264490e+01+0.00000000e+00j,  2.23800826e+01+0.00000000e+00j,\n",
              "        3.01651440e+01+0.00000000e+00j,  2.72512509e+01+0.00000000e+00j,\n",
              "        2.63786109e+01+0.00000000e+00j,  2.38563409e+01+0.00000000e+00j,\n",
              "        2.37263904e+01+0.00000000e+00j,  2.33211574e+01+0.00000000e+00j,\n",
              "        2.68346457e+01+0.00000000e+00j,  1.23535980e+01+0.00000000e+00j,\n",
              "        1.32990430e+01+0.00000000e+00j,  1.38684125e+01+0.00000000e+00j,\n",
              "        1.34687228e+01+0.00000000e+00j,  1.63027413e+01+0.00000000e+00j,\n",
              "        1.53171120e+01+0.00000000e+00j,  1.45183759e+01+0.00000000e+00j,\n",
              "        1.46935901e+01+0.00000000e+00j,  1.55128242e+01+0.00000000e+00j,\n",
              "        1.57993125e+01+0.00000000e+00j,  1.18346581e+01+0.00000000e+00j,\n",
              "        1.21475244e+01+0.00000000e+00j,  1.09194471e+01+0.00000000e+00j,\n",
              "        1.07052450e+01+0.00000000e+00j,  1.05376829e+01+0.00000000e+00j,\n",
              "        1.04558246e+01+0.00000000e+00j,  9.51297155e+00+0.00000000e+00j,\n",
              "        8.77257097e+00+0.00000000e+00j,  1.00242007e+01+0.00000000e+00j,\n",
              "        9.95909554e+00+0.00000000e+00j,  8.04908733e+00+0.00000000e+00j,\n",
              "        7.61718663e+00+0.00000000e+00j,  7.27012815e+00+0.00000000e+00j,\n",
              "        7.35230834e+00+0.00000000e+00j,  6.00860132e+00+0.00000000e+00j,\n",
              "        5.78970354e+00+0.00000000e+00j,  7.94556916e+00+0.00000000e+00j,\n",
              "        8.60530867e+00+0.00000000e+00j,  6.21930964e+00+0.00000000e+00j,\n",
              "        6.76452088e+00+0.00000000e+00j,  6.77607813e+00+0.00000000e+00j,\n",
              "        5.49296459e+00+0.00000000e+00j,  5.37634090e+00+0.00000000e+00j,\n",
              "        5.18268634e+00+0.00000000e+00j,  4.84335350e+00+0.00000000e+00j,\n",
              "        4.57364300e+00+0.00000000e+00j,  4.40839684e+00+0.00000000e+00j,\n",
              "        4.08601372e+00+0.00000000e+00j,  3.89148642e+00+0.00000000e+00j,\n",
              "        3.71197917e+00+0.00000000e+00j,  3.63778049e+00+0.00000000e+00j,\n",
              "        3.54146661e+00+0.00000000e+00j,  3.14601841e+00+0.00000000e+00j,\n",
              "        2.99963800e+00+0.00000000e+00j,  2.95572250e+00+0.00000000e+00j,\n",
              "        2.55553758e+00+0.00000000e+00j,  2.70094120e+00+0.00000000e+00j,\n",
              "        2.64750206e+00+0.00000000e+00j,  2.36141074e+00+0.00000000e+00j,\n",
              "        2.07287946e+00+0.00000000e+00j,  1.92718490e+00+0.00000000e+00j,\n",
              "        1.89389531e+00+0.00000000e+00j,  1.83017806e+00+0.00000000e+00j,\n",
              "        1.74360952e+00+0.00000000e+00j,  1.69787408e+00+0.00000000e+00j,\n",
              "        1.64305657e+00+0.00000000e+00j,  1.44780941e+00+0.00000000e+00j,\n",
              "        1.31167111e+00+0.00000000e+00j,  1.26157177e+00+0.00000000e+00j,\n",
              "        1.11250761e+00+0.00000000e+00j,  1.03933466e+00+0.00000000e+00j,\n",
              "        9.01816055e-01+0.00000000e+00j,  9.25649295e-01+0.00000000e+00j,\n",
              "        8.39882903e-01+0.00000000e+00j,  7.90425926e-01+0.00000000e+00j,\n",
              "        6.98694853e-01+0.00000000e+00j,  6.68147747e-01+0.00000000e+00j,\n",
              "        5.76287786e-01+0.00000000e+00j,  5.57472165e-01+0.00000000e+00j,\n",
              "        4.56137181e-01+0.00000000e+00j,  3.96378391e-01+0.00000000e+00j,\n",
              "        3.70747627e-01+0.00000000e+00j,  3.15490430e-01+0.00000000e+00j,\n",
              "        2.78967974e-01+0.00000000e+00j,  2.43174865e-01+0.00000000e+00j,\n",
              "        2.30547875e-01+0.00000000e+00j,  1.94561501e-01+0.00000000e+00j,\n",
              "        1.74332763e-01+0.00000000e+00j,  1.54219803e-01+0.00000000e+00j,\n",
              "        1.24215608e-01+0.00000000e+00j,  1.03478542e-01+0.00000000e+00j,\n",
              "        5.88382430e-02+0.00000000e+00j, -1.91107358e-11+0.00000000e+00j,\n",
              "        1.91872214e-11+0.00000000e+00j,  1.34138196e-11+0.00000000e+00j,\n",
              "       -1.06613687e-11+0.00000000e+00j, -9.18753546e-12+0.00000000e+00j,\n",
              "        9.28410972e-12+0.00000000e+00j, -7.73814677e-12+0.00000000e+00j,\n",
              "        6.88876875e-12+0.00000000e+00j, -6.19063788e-12+1.72523915e-13j,\n",
              "       -6.19063788e-12-1.72523915e-13j,  5.69765954e-12+0.00000000e+00j,\n",
              "       -4.97150624e-12+0.00000000e+00j,  4.90866785e-12+0.00000000e+00j,\n",
              "        4.68134229e-12+0.00000000e+00j, -4.23543008e-12+0.00000000e+00j,\n",
              "        4.09445641e-12+0.00000000e+00j,  3.38995158e-12+0.00000000e+00j,\n",
              "       -3.49857361e-12+0.00000000e+00j, -3.46553802e-12+0.00000000e+00j,\n",
              "        3.03565953e-12+0.00000000e+00j, -2.80971329e-12+0.00000000e+00j,\n",
              "       -2.12271187e-12+1.25977011e-13j, -2.12271187e-12-1.25977011e-13j,\n",
              "        2.06112512e-12+9.91738755e-14j,  2.06112512e-12-9.91738755e-14j,\n",
              "        1.84541890e-12+0.00000000e+00j, -1.34320536e-12+1.11097251e-13j,\n",
              "       -1.34320536e-12-1.11097251e-13j,  1.26655808e-12+0.00000000e+00j,\n",
              "        1.05394025e-12+2.20392039e-13j,  1.05394025e-12-2.20392039e-13j,\n",
              "       -6.25041199e-13+6.34006014e-13j, -6.25041199e-13-6.34006014e-13j,\n",
              "       -7.73120468e-14+7.97883596e-13j, -7.73120468e-14-7.97883596e-13j,\n",
              "       -9.68495694e-13+1.44253455e-13j, -9.68495694e-13-1.44253455e-13j,\n",
              "       -9.19833769e-13+0.00000000e+00j,  8.67912019e-13+1.97174754e-13j,\n",
              "        8.67912019e-13-1.97174754e-13j,  8.21793012e-13+0.00000000e+00j,\n",
              "       -7.92681462e-13+0.00000000e+00j,  6.22934688e-13+2.04778297e-13j,\n",
              "        6.22934688e-13-2.04778297e-13j,  4.27086051e-13+3.42573304e-13j,\n",
              "        4.27086051e-13-3.42573304e-13j, -5.87581438e-13+1.34143428e-13j,\n",
              "       -5.87581438e-13-1.34143428e-13j, -2.24123782e-13+3.47446850e-13j,\n",
              "       -2.24123782e-13-3.47446850e-13j, -4.32235567e-13+3.71605062e-14j,\n",
              "       -4.32235567e-13-3.71605062e-14j,  4.64675408e-13+0.00000000e+00j,\n",
              "       -2.99079314e-13+8.60415116e-14j, -2.99079314e-13-8.60415116e-14j,\n",
              "        1.42798316e-13+2.29132168e-13j,  1.42798316e-13-2.29132168e-13j,\n",
              "       -2.09125431e-13+0.00000000e+00j,  2.88529017e-13+4.19609909e-14j,\n",
              "        2.88529017e-13-4.19609909e-14j,  1.95466545e-13+9.18143339e-14j,\n",
              "        1.95466545e-13-9.18143339e-14j, -1.10862817e-13+8.51276147e-14j,\n",
              "       -1.10862817e-13-8.51276147e-14j, -1.20268026e-13+0.00000000e+00j,\n",
              "       -8.57875331e-14+0.00000000e+00j, -2.97915491e-14+4.13887270e-14j,\n",
              "       -2.97915491e-14-4.13887270e-14j,  4.28858144e-14+2.08146901e-15j,\n",
              "        4.28858144e-14-2.08146901e-15j, -3.05269656e-14+0.00000000e+00j,\n",
              "       -1.79719334e-14+0.00000000e+00j,  2.37229994e-14+0.00000000e+00j,\n",
              "        1.75873853e-15+8.52314317e-15j,  1.75873853e-15-8.52314317e-15j,\n",
              "        9.33921430e-15+0.00000000e+00j, -2.95015731e-15+9.04111595e-15j,\n",
              "       -2.95015731e-15-9.04111595e-15j,  5.24222996e-16+0.00000000e+00j,\n",
              "        0.00000000e+00+0.00000000e+00j,  0.00000000e+00+0.00000000e+00j,\n",
              "        0.00000000e+00+0.00000000e+00j,  0.00000000e+00+0.00000000e+00j,\n",
              "        0.00000000e+00+0.00000000e+00j,  0.00000000e+00+0.00000000e+00j,\n",
              "        0.00000000e+00+0.00000000e+00j,  0.00000000e+00+0.00000000e+00j,\n",
              "        0.00000000e+00+0.00000000e+00j,  0.00000000e+00+0.00000000e+00j,\n",
              "        0.00000000e+00+0.00000000e+00j,  0.00000000e+00+0.00000000e+00j,\n",
              "        0.00000000e+00+0.00000000e+00j,  0.00000000e+00+0.00000000e+00j,\n",
              "        0.00000000e+00+0.00000000e+00j,  0.00000000e+00+0.00000000e+00j,\n",
              "        0.00000000e+00+0.00000000e+00j,  0.00000000e+00+0.00000000e+00j,\n",
              "        0.00000000e+00+0.00000000e+00j,  0.00000000e+00+0.00000000e+00j,\n",
              "        0.00000000e+00+0.00000000e+00j,  0.00000000e+00+0.00000000e+00j,\n",
              "        0.00000000e+00+0.00000000e+00j,  0.00000000e+00+0.00000000e+00j,\n",
              "        0.00000000e+00+0.00000000e+00j,  0.00000000e+00+0.00000000e+00j,\n",
              "        0.00000000e+00+0.00000000e+00j,  0.00000000e+00+0.00000000e+00j,\n",
              "        0.00000000e+00+0.00000000e+00j,  0.00000000e+00+0.00000000e+00j,\n",
              "        0.00000000e+00+0.00000000e+00j,  0.00000000e+00+0.00000000e+00j,\n",
              "        0.00000000e+00+0.00000000e+00j,  0.00000000e+00+0.00000000e+00j,\n",
              "        0.00000000e+00+0.00000000e+00j,  0.00000000e+00+0.00000000e+00j,\n",
              "        0.00000000e+00+0.00000000e+00j,  0.00000000e+00+0.00000000e+00j,\n",
              "        0.00000000e+00+0.00000000e+00j,  0.00000000e+00+0.00000000e+00j,\n",
              "        0.00000000e+00+0.00000000e+00j,  0.00000000e+00+0.00000000e+00j,\n",
              "        0.00000000e+00+0.00000000e+00j,  0.00000000e+00+0.00000000e+00j,\n",
              "        0.00000000e+00+0.00000000e+00j,  0.00000000e+00+0.00000000e+00j,\n",
              "        0.00000000e+00+0.00000000e+00j,  0.00000000e+00+0.00000000e+00j,\n",
              "        0.00000000e+00+0.00000000e+00j,  0.00000000e+00+0.00000000e+00j,\n",
              "        0.00000000e+00+0.00000000e+00j,  0.00000000e+00+0.00000000e+00j,\n",
              "        0.00000000e+00+0.00000000e+00j,  0.00000000e+00+0.00000000e+00j,\n",
              "        0.00000000e+00+0.00000000e+00j,  0.00000000e+00+0.00000000e+00j,\n",
              "        0.00000000e+00+0.00000000e+00j,  0.00000000e+00+0.00000000e+00j,\n",
              "        0.00000000e+00+0.00000000e+00j,  0.00000000e+00+0.00000000e+00j,\n",
              "        0.00000000e+00+0.00000000e+00j,  0.00000000e+00+0.00000000e+00j,\n",
              "        0.00000000e+00+0.00000000e+00j,  0.00000000e+00+0.00000000e+00j,\n",
              "        0.00000000e+00+0.00000000e+00j,  0.00000000e+00+0.00000000e+00j,\n",
              "        0.00000000e+00+0.00000000e+00j,  0.00000000e+00+0.00000000e+00j,\n",
              "        0.00000000e+00+0.00000000e+00j,  0.00000000e+00+0.00000000e+00j,\n",
              "        0.00000000e+00+0.00000000e+00j,  0.00000000e+00+0.00000000e+00j,\n",
              "        0.00000000e+00+0.00000000e+00j,  0.00000000e+00+0.00000000e+00j,\n",
              "        0.00000000e+00+0.00000000e+00j,  0.00000000e+00+0.00000000e+00j,\n",
              "        0.00000000e+00+0.00000000e+00j,  0.00000000e+00+0.00000000e+00j,\n",
              "        0.00000000e+00+0.00000000e+00j,  0.00000000e+00+0.00000000e+00j,\n",
              "        0.00000000e+00+0.00000000e+00j,  0.00000000e+00+0.00000000e+00j,\n",
              "        0.00000000e+00+0.00000000e+00j,  0.00000000e+00+0.00000000e+00j,\n",
              "        0.00000000e+00+0.00000000e+00j,  0.00000000e+00+0.00000000e+00j,\n",
              "        0.00000000e+00+0.00000000e+00j,  0.00000000e+00+0.00000000e+00j,\n",
              "        0.00000000e+00+0.00000000e+00j,  0.00000000e+00+0.00000000e+00j,\n",
              "        0.00000000e+00+0.00000000e+00j,  0.00000000e+00+0.00000000e+00j,\n",
              "        0.00000000e+00+0.00000000e+00j,  0.00000000e+00+0.00000000e+00j,\n",
              "        0.00000000e+00+0.00000000e+00j,  0.00000000e+00+0.00000000e+00j,\n",
              "        0.00000000e+00+0.00000000e+00j,  0.00000000e+00+0.00000000e+00j,\n",
              "        0.00000000e+00+0.00000000e+00j,  0.00000000e+00+0.00000000e+00j,\n",
              "        0.00000000e+00+0.00000000e+00j,  0.00000000e+00+0.00000000e+00j,\n",
              "        0.00000000e+00+0.00000000e+00j,  0.00000000e+00+0.00000000e+00j,\n",
              "        0.00000000e+00+0.00000000e+00j,  0.00000000e+00+0.00000000e+00j,\n",
              "        0.00000000e+00+0.00000000e+00j,  0.00000000e+00+0.00000000e+00j,\n",
              "        0.00000000e+00+0.00000000e+00j,  0.00000000e+00+0.00000000e+00j,\n",
              "        0.00000000e+00+0.00000000e+00j,  0.00000000e+00+0.00000000e+00j,\n",
              "        0.00000000e+00+0.00000000e+00j,  0.00000000e+00+0.00000000e+00j,\n",
              "        0.00000000e+00+0.00000000e+00j,  0.00000000e+00+0.00000000e+00j,\n",
              "        0.00000000e+00+0.00000000e+00j,  0.00000000e+00+0.00000000e+00j,\n",
              "        0.00000000e+00+0.00000000e+00j,  0.00000000e+00+0.00000000e+00j,\n",
              "        0.00000000e+00+0.00000000e+00j,  0.00000000e+00+0.00000000e+00j,\n",
              "        0.00000000e+00+0.00000000e+00j,  0.00000000e+00+0.00000000e+00j,\n",
              "        0.00000000e+00+0.00000000e+00j,  0.00000000e+00+0.00000000e+00j,\n",
              "        0.00000000e+00+0.00000000e+00j,  0.00000000e+00+0.00000000e+00j,\n",
              "        0.00000000e+00+0.00000000e+00j,  0.00000000e+00+0.00000000e+00j,\n",
              "        0.00000000e+00+0.00000000e+00j,  0.00000000e+00+0.00000000e+00j,\n",
              "        0.00000000e+00+0.00000000e+00j,  0.00000000e+00+0.00000000e+00j,\n",
              "        0.00000000e+00+0.00000000e+00j,  0.00000000e+00+0.00000000e+00j,\n",
              "        0.00000000e+00+0.00000000e+00j,  0.00000000e+00+0.00000000e+00j,\n",
              "        0.00000000e+00+0.00000000e+00j,  0.00000000e+00+0.00000000e+00j,\n",
              "        0.00000000e+00+0.00000000e+00j,  0.00000000e+00+0.00000000e+00j,\n",
              "        0.00000000e+00+0.00000000e+00j,  0.00000000e+00+0.00000000e+00j,\n",
              "        0.00000000e+00+0.00000000e+00j,  0.00000000e+00+0.00000000e+00j,\n",
              "        0.00000000e+00+0.00000000e+00j,  0.00000000e+00+0.00000000e+00j,\n",
              "        0.00000000e+00+0.00000000e+00j,  0.00000000e+00+0.00000000e+00j,\n",
              "        0.00000000e+00+0.00000000e+00j,  0.00000000e+00+0.00000000e+00j,\n",
              "        0.00000000e+00+0.00000000e+00j,  0.00000000e+00+0.00000000e+00j,\n",
              "        0.00000000e+00+0.00000000e+00j,  0.00000000e+00+0.00000000e+00j,\n",
              "        0.00000000e+00+0.00000000e+00j,  0.00000000e+00+0.00000000e+00j,\n",
              "        0.00000000e+00+0.00000000e+00j,  0.00000000e+00+0.00000000e+00j,\n",
              "        0.00000000e+00+0.00000000e+00j,  0.00000000e+00+0.00000000e+00j,\n",
              "        0.00000000e+00+0.00000000e+00j,  0.00000000e+00+0.00000000e+00j,\n",
              "        0.00000000e+00+0.00000000e+00j,  0.00000000e+00+0.00000000e+00j,\n",
              "        0.00000000e+00+0.00000000e+00j,  0.00000000e+00+0.00000000e+00j,\n",
              "        0.00000000e+00+0.00000000e+00j,  0.00000000e+00+0.00000000e+00j,\n",
              "        0.00000000e+00+0.00000000e+00j,  0.00000000e+00+0.00000000e+00j,\n",
              "        0.00000000e+00+0.00000000e+00j,  0.00000000e+00+0.00000000e+00j,\n",
              "        0.00000000e+00+0.00000000e+00j,  0.00000000e+00+0.00000000e+00j,\n",
              "        0.00000000e+00+0.00000000e+00j,  0.00000000e+00+0.00000000e+00j,\n",
              "        0.00000000e+00+0.00000000e+00j,  0.00000000e+00+0.00000000e+00j,\n",
              "        0.00000000e+00+0.00000000e+00j,  0.00000000e+00+0.00000000e+00j,\n",
              "        0.00000000e+00+0.00000000e+00j,  0.00000000e+00+0.00000000e+00j,\n",
              "        0.00000000e+00+0.00000000e+00j,  0.00000000e+00+0.00000000e+00j,\n",
              "        0.00000000e+00+0.00000000e+00j,  0.00000000e+00+0.00000000e+00j,\n",
              "        0.00000000e+00+0.00000000e+00j,  0.00000000e+00+0.00000000e+00j,\n",
              "        0.00000000e+00+0.00000000e+00j,  0.00000000e+00+0.00000000e+00j,\n",
              "        0.00000000e+00+0.00000000e+00j,  0.00000000e+00+0.00000000e+00j,\n",
              "        0.00000000e+00+0.00000000e+00j,  0.00000000e+00+0.00000000e+00j,\n",
              "        0.00000000e+00+0.00000000e+00j,  0.00000000e+00+0.00000000e+00j,\n",
              "        0.00000000e+00+0.00000000e+00j,  0.00000000e+00+0.00000000e+00j,\n",
              "        0.00000000e+00+0.00000000e+00j,  0.00000000e+00+0.00000000e+00j,\n",
              "        0.00000000e+00+0.00000000e+00j,  0.00000000e+00+0.00000000e+00j,\n",
              "        0.00000000e+00+0.00000000e+00j,  0.00000000e+00+0.00000000e+00j])"
            ]
          },
          "metadata": {},
          "execution_count": 9
        }
      ]
    },
    {
      "cell_type": "markdown",
      "metadata": {
        "id": "zQAAzxAJa0cR"
      },
      "source": [
        "You can find Covariance matrix manually or use Library"
      ]
    },
    {
      "cell_type": "code",
      "metadata": {
        "id": "v8DMpFK74R7c"
      },
      "source": [],
      "execution_count": null,
      "outputs": []
    },
    {
      "cell_type": "code",
      "metadata": {
        "id": "RloadxSKT7zm",
        "colab": {
          "base_uri": "https://localhost:8080/"
        },
        "outputId": "fbdf17a3-b3be-4efb-94b4-1e1a1767fd98"
      },
      "source": [
        "from sklearn.decomposition import PCA\n",
        "pca = PCA(.95)\n",
        "X_new=pca.fit_transform(X_std)\n",
        "eig_vals=pca.explained_variance_\n",
        "\n",
        "print('Eigenvectors \\n%s' %pca)\n",
        "print('\\nEigenvalues \\n%s' %eig_vals)"
      ],
      "execution_count": null,
      "outputs": [
        {
          "output_type": "stream",
          "name": "stdout",
          "text": [
            "Eigenvectors \n",
            "PCA(n_components=0.95)\n",
            "\n",
            "Eigenvalues \n",
            "[345461.47812618 250042.1076638  222144.04019841 198563.31989173\n",
            " 172166.12259708 159213.2261283  111376.78115598  99451.49059151\n",
            "  92369.38200562  79878.70193572  77003.27055431  62799.79128478\n",
            "  61098.14234933  57633.83112974  53608.24933423  52586.98577648\n",
            "  47317.9495977   46061.2386965   38506.37088837  36396.34648642\n",
            "  36082.67975417  34730.94100679  34083.74576035  31469.09314083\n",
            "  29815.32361248  28191.17179626  27130.52366731  26721.66358086\n",
            "  24383.62134238  23889.75530367  22362.53656761  21442.35883883\n",
            "  19975.33515133  18976.7397448   18785.34588143  17677.40496539\n",
            "  17203.95784605  16661.71538269  16349.86501195  15016.11022748\n",
            "  14215.6209982   14065.90284823  13976.49130551  13409.05042521\n",
            "  12749.90260065  12363.01313157  12098.36077756  11873.81919225\n",
            "  11638.24003423  10824.04498684  10428.15086058   9920.32856987\n",
            "   9691.88373752   9387.66095846   9125.75567998   8982.28587021\n",
            "   8652.07782825   8382.1849651    7883.54970186   7798.71757933\n",
            "   7369.12460534   7349.32020097   7131.94783583   7018.03299712\n",
            "   6809.19588722   6609.23899937   6396.05263566   6374.27135366\n",
            "   6091.76266957   6013.1604701    5937.23466164   5700.53110204\n",
            "   5652.2009494    5513.08455857   5307.2065358    5084.92587974\n",
            "   5074.31227038   4988.25301827   4692.99014795   4638.19435954\n",
            "   4585.10570642   4360.052036     4300.60750718   4272.38028584\n",
            "   4180.64406225   4064.51736737   3929.14997514   3877.59002446\n",
            "   3798.05145555   3708.87600293   3678.81321363   3663.30342427\n",
            "   3605.38128277   3553.93256143   3412.95212396   3330.33945283\n",
            "   3243.08285807   3229.44602259   3158.44057754   3113.51622679\n",
            "   3090.60445622   2972.6175148    2912.32514107   2822.54781953\n",
            "   2808.10175722   2767.13513815   2681.44856803   2628.27396935\n",
            "   2592.06580324   2532.4078472    2486.10791186   2450.20715703]\n"
          ]
        }
      ]
    },
    {
      "cell_type": "code",
      "metadata": {
        "id": "M36u1lD5T7zm",
        "colab": {
          "base_uri": "https://localhost:8080/",
          "height": 430
        },
        "outputId": "e56699b7-d92b-4f7c-ef02-b48e8c0e3090"
      },
      "source": [
        "import matplotlib.pyplot as plt\n",
        "plt.plot(eig_vals,'.')\n",
        "plt.tick_params(axis='y',length=6, width=2)"
      ],
      "execution_count": null,
      "outputs": [
        {
          "output_type": "display_data",
          "data": {
            "text/plain": [
              "<Figure size 640x480 with 1 Axes>"
            ],
            "image/png": "[encoded data removed]"
          },
          "metadata": {}
        }
      ]
    },
    {
      "cell_type": "code",
      "metadata": {
        "id": "RzaPF5bbT7zm"
      },
      "source": [
        "plt.show()"
      ],
      "execution_count": null,
      "outputs": []
    },
    {
      "cell_type": "code",
      "metadata": {
        "id": "QWqozLnHT7zm",
        "colab": {
          "base_uri": "https://localhost:8080/",
          "height": 430
        },
        "outputId": "124a697c-5bd9-48f4-8575-15e9b62913a9"
      },
      "source": [
        "eig_vecs=pca.components_\n",
        "Projdata=np.dot((X_std-mean_vec),eig_vecs.T)\n",
        "plt.clf()\n",
        "\n",
        "digit=np.arange(50)\n",
        "\n",
        "plt.plot(Projdata[digit,1],Projdata[digit,2],'x',color='g')\n",
        "digit=digit+200\n",
        "plt.plot(Projdata[digit,1],Projdata[digit,2],'x',color='r')\n",
        "\n",
        "plt.show()"
      ],
      "execution_count": null,
      "outputs": [
        {
          "output_type": "display_data",
          "data": {
            "text/plain": [
              "<Figure size 640x480 with 1 Axes>"
            ],
            "image/png": "[encoded data removed]"
          },
          "metadata": {}
        }
      ]
    },
    {
      "cell_type": "markdown",
      "metadata": {
        "id": "A5YOqqvhT7zn"
      },
      "source": [
        "import matplotlib.pyplot as plt\n",
        "\n",
        "\n",
        "Projdata50=np.dot((X_std-).T,eig_vecs[:,1:51])\n",
        "\n",
        "size(Projdata50)"
      ]
    },
    {
      "cell_type": "code",
      "metadata": {
        "id": "xMPYD9DLT7zn"
      },
      "source": [
        "import matplotlib.pyplot as plt\n",
        "\n",
        "Projdata50=np.dot((X_std-mean_vec).T,eig_vecs[:,:400])\n",
        "\n"
      ],
      "execution_count": null,
      "outputs": []
    },
    {
      "cell_type": "code",
      "metadata": {
        "id": "AoX5GsRuT7zn",
        "colab": {
          "base_uri": "https://localhost:8080/"
        },
        "outputId": "8f6fe245-f8d5-40e9-f162-4c3e5c5e100c"
      },
      "source": [
        "recon50=np.dot(eig_vecs[:,:400], Projdata50.T)\n",
        "recon50.shape"
      ],
      "execution_count": null,
      "outputs": [
        {
          "output_type": "execute_result",
          "data": {
            "text/plain": [
              "(500, 784)"
            ]
          },
          "metadata": {},
          "execution_count": 17
        }
      ]
    },
    {
      "cell_type": "code",
      "metadata": {
        "id": "xoJNOYKGT7zn",
        "colab": {
          "base_uri": "https://localhost:8080/",
          "height": 265
        },
        "outputId": "5f4796a9-5a52-479b-cfd6-64574ec5b8a2"
      },
      "source": [
        "plt.imshow(np.reshape(recon50[1],[28,28]))\n",
        "plt.show()"
      ],
      "execution_count": null,
      "outputs": [
        {
          "output_type": "display_data",
          "data": {
            "text/plain": [
              "<Figure size 432x288 with 1 Axes>"
            ],
            "image/png": "[encoded data removed]"
          },
          "metadata": {
            "needs_background": "light"
          }
        }
      ]
    },
    {
      "cell_type": "code",
      "metadata": {
        "id": "d6LCAdJBT7zn",
        "colab": {
          "base_uri": "https://localhost:8080/",
          "height": 265
        },
        "outputId": "cd4e2841-e8ca-4a99-8e4e-ea6e5d2915fe"
      },
      "source": [
        "Projdata100=np.dot((X_std-mean_vec).T,eig_vecs[:,1:101])\n",
        "recon100=np.dot(eig_vecs[:,1:101], Projdata100.T)+mean_vec\n",
        "plt.imshow(np.reshape(recon100[266,:],[28,28]))\n",
        "plt.show()"
      ],
      "execution_count": null,
      "outputs": [
        {
          "output_type": "display_data",
          "data": {
            "text/plain": [
              "<Figure size 432x288 with 1 Axes>"
            ],
            "image/png": "[encoded data removed]"
          },
          "metadata": {
            "needs_background": "light"
          }
        }
      ]
    },
    {
      "cell_type": "code",
      "metadata": {
        "id": "5qxCpWeLT7zn",
        "colab": {
          "base_uri": "https://localhost:8080/"
        },
        "outputId": "82284af3-1612-4bab-a278-b7792843981c"
      },
      "source": [
        "eig_vecs.sort"
      ],
      "execution_count": null,
      "outputs": [
        {
          "output_type": "execute_result",
          "data": {
            "text/plain": [
              "<function ndarray.sort>"
            ]
          },
          "metadata": {},
          "execution_count": 20
        }
      ]
    },
    {
      "cell_type": "code",
      "metadata": {
        "id": "0EYCg0pET7zn",
        "colab": {
          "base_uri": "https://localhost:8080/"
        },
        "outputId": "700efe63-80a5-432b-a77c-a06ff7ca5b5f"
      },
      "source": [
        "print(eig_vecs)"
      ],
      "execution_count": null,
      "outputs": [
        {
          "output_type": "stream",
          "name": "stdout",
          "text": [
            "[[ 0.00000000e+00  1.11022302e-16  0.00000000e+00 ...  0.00000000e+00\n",
            "   0.00000000e+00  0.00000000e+00]\n",
            " [-6.93889390e-18 -2.42861287e-17  4.16333634e-17 ...  0.00000000e+00\n",
            "   0.00000000e+00  0.00000000e+00]\n",
            " [-9.71445147e-17  2.08166817e-17 -6.93889390e-17 ...  0.00000000e+00\n",
            "   0.00000000e+00  0.00000000e+00]\n",
            " ...\n",
            " [ 5.15116649e-15 -1.07406488e-15 -1.28734371e-14 ... -0.00000000e+00\n",
            "  -0.00000000e+00 -0.00000000e+00]\n",
            " [-2.97767995e-15  1.08191451e-14  2.40665235e-14 ...  0.00000000e+00\n",
            "   0.00000000e+00  0.00000000e+00]\n",
            " [ 1.85032395e-01 -8.63266167e-02 -3.69097110e-03 ...  0.00000000e+00\n",
            "   0.00000000e+00  0.00000000e+00]]\n"
          ]
        }
      ]
    },
    {
      "cell_type": "code",
      "metadata": {
        "id": "ITWhOGEbT7zn"
      },
      "source": [
        "\n",
        "\n",
        "# This is an extremely inefficient function.\n",
        "def pca_com(com, images):\n",
        "    # percentage should be a decimal from 0 to 1\n",
        "    pca = PCA(n_components=com)\n",
        "    pca.fit(images)\n",
        "    components = pca.transform(images)\n",
        "    approxOriginal = pca.inverse_transform(components)\n",
        "    return approxOriginal"
      ],
      "execution_count": null,
      "outputs": []
    },
    {
      "cell_type": "code",
      "metadata": {
        "id": "K8rIC6p2T7zn",
        "colab": {
          "base_uri": "https://localhost:8080/",
          "height": 265
        },
        "outputId": "6c9524ef-a350-42b5-f7e7-231f13649ecf"
      },
      "source": [
        "pca = PCA(n_components=80)\n",
        "pca.fit(X_std)\n",
        "plt.plot(np.cumsum(pca.explained_variance_ratio_),'.')\n",
        "plt.show()"
      ],
      "execution_count": null,
      "outputs": [
        {
          "output_type": "display_data",
          "data": {
            "text/plain": [
              "<Figure size 432x288 with 1 Axes>"
            ],
            "image/png": "[encoded data removed]"
          },
          "metadata": {
            "needs_background": "light"
          }
        }
      ]
    },
    {
      "cell_type": "code",
      "metadata": {
        "id": "eDuzFfdpT7zn",
        "colab": {
          "base_uri": "https://localhost:8080/",
          "height": 258
        },
        "outputId": "6902e3ed-ee1b-455d-912d-64eb64bcb0f1"
      },
      "source": [
        "plt.clf()\n",
        "plt.figure(figsize=(20,4));\n",
        "\n",
        "# Original Image (784 components)\n",
        "plt.subplot(1, 6, 1);\n",
        "plt.imshow(X_std[260,:].reshape(28,28),\n",
        "              cmap = plt.cm.gray, interpolation='nearest',\n",
        "              clim=(0, 255));\n",
        "plt.xlabel('784 Components', fontsize = 12)\n",
        "plt.title('Original Image', fontsize = 14);\n",
        "\n",
        "\n",
        "# 10 principal components\n",
        "plt.subplot(1, 6, 2);\n",
        "plt.imshow(pca_com(10, X_std)[260].reshape(28, 28),\n",
        "              cmap = plt.cm.gray, interpolation='nearest',\n",
        "              clim=(0, 255));\n",
        "plt.title('10 components', fontsize = 12);\n",
        "\n",
        "\n",
        "\n",
        "# 20 principal components\n",
        "plt.subplot(1, 6, 3);\n",
        "plt.imshow(pca_com(20, X_std)[260].reshape(28, 28),\n",
        "              cmap = plt.cm.gray, interpolation='nearest',\n",
        "              clim=(0, 255));\n",
        "plt.title('20 Components', fontsize = 12)\n",
        "\n",
        "\n",
        "# 30 principal components\n",
        "plt.subplot(1, 6, 4);\n",
        "plt.imshow(pca_com(30, X_std)[260].reshape(28, 28),\n",
        "              cmap = plt.cm.gray, interpolation='nearest',\n",
        "              clim=(0, 255));\n",
        "plt.title('30 Components', fontsize = 12)\n",
        "\n",
        "\n",
        "# 40 principal components\n",
        "plt.subplot(1, 6, 5)\n",
        "plt.imshow(pca_com(40, X_std)[260].reshape(28, 28),\n",
        "              cmap = plt.cm.gray, interpolation='nearest',\n",
        "              clim=(0, 255));\n",
        "plt.title('40 Components', fontsize = 12)\n",
        "\n",
        "# 50 principal components\n",
        "plt.subplot(1, 6, 6);\n",
        "plt.imshow(pca_com(50, X_std)[260].reshape(28, 28),\n",
        "              cmap = plt.cm.gray, interpolation='nearest',\n",
        "              clim=(0, 255));\n",
        "plt.title('50 components', fontsize = 12);\n",
        "plt.show()\n",
        "\n"
      ],
      "execution_count": null,
      "outputs": [
        {
          "output_type": "display_data",
          "data": {
            "text/plain": [
              "<Figure size 432x288 with 0 Axes>"
            ]
          },
          "metadata": {}
        },
        {
          "output_type": "display_data",
          "data": {
            "text/plain": [
              "<Figure size 1440x288 with 6 Axes>"
            ],
            "image/png": "[encoded data removed]"
          },
          "metadata": {
            "needs_background": "light"
          }
        }
      ]
    },
    {
      "cell_type": "code",
      "metadata": {
        "id": "Tm8-8HzjT7zn",
        "colab": {
          "base_uri": "https://localhost:8080/",
          "height": 79
        },
        "outputId": "d5c14ba3-b392-437d-f011-62663b49f289"
      },
      "source": [
        "pca = PCA(.99)\n",
        "pca.fit(X_std)"
      ],
      "execution_count": null,
      "outputs": [
        {
          "output_type": "execute_result",
          "data": {
            "text/plain": [
              "PCA(n_components=0.99)"
            ],
            "text/html": [
              "<style>#sk-container-id-5 {\n",
              "  /* Definition of color scheme common for light and dark mode */\n",
              "  --sklearn-color-text: black;\n",
              "  --sklearn-color-line: gray;\n",
              "  /* Definition of color scheme for unfitted estimators */\n",
              "  --sklearn-color-unfitted-level-0: #fff5e6;\n",
              "  --sklearn-color-unfitted-level-1: #f6e4d2;\n",
              "  --sklearn-color-unfitted-level-2: #ffe0b3;\n",
              "  --sklearn-color-unfitted-level-3: chocolate;\n",
              "  /* Definition of color scheme for fitted estimators */\n",
              "  --sklearn-color-fitted-level-0: #f0f8ff;\n",
              "  --sklearn-color-fitted-level-1: #d4ebff;\n",
              "  --sklearn-color-fitted-level-2: #b3dbfd;\n",
              "  --sklearn-color-fitted-level-3: cornflowerblue;\n",
              "\n",
              "  /* Specific color for light theme */\n",
              "  --sklearn-color-text-on-default-background: var(--sg-text-color, var(--theme-code-foreground, var(--jp-content-font-color1, black)));\n",
              "  --sklearn-color-background: var(--sg-background-color, var(--theme-background, var(--jp-layout-color0, white)));\n",
              "  --sklearn-color-border-box: var(--sg-text-color, var(--theme-code-foreground, var(--jp-content-font-color1, black)));\n",
              "  --sklearn-color-icon: #696969;\n",
              "\n",
              "  @media (prefers-color-scheme: dark) {\n",
              "    /* Redefinition of color scheme for dark theme */\n",
              "    --sklearn-color-text-on-default-background: var(--sg-text-color, var(--theme-code-foreground, var(--jp-content-font-color1, white)));\n",
              "    --sklearn-color-background: var(--sg-background-color, var(--theme-background, var(--jp-layout-color0, #111)));\n",
              "    --sklearn-color-border-box: var(--sg-text-color, var(--theme-code-foreground, var(--jp-content-font-color1, white)));\n",
              "    --sklearn-color-icon: #878787;\n",
              "  }\n",
              "}\n",
              "\n",
              "#sk-container-id-5 {\n",
              "  color: var(--sklearn-color-text);\n",
              "}\n",
              "\n",
              "#sk-container-id-5 pre {\n",
              "  padding: 0;\n",
              "}\n",
              "\n",
              "#sk-container-id-5 input.sk-hidden--visually {\n",
              "  border: 0;\n",
              "  clip: rect(1px 1px 1px 1px);\n",
              "  clip: rect(1px, 1px, 1px, 1px);\n",
              "  height: 1px;\n",
              "  margin: -1px;\n",
              "  overflow: hidden;\n",
              "  padding: 0;\n",
              "  position: absolute;\n",
              "  width: 1px;\n",
              "}\n",
              "\n",
              "#sk-container-id-5 div.sk-dashed-wrapped {\n",
              "  border: 1px dashed var(--sklearn-color-line);\n",
              "  margin: 0 0.4em 0.5em 0.4em;\n",
              "  box-sizing: border-box;\n",
              "  padding-bottom: 0.4em;\n",
              "  background-color: var(--sklearn-color-background);\n",
              "}\n",
              "\n",
              "#sk-container-id-5 div.sk-container {\n",
              "  /* jupyter's `normalize.less` sets `[hidden] { display: none; }`\n",
              "     but bootstrap.min.css set `[hidden] { display: none !important; }`\n",
              "     so we also need the `!important` here to be able to override the\n",
              "     default hidden behavior on the sphinx rendered scikit-learn.org.\n",
              "     See: https://github.com/scikit-learn/scikit-learn/issues/21755 */\n",
              "  display: inline-block !important;\n",
              "  position: relative;\n",
              "}\n",
              "\n",
              "#sk-container-id-5 div.sk-text-repr-fallback {\n",
              "  display: none;\n",
              "}\n",
              "\n",
              "div.sk-parallel-item,\n",
              "div.sk-serial,\n",
              "div.sk-item {\n",
              "  /* draw centered vertical line to link estimators */\n",
              "  background-image: linear-gradient(var(--sklearn-color-text-on-default-background), var(--sklearn-color-text-on-default-background));\n",
              "  background-size: 2px 100%;\n",
              "  background-repeat: no-repeat;\n",
              "  background-position: center center;\n",
              "}\n",
              "\n",
              "/* Parallel-specific style estimator block */\n",
              "\n",
              "#sk-container-id-5 div.sk-parallel-item::after {\n",
              "  content: \"\";\n",
              "  width: 100%;\n",
              "  border-bottom: 2px solid var(--sklearn-color-text-on-default-background);\n",
              "  flex-grow: 1;\n",
              "}\n",
              "\n",
              "#sk-container-id-5 div.sk-parallel {\n",
              "  display: flex;\n",
              "  align-items: stretch;\n",
              "  justify-content: center;\n",
              "  background-color: var(--sklearn-color-background);\n",
              "  position: relative;\n",
              "}\n",
              "\n",
              "#sk-container-id-5 div.sk-parallel-item {\n",
              "  display: flex;\n",
              "  flex-direction: column;\n",
              "}\n",
              "\n",
              "#sk-container-id-5 div.sk-parallel-item:first-child::after {\n",
              "  align-self: flex-end;\n",
              "  width: 50%;\n",
              "}\n",
              "\n",
              "#sk-container-id-5 div.sk-parallel-item:last-child::after {\n",
              "  align-self: flex-start;\n",
              "  width: 50%;\n",
              "}\n",
              "\n",
              "#sk-container-id-5 div.sk-parallel-item:only-child::after {\n",
              "  width: 0;\n",
              "}\n",
              "\n",
              "/* Serial-specific style estimator block */\n",
              "\n",
              "#sk-container-id-5 div.sk-serial {\n",
              "  display: flex;\n",
              "  flex-direction: column;\n",
              "  align-items: center;\n",
              "  background-color: var(--sklearn-color-background);\n",
              "  padding-right: 1em;\n",
              "  padding-left: 1em;\n",
              "}\n",
              "\n",
              "\n",
              "/* Toggleable style: style used for estimator/Pipeline/ColumnTransformer box that is\n",
              "clickable and can be expanded/collapsed.\n",
              "- Pipeline and ColumnTransformer use this feature and define the default style\n",
              "- Estimators will overwrite some part of the style using the `sk-estimator` class\n",
              "*/\n",
              "\n",
              "/* Pipeline and ColumnTransformer style (default) */\n",
              "\n",
              "#sk-container-id-5 div.sk-toggleable {\n",
              "  /* Default theme specific background. It is overwritten whether we have a\n",
              "  specific estimator or a Pipeline/ColumnTransformer */\n",
              "  background-color: var(--sklearn-color-background);\n",
              "}\n",
              "\n",
              "/* Toggleable label */\n",
              "#sk-container-id-5 label.sk-toggleable__label {\n",
              "  cursor: pointer;\n",
              "  display: block;\n",
              "  width: 100%;\n",
              "  margin-bottom: 0;\n",
              "  padding: 0.5em;\n",
              "  box-sizing: border-box;\n",
              "  text-align: center;\n",
              "}\n",
              "\n",
              "#sk-container-id-5 label.sk-toggleable__label-arrow:before {\n",
              "  /* Arrow on the left of the label */\n",
              "  content: \"▸\";\n",
              "  float: left;\n",
              "  margin-right: 0.25em;\n",
              "  color: var(--sklearn-color-icon);\n",
              "}\n",
              "\n",
              "#sk-container-id-5 label.sk-toggleable__label-arrow:hover:before {\n",
              "  color: var(--sklearn-color-text);\n",
              "}\n",
              "\n",
              "/* Toggleable content - dropdown */\n",
              "\n",
              "#sk-container-id-5 div.sk-toggleable__content {\n",
              "  max-height: 0;\n",
              "  max-width: 0;\n",
              "  overflow: hidden;\n",
              "  text-align: left;\n",
              "  /* unfitted */\n",
              "  background-color: var(--sklearn-color-unfitted-level-0);\n",
              "}\n",
              "\n",
              "#sk-container-id-5 div.sk-toggleable__content.fitted {\n",
              "  /* fitted */\n",
              "  background-color: var(--sklearn-color-fitted-level-0);\n",
              "}\n",
              "\n",
              "#sk-container-id-5 div.sk-toggleable__content pre {\n",
              "  margin: 0.2em;\n",
              "  border-radius: 0.25em;\n",
              "  color: var(--sklearn-color-text);\n",
              "  /* unfitted */\n",
              "  background-color: var(--sklearn-color-unfitted-level-0);\n",
              "}\n",
              "\n",
              "#sk-container-id-5 div.sk-toggleable__content.fitted pre {\n",
              "  /* unfitted */\n",
              "  background-color: var(--sklearn-color-fitted-level-0);\n",
              "}\n",
              "\n",
              "#sk-container-id-5 input.sk-toggleable__control:checked~div.sk-toggleable__content {\n",
              "  /* Expand drop-down */\n",
              "  max-height: 200px;\n",
              "  max-width: 100%;\n",
              "  overflow: auto;\n",
              "}\n",
              "\n",
              "#sk-container-id-5 input.sk-toggleable__control:checked~label.sk-toggleable__label-arrow:before {\n",
              "  content: \"▾\";\n",
              "}\n",
              "\n",
              "/* Pipeline/ColumnTransformer-specific style */\n",
              "\n",
              "#sk-container-id-5 div.sk-label input.sk-toggleable__control:checked~label.sk-toggleable__label {\n",
              "  color: var(--sklearn-color-text);\n",
              "  background-color: var(--sklearn-color-unfitted-level-2);\n",
              "}\n",
              "\n",
              "#sk-container-id-5 div.sk-label.fitted input.sk-toggleable__control:checked~label.sk-toggleable__label {\n",
              "  background-color: var(--sklearn-color-fitted-level-2);\n",
              "}\n",
              "\n",
              "/* Estimator-specific style */\n",
              "\n",
              "/* Colorize estimator box */\n",
              "#sk-container-id-5 div.sk-estimator input.sk-toggleable__control:checked~label.sk-toggleable__label {\n",
              "  /* unfitted */\n",
              "  background-color: var(--sklearn-color-unfitted-level-2);\n",
              "}\n",
              "\n",
              "#sk-container-id-5 div.sk-estimator.fitted input.sk-toggleable__control:checked~label.sk-toggleable__label {\n",
              "  /* fitted */\n",
              "  background-color: var(--sklearn-color-fitted-level-2);\n",
              "}\n",
              "\n",
              "#sk-container-id-5 div.sk-label label.sk-toggleable__label,\n",
              "#sk-container-id-5 div.sk-label label {\n",
              "  /* The background is the default theme color */\n",
              "  color: var(--sklearn-color-text-on-default-background);\n",
              "}\n",
              "\n",
              "/* On hover, darken the color of the background */\n",
              "#sk-container-id-5 div.sk-label:hover label.sk-toggleable__label {\n",
              "  color: var(--sklearn-color-text);\n",
              "  background-color: var(--sklearn-color-unfitted-level-2);\n",
              "}\n",
              "\n",
              "/* Label box, darken color on hover, fitted */\n",
              "#sk-container-id-5 div.sk-label.fitted:hover label.sk-toggleable__label.fitted {\n",
              "  color: var(--sklearn-color-text);\n",
              "  background-color: var(--sklearn-color-fitted-level-2);\n",
              "}\n",
              "\n",
              "/* Estimator label */\n",
              "\n",
              "#sk-container-id-5 div.sk-label label {\n",
              "  font-family: monospace;\n",
              "  font-weight: bold;\n",
              "  display: inline-block;\n",
              "  line-height: 1.2em;\n",
              "}\n",
              "\n",
              "#sk-container-id-5 div.sk-label-container {\n",
              "  text-align: center;\n",
              "}\n",
              "\n",
              "/* Estimator-specific */\n",
              "#sk-container-id-5 div.sk-estimator {\n",
              "  font-family: monospace;\n",
              "  border: 1px dotted var(--sklearn-color-border-box);\n",
              "  border-radius: 0.25em;\n",
              "  box-sizing: border-box;\n",
              "  margin-bottom: 0.5em;\n",
              "  /* unfitted */\n",
              "  background-color: var(--sklearn-color-unfitted-level-0);\n",
              "}\n",
              "\n",
              "#sk-container-id-5 div.sk-estimator.fitted {\n",
              "  /* fitted */\n",
              "  background-color: var(--sklearn-color-fitted-level-0);\n",
              "}\n",
              "\n",
              "/* on hover */\n",
              "#sk-container-id-5 div.sk-estimator:hover {\n",
              "  /* unfitted */\n",
              "  background-color: var(--sklearn-color-unfitted-level-2);\n",
              "}\n",
              "\n",
              "#sk-container-id-5 div.sk-estimator.fitted:hover {\n",
              "  /* fitted */\n",
              "  background-color: var(--sklearn-color-fitted-level-2);\n",
              "}\n",
              "\n",
              "/* Specification for estimator info (e.g. \"i\" and \"?\") */\n",
              "\n",
              "/* Common style for \"i\" and \"?\" */\n",
              "\n",
              ".sk-estimator-doc-link,\n",
              "a:link.sk-estimator-doc-link,\n",
              "a:visited.sk-estimator-doc-link {\n",
              "  float: right;\n",
              "  font-size: smaller;\n",
              "  line-height: 1em;\n",
              "  font-family: monospace;\n",
              "  background-color: var(--sklearn-color-background);\n",
              "  border-radius: 1em;\n",
              "  height: 1em;\n",
              "  width: 1em;\n",
              "  text-decoration: none !important;\n",
              "  margin-left: 1ex;\n",
              "  /* unfitted */\n",
              "  border: var(--sklearn-color-unfitted-level-1) 1pt solid;\n",
              "  color: var(--sklearn-color-unfitted-level-1);\n",
              "}\n",
              "\n",
              ".sk-estimator-doc-link.fitted,\n",
              "a:link.sk-estimator-doc-link.fitted,\n",
              "a:visited.sk-estimator-doc-link.fitted {\n",
              "  /* fitted */\n",
              "  border: var(--sklearn-color-fitted-level-1) 1pt solid;\n",
              "  color: var(--sklearn-color-fitted-level-1);\n",
              "}\n",
              "\n",
              "/* On hover */\n",
              "div.sk-estimator:hover .sk-estimator-doc-link:hover,\n",
              ".sk-estimator-doc-link:hover,\n",
              "div.sk-label-container:hover .sk-estimator-doc-link:hover,\n",
              ".sk-estimator-doc-link:hover {\n",
              "  /* unfitted */\n",
              "  background-color: var(--sklearn-color-unfitted-level-3);\n",
              "  color: var(--sklearn-color-background);\n",
              "  text-decoration: none;\n",
              "}\n",
              "\n",
              "div.sk-estimator.fitted:hover .sk-estimator-doc-link.fitted:hover,\n",
              ".sk-estimator-doc-link.fitted:hover,\n",
              "div.sk-label-container:hover .sk-estimator-doc-link.fitted:hover,\n",
              ".sk-estimator-doc-link.fitted:hover {\n",
              "  /* fitted */\n",
              "  background-color: var(--sklearn-color-fitted-level-3);\n",
              "  color: var(--sklearn-color-background);\n",
              "  text-decoration: none;\n",
              "}\n",
              "\n",
              "/* Span, style for the box shown on hovering the info icon */\n",
              ".sk-estimator-doc-link span {\n",
              "  display: none;\n",
              "  z-index: 9999;\n",
              "  position: relative;\n",
              "  font-weight: normal;\n",
              "  right: .2ex;\n",
              "  padding: .5ex;\n",
              "  margin: .5ex;\n",
              "  width: min-content;\n",
              "  min-width: 20ex;\n",
              "  max-width: 50ex;\n",
              "  color: var(--sklearn-color-text);\n",
              "  box-shadow: 2pt 2pt 4pt #999;\n",
              "  /* unfitted */\n",
              "  background: var(--sklearn-color-unfitted-level-0);\n",
              "  border: .5pt solid var(--sklearn-color-unfitted-level-3);\n",
              "}\n",
              "\n",
              ".sk-estimator-doc-link.fitted span {\n",
              "  /* fitted */\n",
              "  background: var(--sklearn-color-fitted-level-0);\n",
              "  border: var(--sklearn-color-fitted-level-3);\n",
              "}\n",
              "\n",
              ".sk-estimator-doc-link:hover span {\n",
              "  display: block;\n",
              "}\n",
              "\n",
              "/* \"?\"-specific style due to the `<a>` HTML tag */\n",
              "\n",
              "#sk-container-id-5 a.estimator_doc_link {\n",
              "  float: right;\n",
              "  font-size: 1rem;\n",
              "  line-height: 1em;\n",
              "  font-family: monospace;\n",
              "  background-color: var(--sklearn-color-background);\n",
              "  border-radius: 1rem;\n",
              "  height: 1rem;\n",
              "  width: 1rem;\n",
              "  text-decoration: none;\n",
              "  /* unfitted */\n",
              "  color: var(--sklearn-color-unfitted-level-1);\n",
              "  border: var(--sklearn-color-unfitted-level-1) 1pt solid;\n",
              "}\n",
              "\n",
              "#sk-container-id-5 a.estimator_doc_link.fitted {\n",
              "  /* fitted */\n",
              "  border: var(--sklearn-color-fitted-level-1) 1pt solid;\n",
              "  color: var(--sklearn-color-fitted-level-1);\n",
              "}\n",
              "\n",
              "/* On hover */\n",
              "#sk-container-id-5 a.estimator_doc_link:hover {\n",
              "  /* unfitted */\n",
              "  background-color: var(--sklearn-color-unfitted-level-3);\n",
              "  color: var(--sklearn-color-background);\n",
              "  text-decoration: none;\n",
              "}\n",
              "\n",
              "#sk-container-id-5 a.estimator_doc_link.fitted:hover {\n",
              "  /* fitted */\n",
              "  background-color: var(--sklearn-color-fitted-level-3);\n",
              "}\n",
              "</style><div id=\"sk-container-id-5\" class=\"sk-top-container\"><div class=\"sk-text-repr-fallback\"><pre>PCA(n_components=0.99)</pre><b>In a Jupyter environment, please rerun this cell to show the HTML representation or trust the notebook. <br />On GitHub, the HTML representation is unable to render, please try loading this page with nbviewer.org.</b></div><div class=\"sk-container\" hidden><div class=\"sk-item\"><div class=\"sk-estimator fitted sk-toggleable\"><input class=\"sk-toggleable__control sk-hidden--visually\" id=\"sk-estimator-id-5\" type=\"checkbox\" checked><label for=\"sk-estimator-id-5\" class=\"sk-toggleable__label fitted sk-toggleable__label-arrow fitted\">&nbsp;&nbsp;PCA<a class=\"sk-estimator-doc-link fitted\" rel=\"noreferrer\" target=\"_blank\" href=\"https://scikit-learn.org/1.5/modules/generated/sklearn.decomposition.PCA.html\">?<span>Documentation for PCA</span></a><span class=\"sk-estimator-doc-link fitted\">i<span>Fitted</span></span></label><div class=\"sk-toggleable__content fitted\"><pre>PCA(n_components=0.99)</pre></div> </div></div></div></div>"
            ]
          },
          "metadata": {},
          "execution_count": 27
        }
      ]
    },
    {
      "cell_type": "code",
      "metadata": {
        "id": "qa7N5dtvT7zn",
        "colab": {
          "base_uri": "https://localhost:8080/"
        },
        "outputId": "13e14fbd-1691-457c-c9f7-c5d159cb2735"
      },
      "source": [
        "pca.n_components_"
      ],
      "execution_count": null,
      "outputs": [
        {
          "output_type": "execute_result",
          "data": {
            "text/plain": [
              "227"
            ]
          },
          "metadata": {},
          "execution_count": 28
        }
      ]
    },
    {
      "cell_type": "code",
      "metadata": {
        "id": "5hNS0UA5T7zn",
        "colab": {
          "base_uri": "https://localhost:8080/"
        },
        "outputId": "d19180d5-f196-46c4-8cf4-b569b26ec182"
      },
      "source": [
        "pca_com"
      ],
      "execution_count": null,
      "outputs": [
        {
          "output_type": "execute_result",
          "data": {
            "text/plain": [
              "<function __main__.pca_com>"
            ]
          },
          "metadata": {},
          "execution_count": 27
        }
      ]
    },
    {
      "cell_type": "code",
      "metadata": {
        "id": "EPsaqoPgT7zn",
        "colab": {
          "base_uri": "https://localhost:8080/",
          "height": 241
        },
        "outputId": "4ced0638-2ae5-4d42-abe2-284762403038"
      },
      "source": [
        "plt.clf()\n",
        "plt.figure(figsize=(20,4));\n",
        "\n",
        "# Original Image (784 components)\n",
        "plt.subplot(1, 6, 1);\n",
        "plt.imshow(pca_com(60, X_std)[260].reshape(28, 28),\n",
        "              cmap = plt.cm.gray, interpolation='nearest',\n",
        "              clim=(0, 255));\n",
        "\n",
        "plt.title('60 components', fontsize = 14);\n",
        "\n",
        "\n",
        "# 10 principal components\n",
        "plt.subplot(1, 6, 2);\n",
        "plt.imshow(pca_com(70, X_std)[260].reshape(28, 28),\n",
        "              cmap = plt.cm.gray, interpolation='nearest',\n",
        "              clim=(0, 255));\n",
        "plt.title('70 components', fontsize = 12);\n",
        "\n",
        "\n",
        "\n",
        "# 20 principal components\n",
        "plt.subplot(1, 6, 3);\n",
        "plt.imshow(pca_com(80, X_std)[260].reshape(28, 28),\n",
        "              cmap = plt.cm.gray, interpolation='nearest',\n",
        "              clim=(0, 255));\n",
        "plt.title('80 Components', fontsize = 12)\n",
        "\n",
        "\n",
        "# 30 principal components\n",
        "plt.subplot(1, 6, 4);\n",
        "plt.imshow(pca_com(90, X_std)[260].reshape(28, 28),\n",
        "              cmap = plt.cm.gray, interpolation='nearest',\n",
        "              clim=(0, 255));\n",
        "plt.title('90 Components', fontsize = 12)\n",
        "\n",
        "\n",
        "# 40 principal components\n",
        "plt.subplot(1, 6, 5)\n",
        "plt.imshow(pca_com(100, X_std)[260].reshape(28, 28),\n",
        "              cmap = plt.cm.gray, interpolation='nearest',\n",
        "              clim=(0, 255));\n",
        "plt.title('100 Components', fontsize = 12)\n",
        "\n",
        "# 50 principal components\n",
        "plt.subplot(1, 6, 6);\n",
        "plt.imshow(pca_com(110, X_std)[260].reshape(28, 28),\n",
        "              cmap = plt.cm.gray, interpolation='nearest',\n",
        "              clim=(0, 255));\n",
        "plt.title('110 components', fontsize = 12);\n",
        "plt.show()\n",
        "\n"
      ],
      "execution_count": null,
      "outputs": [
        {
          "output_type": "display_data",
          "data": {
            "text/plain": [
              "<Figure size 432x288 with 0 Axes>"
            ]
          },
          "metadata": {}
        },
        {
          "output_type": "display_data",
          "data": {
            "text/plain": [
              "<Figure size 1440x288 with 6 Axes>"
            ],
            "image/png": "[encoded data removed]"
          },
          "metadata": {
            "needs_background": "light"
          }
        }
      ]
    },
    {
      "cell_type": "code",
      "metadata": {
        "id": "NaQ0Cv15T7zo"
      },
      "source": [
        "pca = PCA(200)\n",
        "X_train_new=pca.fit_transform(X_train)\n",
        "X_test_new=pca.transform(X_test)\n"
      ],
      "execution_count": null,
      "outputs": []
    },
    {
      "cell_type": "code",
      "metadata": {
        "id": "0JTvX1HqT7zo",
        "colab": {
          "base_uri": "https://localhost:8080/"
        },
        "outputId": "e6b93cce-09ed-4648-8124-3ef64e39d59b"
      },
      "source": [
        "mlp2 = MLPClassifier(random_state=1,verbose=1)\n",
        "mlp2.fit(X_train_new, Y_train)"
      ],
      "execution_count": null,
      "outputs": [
        {
          "output_type": "stream",
          "name": "stdout",
          "text": [
            "Iteration 1, loss = 30.98736973\n",
            "Iteration 2, loss = 29.06021185\n",
            "Iteration 3, loss = 27.06103772\n",
            "Iteration 4, loss = 24.20088463\n",
            "Iteration 5, loss = 21.08031822\n",
            "Iteration 6, loss = 17.56223381\n",
            "Iteration 7, loss = 14.95819889\n",
            "Iteration 8, loss = 12.51230353\n",
            "Iteration 9, loss = 10.27408407\n",
            "Iteration 10, loss = 8.17510968\n",
            "Iteration 11, loss = 5.91756687\n",
            "Iteration 12, loss = 4.29723567\n",
            "Iteration 13, loss = 3.05059675\n",
            "Iteration 14, loss = 2.10078368\n",
            "Iteration 15, loss = 1.59403163\n",
            "Iteration 16, loss = 0.85473106\n",
            "Iteration 17, loss = 0.54911350\n",
            "Iteration 18, loss = 0.33633161\n",
            "Iteration 19, loss = 0.26187233\n",
            "Iteration 20, loss = 0.24064005\n",
            "Iteration 21, loss = 0.15865567\n",
            "Iteration 22, loss = 0.09359547\n",
            "Iteration 23, loss = 0.00076751\n",
            "Iteration 24, loss = 0.00044050\n",
            "Iteration 25, loss = 0.00038199\n",
            "Iteration 26, loss = 0.00027986\n",
            "Iteration 27, loss = 0.00010520\n",
            "Iteration 28, loss = 0.00007687\n",
            "Iteration 29, loss = 0.00006821\n",
            "Iteration 30, loss = 0.00005800\n",
            "Iteration 31, loss = 0.00005412\n",
            "Iteration 32, loss = 0.00005131\n",
            "Iteration 33, loss = 0.00004753\n",
            "Iteration 34, loss = 0.00004656\n",
            "Iteration 35, loss = 0.00004486\n",
            "Iteration 36, loss = 0.00004367\n",
            "Iteration 37, loss = 0.00004277\n",
            "Iteration 38, loss = 0.00004187\n",
            "Training loss did not improve more than tol=0.000100 for 10 consecutive epochs. Stopping.\n"
          ]
        },
        {
          "output_type": "execute_result",
          "data": {
            "text/plain": [
              "MLPClassifier(random_state=1, verbose=1)"
            ]
          },
          "metadata": {},
          "execution_count": 51
        }
      ]
    },
    {
      "cell_type": "code",
      "metadata": {
        "id": "1K4u4jEeT7zo",
        "colab": {
          "base_uri": "https://localhost:8080/"
        },
        "outputId": "5356954b-d407-480a-ee3f-b31735e748e3"
      },
      "source": [
        "print('The score for training data is', mlp2.score(X_train_new,Y_train))\n",
        "print('The score for test data is',mlp2.score(X_test_new,Y_test))"
      ],
      "execution_count": null,
      "outputs": [
        {
          "output_type": "stream",
          "name": "stdout",
          "text": [
            "The score for training data is 1.0\n",
            "The score for test data is 0.72\n"
          ]
        }
      ]
    },
    {
      "cell_type": "code",
      "metadata": {
        "id": "ai2CniFwbjDO",
        "colab": {
          "base_uri": "https://localhost:8080/"
        },
        "outputId": "6ec97bf4-48e9-4491-9a95-e17b7d0131a6"
      },
      "source": [
        "X_train_new.shape"
      ],
      "execution_count": null,
      "outputs": [
        {
          "output_type": "execute_result",
          "data": {
            "text/plain": [
              "(400, 50)"
            ]
          },
          "metadata": {},
          "execution_count": 32
        }
      ]
    },
    {
      "cell_type": "code",
      "metadata": {
        "colab": {
          "base_uri": "https://localhost:8080/"
        },
        "id": "Gg5dIxX7-joN",
        "outputId": "14e38635-8873-4df4-c31e-14107fb579a0"
      },
      "source": [
        "from sklearn.preprocessing import StandardScaler\n",
        "scaler2 = StandardScaler()\n",
        "X_train_new_std= scaler2.fit_transform(X_train_new)\n",
        "X_test_new_std= scaler2.transform(X_test_new)\n",
        "\n",
        "mlp4 = MLPClassifier(random_state=1,verbose=0)\n",
        "mlp4.fit(X_train_new_std, Y_train)\n",
        "print('The score for training data is', mlp4.score(X_train_new_std,Y_train))\n",
        "print('The score for test data is',mlp4.score(X_test_new_std,Y_test))"
      ],
      "execution_count": null,
      "outputs": [
        {
          "output_type": "stream",
          "name": "stdout",
          "text": [
            "The score for training data is 1.0\n",
            "The score for test data is 0.64\n"
          ]
        }
      ]
    },
    {
      "cell_type": "code",
      "metadata": {
        "colab": {
          "base_uri": "https://localhost:8080/"
        },
        "id": "kQsWgnFR-8Kn",
        "outputId": "3e8cbae0-0984-4951-90cb-ddfafb09f545"
      },
      "source": [
        "scaler = StandardScaler()\n",
        "X_train_std= scaler.fit_transform(X_train)\n",
        "X_test_std= scaler.transform(X_test)\n",
        "\n",
        "mlp3 = MLPClassifier(random_state=1,verbose=0)\n",
        "mlp3.fit(X_train_std, Y_train)\n",
        "print('The score for training data is', mlp3.score(X_train_std,Y_train))\n",
        "print('The score for test data is',mlp3.score(X_test_std,Y_test))"
      ],
      "execution_count": null,
      "outputs": [
        {
          "output_type": "stream",
          "name": "stdout",
          "text": [
            "The score for training data is 1.0\n",
            "The score for test data is 0.82\n"
          ]
        }
      ]
    },
    {
      "cell_type": "code",
      "metadata": {
        "id": "cRD2T8yu_K1Y"
      },
      "source": [],
      "execution_count": null,
      "outputs": []
    }
  ]
}