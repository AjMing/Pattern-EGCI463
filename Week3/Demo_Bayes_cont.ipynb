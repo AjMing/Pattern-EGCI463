{
  "nbformat": 4,
  "nbformat_minor": 0,
  "metadata": {
    "colab": {
      "provenance": [],
      "authorship_tag": "ABX9TyMntcFKfqGlV0VasjXZy79E",
      "include_colab_link": true
    },
    "kernelspec": {
      "name": "python3",
      "display_name": "Python 3"
    },
    "language_info": {
      "name": "python"
    }
  },
  "cells": [
    {
      "cell_type": "markdown",
      "metadata": {
        "id": "view-in-github",
        "colab_type": "text"
      },
      "source": [
        "<a href=\"https://colab.research.google.com/github/AjMing/Pattern-EGCI463/blob/main/Week3/Demo_Bayes_cont.ipynb\" target=\"_parent\"><img src=\"https://colab.research.google.com/assets/colab-badge.svg\" alt=\"Open In Colab\"/></a>"
      ]
    },
    {
      "cell_type": "code",
      "execution_count": null,
      "metadata": {
        "colab": {
          "base_uri": "https://localhost:8080/"
        },
        "id": "Wi8abq8Pz0Su",
        "outputId": "c4c9c0c9-9094-4a8e-b3b8-d055591bb203"
      },
      "outputs": [
        {
          "output_type": "execute_result",
          "data": {
            "text/plain": [
              "<scipy.stats._distn_infrastructure.rv_frozen at 0x7f6841cc2ed0>"
            ]
          },
          "metadata": {},
          "execution_count": 1
        }
      ],
      "source": [
        "import scipy.stats as sc\n",
        "sc.norm(160,1.63)"
      ]
    },
    {
      "cell_type": "code",
      "source": [
        "import numpy as np\n",
        "x=np.linspace(120,200)"
      ],
      "metadata": {
        "id": "MIcWm9bgz6BH"
      },
      "execution_count": null,
      "outputs": []
    },
    {
      "cell_type": "code",
      "source": [
        "import matplotlib.pyplot as plt\n",
        "\n",
        "plt.plot(x,sc.norm(170,10.5).pdf(x))\n"
      ],
      "metadata": {
        "colab": {
          "base_uri": "https://localhost:8080/",
          "height": 282
        },
        "id": "Y1BdAlQm0EJd",
        "outputId": "cab9b675-1942-438c-89e8-436f4be57a58"
      },
      "execution_count": null,
      "outputs": [
        {
          "output_type": "execute_result",
          "data": {
            "text/plain": [
              "[<matplotlib.lines.Line2D at 0x7f683309b9d0>]"
            ]
          },
          "metadata": {},
          "execution_count": 3
        },
        {
          "output_type": "display_data",
          "data": {
            "image/png": "[encoded data removed]",
            "text/plain": [
              "<Figure size 432x288 with 1 Axes>"
            ]
          },
          "metadata": {
            "needs_background": "light"
          }
        }
      ]
    },
    {
      "cell_type": "code",
      "source": [
        "#Set directory\n",
        "from google.colab import drive\n",
        "drive.mount('/content/drive/',force_remount=True)\n",
        "path = '/content/drive/My Drive/data'"
      ],
      "metadata": {
        "colab": {
          "base_uri": "https://localhost:8080/"
        },
        "id": "c1AZxKnU0Lnm",
        "outputId": "ee66406e-380a-4e8c-8a57-c244cbf6d8d0"
      },
      "execution_count": null,
      "outputs": [
        {
          "output_type": "stream",
          "name": "stdout",
          "text": [
            "Mounted at /content/drive/\n"
          ]
        }
      ]
    },
    {
      "cell_type": "code",
      "source": [
        "#Question1 What is a probability of P(W|Height=177)=?"
      ],
      "metadata": {
        "id": "zwRSwxd13bhX"
      },
      "execution_count": null,
      "outputs": []
    },
    {
      "cell_type": "code",
      "source": [
        "import pandas as pd\n",
        "df =pd.read_csv(path + '/Weight_Height_M_W.csv')\n",
        "print(df)"
      ],
      "metadata": {
        "colab": {
          "base_uri": "https://localhost:8080/"
        },
        "id": "jYKtZKrk0s1d",
        "outputId": "ae55324f-1ed9-4d86-807d-cd5680ee4d56"
      },
      "execution_count": null,
      "outputs": [
        {
          "output_type": "stream",
          "name": "stdout",
          "text": [
            "       Height   Weight gender\n",
            "0    159.7415  57.2608      W\n",
            "1    157.2365  53.1664      W\n",
            "2    158.8578  49.5106      W\n",
            "3    157.4017  54.1508      W\n",
            "4    156.2003  52.2173      W\n",
            "..        ...      ...    ...\n",
            "195  172.1863  63.6287      M\n",
            "196  168.9630  55.1719      M\n",
            "197  172.8701  53.6238      M\n",
            "198  171.1873  62.8852      M\n",
            "199  168.6423  75.0807      M\n",
            "\n",
            "[200 rows x 3 columns]\n"
          ]
        }
      ]
    },
    {
      "cell_type": "code",
      "source": [
        "#import io\n",
        "#from google.colab import files\n",
        "#uploaded = files.upload()\n",
        "#df =pd.read_csv(io.BytesIO(uploaded['Weight_Height_M_W.csv']),header=None)"
      ],
      "metadata": {
        "id": "fAdMcCo60_HQ"
      },
      "execution_count": null,
      "outputs": []
    },
    {
      "cell_type": "code",
      "source": [
        "df.groupby(['gender']).mean()\n",
        "df.groupby(['gender']).std()"
      ],
      "metadata": {
        "colab": {
          "base_uri": "https://localhost:8080/",
          "height": 143
        },
        "id": "5q37N_Y11V5e",
        "outputId": "cf5f5fb1-04cc-48cb-8b4b-21cf85a4c4c7"
      },
      "execution_count": null,
      "outputs": [
        {
          "output_type": "execute_result",
          "data": {
            "text/html": [
              "\n",
              "  <div id=\"df-124c6e00-d4d6-4126-a3d4-12cd634599d4\">\n",
              "    <div class=\"colab-df-container\">\n",
              "      <div>\n",
              "<style scoped>\n",
              "    .dataframe tbody tr th:only-of-type {\n",
              "        vertical-align: middle;\n",
              "    }\n",
              "\n",
              "    .dataframe tbody tr th {\n",
              "        vertical-align: top;\n",
              "    }\n",
              "\n",
              "    .dataframe thead th {\n",
              "        text-align: right;\n",
              "    }\n",
              "</style>\n",
              "<table border=\"1\" class=\"dataframe\">\n",
              "  <thead>\n",
              "    <tr style=\"text-align: right;\">\n",
              "      <th></th>\n",
              "      <th>Height</th>\n",
              "      <th>Weight</th>\n",
              "    </tr>\n",
              "    <tr>\n",
              "      <th>gender</th>\n",
              "      <th></th>\n",
              "      <th></th>\n",
              "    </tr>\n",
              "  </thead>\n",
              "  <tbody>\n",
              "    <tr>\n",
              "      <th>M</th>\n",
              "      <td>3.115980</td>\n",
              "      <td>7.562830</td>\n",
              "    </tr>\n",
              "    <tr>\n",
              "      <th>W</th>\n",
              "      <td>3.788572</td>\n",
              "      <td>5.785478</td>\n",
              "    </tr>\n",
              "  </tbody>\n",
              "</table>\n",
              "</div>\n",
              "      <button class=\"colab-df-convert\" onclick=\"convertToInteractive('df-124c6e00-d4d6-4126-a3d4-12cd634599d4')\"\n",
              "              title=\"Convert this dataframe to an interactive table.\"\n",
              "              style=\"display:none;\">\n",
              "        \n",
              "  <svg xmlns=\"http://www.w3.org/2000/svg\" height=\"24px\"viewBox=\"0 0 24 24\"\n",
              "       width=\"24px\">\n",
              "    <path d=\"M0 0h24v24H0V0z\" fill=\"none\"/>\n",
              "    <path d=\"M18.56 5.44l.94 2.06.94-2.06 2.06-.94-2.06-.94-.94-2.06-.94 2.06-2.06.94zm-11 1L8.5 8.5l.94-2.06 2.06-.94-2.06-.94L8.5 2.5l-.94 2.06-2.06.94zm10 10l.94 2.06.94-2.06 2.06-.94-2.06-.94-.94-2.06-.94 2.06-2.06.94z\"/><path d=\"M17.41 7.96l-1.37-1.37c-.4-.4-.92-.59-1.43-.59-.52 0-1.04.2-1.43.59L10.3 9.45l-7.72 7.72c-.78.78-.78 2.05 0 2.83L4 21.41c.39.39.9.59 1.41.59.51 0 1.02-.2 1.41-.59l7.78-7.78 2.81-2.81c.8-.78.8-2.07 0-2.86zM5.41 20L4 18.59l7.72-7.72 1.47 1.35L5.41 20z\"/>\n",
              "  </svg>\n",
              "      </button>\n",
              "      \n",
              "  <style>\n",
              "    .colab-df-container {\n",
              "      display:flex;\n",
              "      flex-wrap:wrap;\n",
              "      gap: 12px;\n",
              "    }\n",
              "\n",
              "    .colab-df-convert {\n",
              "      background-color: #E8F0FE;\n",
              "      border: none;\n",
              "      border-radius: 50%;\n",
              "      cursor: pointer;\n",
              "      display: none;\n",
              "      fill: #1967D2;\n",
              "      height: 32px;\n",
              "      padding: 0 0 0 0;\n",
              "      width: 32px;\n",
              "    }\n",
              "\n",
              "    .colab-df-convert:hover {\n",
              "      background-color: #E2EBFA;\n",
              "      box-shadow: 0px 1px 2px rgba(60, 64, 67, 0.3), 0px 1px 3px 1px rgba(60, 64, 67, 0.15);\n",
              "      fill: #174EA6;\n",
              "    }\n",
              "\n",
              "    [theme=dark] .colab-df-convert {\n",
              "      background-color: #3B4455;\n",
              "      fill: #D2E3FC;\n",
              "    }\n",
              "\n",
              "    [theme=dark] .colab-df-convert:hover {\n",
              "      background-color: #434B5C;\n",
              "      box-shadow: 0px 1px 3px 1px rgba(0, 0, 0, 0.15);\n",
              "      filter: drop-shadow(0px 1px 2px rgba(0, 0, 0, 0.3));\n",
              "      fill: #FFFFFF;\n",
              "    }\n",
              "  </style>\n",
              "\n",
              "      <script>\n",
              "        const buttonEl =\n",
              "          document.querySelector('#df-124c6e00-d4d6-4126-a3d4-12cd634599d4 button.colab-df-convert');\n",
              "        buttonEl.style.display =\n",
              "          google.colab.kernel.accessAllowed ? 'block' : 'none';\n",
              "\n",
              "        async function convertToInteractive(key) {\n",
              "          const element = document.querySelector('#df-124c6e00-d4d6-4126-a3d4-12cd634599d4');\n",
              "          const dataTable =\n",
              "            await google.colab.kernel.invokeFunction('convertToInteractive',\n",
              "                                                     [key], {});\n",
              "          if (!dataTable) return;\n",
              "\n",
              "          const docLinkHtml = 'Like what you see? Visit the ' +\n",
              "            '<a target=\"_blank\" href=https://colab.research.google.com/notebooks/data_table.ipynb>data table notebook</a>'\n",
              "            + ' to learn more about interactive tables.';\n",
              "          element.innerHTML = '';\n",
              "          dataTable['output_type'] = 'display_data';\n",
              "          await google.colab.output.renderOutput(dataTable, element);\n",
              "          const docLink = document.createElement('div');\n",
              "          docLink.innerHTML = docLinkHtml;\n",
              "          element.appendChild(docLink);\n",
              "        }\n",
              "      </script>\n",
              "    </div>\n",
              "  </div>\n",
              "  "
            ],
            "text/plain": [
              "          Height    Weight\n",
              "gender                    \n",
              "M       3.115980  7.562830\n",
              "W       3.788572  5.785478"
            ]
          },
          "metadata": {},
          "execution_count": 9
        }
      ]
    },
    {
      "cell_type": "code",
      "source": [
        "df.loc[df['gender']=='W','Weight'].mean()\n"
      ],
      "metadata": {
        "colab": {
          "base_uri": "https://localhost:8080/"
        },
        "id": "j2emm1qokFgt",
        "outputId": "794c8b44-f86c-4b32-886f-641d85c8390e"
      },
      "execution_count": null,
      "outputs": [
        {
          "output_type": "execute_result",
          "data": {
            "text/plain": [
              "53.18162799999998"
            ]
          },
          "metadata": {},
          "execution_count": 10
        }
      ]
    },
    {
      "cell_type": "code",
      "source": [
        "#P(W|Height=177) =P(Height=177|W)*P(W)/(P(Height=177|W)*P(W)+P(Height=177|M)*P(M))\n",
        "\n",
        "#P(Height=177|W)\n",
        "PH_W=sc.norm(160.13,3.788).pdf(177)\n",
        "#P(Height=177|M)\n",
        "PH_M=sc.norm(168.25,3.116).pdf(177)\n",
        "\n",
        "print(PH_W*0.5/(PH_W*0.5+PH_M*0.5))\n",
        "print(PH_M*0.5/(PH_W*0.5+PH_M*0.5))"
      ],
      "metadata": {
        "colab": {
          "base_uri": "https://localhost:8080/"
        },
        "id": "o1kfH_K58Ysk",
        "outputId": "4b9820a1-a1f8-4489-aeaf-12388b5bc3e8"
      },
      "execution_count": null,
      "outputs": [
        {
          "output_type": "stream",
          "name": "stdout",
          "text": [
            "0.002087686276526924\n",
            "0.9979123137234731\n"
          ]
        }
      ]
    },
    {
      "cell_type": "code",
      "source": [
        "np.mean(df[df['gender']=='W']['Height'])"
      ],
      "metadata": {
        "colab": {
          "base_uri": "https://localhost:8080/"
        },
        "id": "humV1hi18aMA",
        "outputId": "5cdae01c-346c-4d58-8757-f3ead9b325df"
      },
      "execution_count": null,
      "outputs": [
        {
          "output_type": "execute_result",
          "data": {
            "text/plain": [
              "160.13323300000005"
            ]
          },
          "metadata": {},
          "execution_count": 12
        }
      ]
    },
    {
      "cell_type": "code",
      "source": [
        "#Question2 What is a probability of P(W|Height=177, Weight=60)=?"
      ],
      "metadata": {
        "id": "WrWuVQm91X34"
      },
      "execution_count": null,
      "outputs": []
    },
    {
      "cell_type": "code",
      "source": [],
      "metadata": {
        "id": "ov_PI5clHLL-"
      },
      "execution_count": null,
      "outputs": []
    },
    {
      "cell_type": "code",
      "source": [
        "df['gender_code']=1*(df['gender']=='W')"
      ],
      "metadata": {
        "id": "lwkZfkCh4WTh"
      },
      "execution_count": null,
      "outputs": []
    },
    {
      "cell_type": "code",
      "source": [
        "print(df)"
      ],
      "metadata": {
        "id": "BwYawUH44mE_",
        "colab": {
          "base_uri": "https://localhost:8080/"
        },
        "outputId": "1f7046fd-7c1a-4ec5-f892-4ae14ce59eed"
      },
      "execution_count": null,
      "outputs": [
        {
          "output_type": "stream",
          "name": "stdout",
          "text": [
            "       Height   Weight gender  gender_code\n",
            "0    159.7415  57.2608      W            1\n",
            "1    157.2365  53.1664      W            1\n",
            "2    158.8578  49.5106      W            1\n",
            "3    157.4017  54.1508      W            1\n",
            "4    156.2003  52.2173      W            1\n",
            "..        ...      ...    ...          ...\n",
            "195  172.1863  63.6287      M            0\n",
            "196  168.9630  55.1719      M            0\n",
            "197  172.8701  53.6238      M            0\n",
            "198  171.1873  62.8852      M            0\n",
            "199  168.6423  75.0807      M            0\n",
            "\n",
            "[200 rows x 4 columns]\n"
          ]
        }
      ]
    },
    {
      "cell_type": "code",
      "source": [],
      "metadata": {
        "id": "nacrs_sg-UwO"
      },
      "execution_count": null,
      "outputs": []
    },
    {
      "cell_type": "code",
      "source": [
        "import random\n",
        "#random.seed(10)\n",
        "train=random.sample(range(200), 160)\n",
        "df['train']=0\n",
        "df.loc[train,'train']=1\n"
      ],
      "metadata": {
        "id": "zy6dK735CIUd"
      },
      "execution_count": null,
      "outputs": []
    },
    {
      "cell_type": "code",
      "source": [
        "data_train=df[df['train']==1]\n",
        "data_test=df[df['train']==0]\n"
      ],
      "metadata": {
        "id": "LKrC6NNnF_zv"
      },
      "execution_count": null,
      "outputs": []
    },
    {
      "cell_type": "code",
      "source": [
        "print(data_train)"
      ],
      "metadata": {
        "id": "KIUsLhI5HrR6",
        "colab": {
          "base_uri": "https://localhost:8080/"
        },
        "outputId": "aa47069c-1380-4dd5-8cce-7383bde03024"
      },
      "execution_count": null,
      "outputs": [
        {
          "output_type": "stream",
          "name": "stdout",
          "text": [
            "       Height   Weight gender  gender_code  train\n",
            "0    159.7415  57.2608      W            1      1\n",
            "1    157.2365  53.1664      W            1      1\n",
            "2    158.8578  49.5106      W            1      1\n",
            "3    157.4017  54.1508      W            1      1\n",
            "4    156.2003  52.2173      W            1      1\n",
            "..        ...      ...    ...          ...    ...\n",
            "195  172.1863  63.6287      M            0      1\n",
            "196  168.9630  55.1719      M            0      1\n",
            "197  172.8701  53.6238      M            0      1\n",
            "198  171.1873  62.8852      M            0      1\n",
            "199  168.6423  75.0807      M            0      1\n",
            "\n",
            "[160 rows x 5 columns]\n"
          ]
        }
      ]
    },
    {
      "cell_type": "code",
      "source": [
        "print(data_test)"
      ],
      "metadata": {
        "colab": {
          "base_uri": "https://localhost:8080/"
        },
        "id": "YQ_XRQzDfsVd",
        "outputId": "77502c53-2189-4985-c2bc-662a661727a8"
      },
      "execution_count": null,
      "outputs": [
        {
          "output_type": "stream",
          "name": "stdout",
          "text": [
            "       Height   Weight gender  gender_code  train\n",
            "8    158.5835  68.3823      W            1      0\n",
            "18   161.8555  53.6312      W            1      0\n",
            "19   157.6475  60.9373      W            1      0\n",
            "25   161.1941  63.4918      W            1      0\n",
            "29   153.0009  56.2988      W            1      0\n",
            "45   155.0523  50.6452      W            1      0\n",
            "56   154.7271  54.3823      W            1      0\n",
            "58   159.6568  50.6110      W            1      0\n",
            "61   156.9264  55.4104      W            1      0\n",
            "67   155.9105  46.7214      W            1      0\n",
            "69   160.8251  47.2935      W            1      0\n",
            "73   164.4139  50.7061      W            1      0\n",
            "74   165.7449  51.0843      W            1      0\n",
            "80   165.6361  55.5881      W            1      0\n",
            "87   165.4567  47.6790      W            1      0\n",
            "89   165.4431  48.0461      W            1      0\n",
            "90   164.8652  48.2169      W            1      0\n",
            "95   166.6484  52.3499      W            1      0\n",
            "104  169.1859  67.9315      M            0      0\n",
            "105  165.3883  68.6171      M            0      0\n",
            "108  165.9365  55.4850      M            0      0\n",
            "112  169.9423  63.4953      M            0      0\n",
            "114  172.0187  61.2302      M            0      0\n",
            "123  167.8594  60.4891      M            0      0\n",
            "134  161.1747  61.9290      M            0      0\n",
            "136  169.2464  57.6647      M            0      0\n",
            "138  167.1110  74.0423      M            0      0\n",
            "139  163.5092  67.4519      M            0      0\n",
            "142  165.8226  55.7264      M            0      0\n",
            "158  166.2549  46.8849      M            0      0\n",
            "159  162.5096  40.6020      M            0      0\n",
            "163  174.8635  60.4340      M            0      0\n",
            "166  173.0682  71.4029      M            0      0\n",
            "169  168.6678  57.0914      M            0      0\n",
            "173  167.6619  64.3665      M            0      0\n",
            "178  168.0190  46.0887      M            0      0\n",
            "181  164.7743  68.3666      M            0      0\n",
            "184  171.5845  60.5714      M            0      0\n",
            "187  163.6652  62.1252      M            0      0\n",
            "190  166.9564  64.8739      M            0      0\n"
          ]
        }
      ]
    },
    {
      "cell_type": "code",
      "source": [
        "mean_WM=data_train.loc[data_train['gender']=='M','Weight'].mean()\n",
        "sd_WM =data_train.loc[data_train['gender']=='M','Weight'].std()"
      ],
      "metadata": {
        "id": "ebZn6blUgJL4"
      },
      "execution_count": null,
      "outputs": []
    },
    {
      "cell_type": "code",
      "source": [
        "mean_WW=data_train.loc[data_train['gender']=='W','Weight'].mean()\n",
        "sd_WW =data_train.loc[data_train['gender']=='W','Weight'].std()"
      ],
      "metadata": {
        "id": "JJ5nzQvM4GIe"
      },
      "execution_count": null,
      "outputs": []
    },
    {
      "cell_type": "code",
      "source": [
        "mean_HM=data_train.loc[data_train['gender']=='M','Height'].mean()\n",
        "sd_HM =data_train.loc[data_train['gender']=='M','Height'].std()"
      ],
      "metadata": {
        "id": "6pKRVqCr4QrX"
      },
      "execution_count": null,
      "outputs": []
    },
    {
      "cell_type": "code",
      "source": [],
      "metadata": {
        "id": "cHK_UeQ54UrE"
      },
      "execution_count": null,
      "outputs": []
    },
    {
      "cell_type": "code",
      "source": [
        "mean_HW=data_train.loc[data_train['gender']=='W','Height'].mean()\n",
        "sd_HW =data_train.loc[data_train['gender']=='W','Height'].std()"
      ],
      "metadata": {
        "id": "2afvbhcS4VPF"
      },
      "execution_count": null,
      "outputs": []
    },
    {
      "cell_type": "code",
      "source": [
        "PW=sc.norm(mean_WW,sd_WW).pdf(data_test['Weight'])*sc.norm(mean_HW,sd_HW).pdf(data_test['Height'])*0.5\n"
      ],
      "metadata": {
        "id": "oI8dsdzP4Xt9"
      },
      "execution_count": null,
      "outputs": []
    },
    {
      "cell_type": "code",
      "source": [
        "PM=sc.norm(mean_WM,sd_WM).pdf(data_test['Weight'])*sc.norm(mean_HM,sd_HM).pdf(data_test['Height'])*0.5\n"
      ],
      "metadata": {
        "id": "_rCSujk941XH"
      },
      "execution_count": null,
      "outputs": []
    },
    {
      "cell_type": "code",
      "source": [
        "prob_w=PW/(PW+PM)"
      ],
      "metadata": {
        "id": "tULeMbUb5B3l"
      },
      "execution_count": null,
      "outputs": []
    },
    {
      "cell_type": "code",
      "source": [
        "prob_m=PM/(PW+PM)"
      ],
      "metadata": {
        "id": "eb1BHrUE5EyX"
      },
      "execution_count": null,
      "outputs": []
    },
    {
      "cell_type": "code",
      "source": [
        "np.set_printoptions(precision=3,suppress=True)\n",
        "np.array([np.round(prob_w,2) ,np.round(prob_m,2) ,data_test['gender']]).T"
      ],
      "metadata": {
        "colab": {
          "base_uri": "https://localhost:8080/"
        },
        "id": "QkCUYWMl5MVW",
        "outputId": "610e2b92-6aa8-489e-9ba6-45cbe1a32749"
      },
      "execution_count": null,
      "outputs": [
        {
          "output_type": "execute_result",
          "data": {
            "text/plain": [
              "array([[0.92, 0.08, 'W'],\n",
              "       [0.94, 0.06, 'W'],\n",
              "       [1.0, 0.0, 'W'],\n",
              "       [0.8, 0.2, 'W'],\n",
              "       [1.0, 0.0, 'W'],\n",
              "       [1.0, 0.0, 'W'],\n",
              "       [1.0, 0.0, 'W'],\n",
              "       [0.99, 0.01, 'W'],\n",
              "       [1.0, 0.0, 'W'],\n",
              "       [1.0, 0.0, 'W'],\n",
              "       [0.99, 0.01, 'W'],\n",
              "       [0.74, 0.26, 'W'],\n",
              "       [0.5, 0.5, 'W'],\n",
              "       [0.36, 0.64, 'W'],\n",
              "       [0.63, 0.37, 'W'],\n",
              "       [0.62, 0.38, 'W'],\n",
              "       [0.72, 0.28, 'W'],\n",
              "       [0.31, 0.69, 'W'],\n",
              "       [0.0, 1.0, 'M'],\n",
              "       [0.03, 0.97, 'M'],\n",
              "       [0.32, 0.68, 'M'],\n",
              "       [0.01, 0.99, 'M'],\n",
              "       [0.0, 1.0, 'M'],\n",
              "       [0.04, 0.96, 'M'],\n",
              "       [0.86, 0.14, 'M'],\n",
              "       [0.03, 0.97, 'M'],\n",
              "       [0.0, 1.0, 'M'],\n",
              "       [0.16, 0.84, 'M'],\n",
              "       [0.33, 0.67, 'M'],\n",
              "       [0.5, 0.5, 'M'],\n",
              "       [0.96, 0.04, 'M'],\n",
              "       [0.0, 1.0, 'M'],\n",
              "       [0.0, 1.0, 'M'],\n",
              "       [0.05, 0.95, 'M'],\n",
              "       [0.02, 0.98, 'M'],\n",
              "       [0.24, 0.76, 'M'],\n",
              "       [0.05, 0.95, 'M'],\n",
              "       [0.0, 1.0, 'M'],\n",
              "       [0.41, 0.59, 'M'],\n",
              "       [0.03, 0.97, 'M']], dtype=object)"
            ]
          },
          "metadata": {},
          "execution_count": 62
        }
      ]
    },
    {
      "cell_type": "code",
      "source": [],
      "metadata": {
        "id": "WGsNX1DT5Q3S"
      },
      "execution_count": null,
      "outputs": []
    }
  ]
}