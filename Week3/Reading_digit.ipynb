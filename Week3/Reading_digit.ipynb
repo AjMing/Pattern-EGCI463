{
  "nbformat": 4,
  "nbformat_minor": 0,
  "metadata": {
    "kernelspec": {
      "display_name": "Python 3",
      "language": "python",
      "name": "python3"
    },
    "language_info": {
      "codemirror_mode": {
        "name": "ipython",
        "version": 3
      },
      "file_extension": ".py",
      "mimetype": "text/x-python",
      "name": "python",
      "nbconvert_exporter": "python",
      "pygments_lexer": "ipython3",
      "version": "3.7.4"
    },
    "colab": {
      "provenance": [],
      "include_colab_link": true
    }
  },
  "cells": [
    {
      "cell_type": "markdown",
      "metadata": {
        "id": "view-in-github",
        "colab_type": "text"
      },
      "source": [
        "<a href=\"https://colab.research.google.com/github/AjMing/Pattern-EGCI463/blob/main/Week3/Reading_digit.ipynb\" target=\"_parent\"><img src=\"https://colab.research.google.com/assets/colab-badge.svg\" alt=\"Open In Colab\"/></a>"
      ]
    },
    {
      "cell_type": "code",
      "metadata": {
        "id": "3Cn6MXzQLaw4",
        "colab": {
          "base_uri": "https://localhost:8080/",
          "height": 74
        },
        "outputId": "a52d83f6-a90b-4d87-e42e-fe4e9a0e90f2"
      },
      "source": [
        "import pandas as pd\n",
        "import numpy as np\n",
        "import io\n",
        "\n",
        "#Read digit from digit.csv\n",
        "from google.colab import files\n",
        "uploaded = files.upload()\n",
        "\n"
      ],
      "execution_count": null,
      "outputs": [
        {
          "output_type": "display_data",
          "data": {
            "text/plain": [
              "<IPython.core.display.HTML object>"
            ],
            "text/html": [
              "\n",
              "     <input type=\"file\" id=\"files-c0395cfa-f441-41bd-8e44-a068562bbd1d\" name=\"files[]\" multiple disabled\n",
              "        style=\"border:none\" />\n",
              "     <output id=\"result-c0395cfa-f441-41bd-8e44-a068562bbd1d\">\n",
              "      Upload widget is only available when the cell has been executed in the\n",
              "      current browser session. Please rerun this cell to enable.\n",
              "      </output>\n",
              "      <script>// Copyright 2017 Google LLC\n",
              "//\n",
              "// Licensed under the Apache License, Version 2.0 (the \"License\");\n",
              "// you may not use this file except in compliance with the License.\n",
              "// You may obtain a copy of the License at\n",
              "//\n",
              "//      http://www.apache.org/licenses/LICENSE-2.0\n",
              "//\n",
              "// Unless required by applicable law or agreed to in writing, software\n",
              "// distributed under the License is distributed on an \"AS IS\" BASIS,\n",
              "// WITHOUT WARRANTIES OR CONDITIONS OF ANY KIND, either express or implied.\n",
              "// See the License for the specific language governing permissions and\n",
              "// limitations under the License.\n",
              "\n",
              "/**\n",
              " * @fileoverview Helpers for google.colab Python module.\n",
              " */\n",
              "(function(scope) {\n",
              "function span(text, styleAttributes = {}) {\n",
              "  const element = document.createElement('span');\n",
              "  element.textContent = text;\n",
              "  for (const key of Object.keys(styleAttributes)) {\n",
              "    element.style[key] = styleAttributes[key];\n",
              "  }\n",
              "  return element;\n",
              "}\n",
              "\n",
              "// Max number of bytes which will be uploaded at a time.\n",
              "const MAX_PAYLOAD_SIZE = 100 * 1024;\n",
              "\n",
              "function _uploadFiles(inputId, outputId) {\n",
              "  const steps = uploadFilesStep(inputId, outputId);\n",
              "  const outputElement = document.getElementById(outputId);\n",
              "  // Cache steps on the outputElement to make it available for the next call\n",
              "  // to uploadFilesContinue from Python.\n",
              "  outputElement.steps = steps;\n",
              "\n",
              "  return _uploadFilesContinue(outputId);\n",
              "}\n",
              "\n",
              "// This is roughly an async generator (not supported in the browser yet),\n",
              "// where there are multiple asynchronous steps and the Python side is going\n",
              "// to poll for completion of each step.\n",
              "// This uses a Promise to block the python side on completion of each step,\n",
              "// then passes the result of the previous step as the input to the next step.\n",
              "function _uploadFilesContinue(outputId) {\n",
              "  const outputElement = document.getElementById(outputId);\n",
              "  const steps = outputElement.steps;\n",
              "\n",
              "  const next = steps.next(outputElement.lastPromiseValue);\n",
              "  return Promise.resolve(next.value.promise).then((value) => {\n",
              "    // Cache the last promise value to make it available to the next\n",
              "    // step of the generator.\n",
              "    outputElement.lastPromiseValue = value;\n",
              "    return next.value.response;\n",
              "  });\n",
              "}\n",
              "\n",
              "/**\n",
              " * Generator function which is called between each async step of the upload\n",
              " * process.\n",
              " * @param {string} inputId Element ID of the input file picker element.\n",
              " * @param {string} outputId Element ID of the output display.\n",
              " * @return {!Iterable<!Object>} Iterable of next steps.\n",
              " */\n",
              "function* uploadFilesStep(inputId, outputId) {\n",
              "  const inputElement = document.getElementById(inputId);\n",
              "  inputElement.disabled = false;\n",
              "\n",
              "  const outputElement = document.getElementById(outputId);\n",
              "  outputElement.innerHTML = '';\n",
              "\n",
              "  const pickedPromise = new Promise((resolve) => {\n",
              "    inputElement.addEventListener('change', (e) => {\n",
              "      resolve(e.target.files);\n",
              "    });\n",
              "  });\n",
              "\n",
              "  const cancel = document.createElement('button');\n",
              "  inputElement.parentElement.appendChild(cancel);\n",
              "  cancel.textContent = 'Cancel upload';\n",
              "  const cancelPromise = new Promise((resolve) => {\n",
              "    cancel.onclick = () => {\n",
              "      resolve(null);\n",
              "    };\n",
              "  });\n",
              "\n",
              "  // Wait for the user to pick the files.\n",
              "  const files = yield {\n",
              "    promise: Promise.race([pickedPromise, cancelPromise]),\n",
              "    response: {\n",
              "      action: 'starting',\n",
              "    }\n",
              "  };\n",
              "\n",
              "  cancel.remove();\n",
              "\n",
              "  // Disable the input element since further picks are not allowed.\n",
              "  inputElement.disabled = true;\n",
              "\n",
              "  if (!files) {\n",
              "    return {\n",
              "      response: {\n",
              "        action: 'complete',\n",
              "      }\n",
              "    };\n",
              "  }\n",
              "\n",
              "  for (const file of files) {\n",
              "    const li = document.createElement('li');\n",
              "    li.append(span(file.name, {fontWeight: 'bold'}));\n",
              "    li.append(span(\n",
              "        `(${file.type || 'n/a'}) - ${file.size} bytes, ` +\n",
              "        `last modified: ${\n",
              "            file.lastModifiedDate ? file.lastModifiedDate.toLocaleDateString() :\n",
              "                                    'n/a'} - `));\n",
              "    const percent = span('0% done');\n",
              "    li.appendChild(percent);\n",
              "\n",
              "    outputElement.appendChild(li);\n",
              "\n",
              "    const fileDataPromise = new Promise((resolve) => {\n",
              "      const reader = new FileReader();\n",
              "      reader.onload = (e) => {\n",
              "        resolve(e.target.result);\n",
              "      };\n",
              "      reader.readAsArrayBuffer(file);\n",
              "    });\n",
              "    // Wait for the data to be ready.\n",
              "    let fileData = yield {\n",
              "      promise: fileDataPromise,\n",
              "      response: {\n",
              "        action: 'continue',\n",
              "      }\n",
              "    };\n",
              "\n",
              "    // Use a chunked sending to avoid message size limits. See b/62115660.\n",
              "    let position = 0;\n",
              "    do {\n",
              "      const length = Math.min(fileData.byteLength - position, MAX_PAYLOAD_SIZE);\n",
              "      const chunk = new Uint8Array(fileData, position, length);\n",
              "      position += length;\n",
              "\n",
              "      const base64 = btoa(String.fromCharCode.apply(null, chunk));\n",
              "      yield {\n",
              "        response: {\n",
              "          action: 'append',\n",
              "          file: file.name,\n",
              "          data: base64,\n",
              "        },\n",
              "      };\n",
              "\n",
              "      let percentDone = fileData.byteLength === 0 ?\n",
              "          100 :\n",
              "          Math.round((position / fileData.byteLength) * 100);\n",
              "      percent.textContent = `${percentDone}% done`;\n",
              "\n",
              "    } while (position < fileData.byteLength);\n",
              "  }\n",
              "\n",
              "  // All done.\n",
              "  yield {\n",
              "    response: {\n",
              "      action: 'complete',\n",
              "    }\n",
              "  };\n",
              "}\n",
              "\n",
              "scope.google = scope.google || {};\n",
              "scope.google.colab = scope.google.colab || {};\n",
              "scope.google.colab._files = {\n",
              "  _uploadFiles,\n",
              "  _uploadFilesContinue,\n",
              "};\n",
              "})(self);\n",
              "</script> "
            ]
          },
          "metadata": {}
        },
        {
          "output_type": "stream",
          "name": "stdout",
          "text": [
            "Saving digit.csv to digit.csv\n"
          ]
        }
      ]
    },
    {
      "cell_type": "code",
      "source": [
        "import pandas as pd\n",
        "df = pd.read_csv(io.BytesIO(uploaded[\"digit.csv\"]),header=None)"
      ],
      "metadata": {
        "id": "ZHd5kLQPnOCb"
      },
      "execution_count": null,
      "outputs": []
    },
    {
      "cell_type": "markdown",
      "source": [],
      "metadata": {
        "id": "E0VtUNgBfTpx"
      }
    },
    {
      "cell_type": "code",
      "source": [
        "df\n"
      ],
      "metadata": {
        "id": "Vk8j5wjNsqyf",
        "colab": {
          "base_uri": "https://localhost:8080/",
          "height": 693
        },
        "outputId": "6683f8c6-0aa0-4254-d245-12160c5fd8bc"
      },
      "execution_count": null,
      "outputs": [
        {
          "output_type": "execute_result",
          "data": {
            "text/plain": [
              "     0    1    2    3    4    5    6    7    8    9    ...  775  776  777  \\\n",
              "0      0    0    0    0    0    0    0    0    0    0  ...    0    0    0   \n",
              "1      0    0    0    0    0    0    0    0    0    0  ...    0    0    0   \n",
              "2      0    0    0    0    0    0    0    0    0    0  ...    0    0    0   \n",
              "3      0    0    0    0    0    0    0    0    0    0  ...    0    0    0   \n",
              "4      0    0    0    0    0    0    0    0    0    0  ...    0    0    0   \n",
              "..   ...  ...  ...  ...  ...  ...  ...  ...  ...  ...  ...  ...  ...  ...   \n",
              "495    0    0    0    0    0    0    0    0    0    0  ...    0    0    0   \n",
              "496    0    0    0    0    0    0    0    0    0    0  ...    0    0    0   \n",
              "497    0    0    0    0    0    0    0    0    0    0  ...    0    0    0   \n",
              "498    0    0    0    0    0    0    0    0    0    0  ...    0    0    0   \n",
              "499    0    0    0    0    0    0    0    0    0    0  ...    0    0    0   \n",
              "\n",
              "     778  779  780  781  782  783  784  \n",
              "0      0    0    0    0    0    0    0  \n",
              "1      0    0    0    0    0    0    0  \n",
              "2      0    0    0    0    0    0    0  \n",
              "3      0    0    0    0    0    0    0  \n",
              "4      0    0    0    0    0    0    0  \n",
              "..   ...  ...  ...  ...  ...  ...  ...  \n",
              "495    0    0    0    0    0    0    9  \n",
              "496    0    0    0    0    0    0    9  \n",
              "497    0    0    0    0    0    0    9  \n",
              "498    0    0    0    0    0    0    9  \n",
              "499    0    0    0    0    0    0    9  \n",
              "\n",
              "[500 rows x 785 columns]"
            ],
            "text/html": [
              "\n",
              "  <div id=\"df-5b7b610c-7530-41db-bc93-009c4c130293\" class=\"colab-df-container\">\n",
              "    <div>\n",
              "<style scoped>\n",
              "    .dataframe tbody tr th:only-of-type {\n",
              "        vertical-align: middle;\n",
              "    }\n",
              "\n",
              "    .dataframe tbody tr th {\n",
              "        vertical-align: top;\n",
              "    }\n",
              "\n",
              "    .dataframe thead th {\n",
              "        text-align: right;\n",
              "    }\n",
              "</style>\n",
              "<table border=\"1\" class=\"dataframe\">\n",
              "  <thead>\n",
              "    <tr style=\"text-align: right;\">\n",
              "      <th></th>\n",
              "      <th>0</th>\n",
              "      <th>1</th>\n",
              "      <th>2</th>\n",
              "      <th>3</th>\n",
              "      <th>4</th>\n",
              "      <th>5</th>\n",
              "      <th>6</th>\n",
              "      <th>7</th>\n",
              "      <th>8</th>\n",
              "      <th>9</th>\n",
              "      <th>...</th>\n",
              "      <th>775</th>\n",
              "      <th>776</th>\n",
              "      <th>777</th>\n",
              "      <th>778</th>\n",
              "      <th>779</th>\n",
              "      <th>780</th>\n",
              "      <th>781</th>\n",
              "      <th>782</th>\n",
              "      <th>783</th>\n",
              "      <th>784</th>\n",
              "    </tr>\n",
              "  </thead>\n",
              "  <tbody>\n",
              "    <tr>\n",
              "      <th>0</th>\n",
              "      <td>0</td>\n",
              "      <td>0</td>\n",
              "      <td>0</td>\n",
              "      <td>0</td>\n",
              "      <td>0</td>\n",
              "      <td>0</td>\n",
              "      <td>0</td>\n",
              "      <td>0</td>\n",
              "      <td>0</td>\n",
              "      <td>0</td>\n",
              "      <td>...</td>\n",
              "      <td>0</td>\n",
              "      <td>0</td>\n",
              "      <td>0</td>\n",
              "      <td>0</td>\n",
              "      <td>0</td>\n",
              "      <td>0</td>\n",
              "      <td>0</td>\n",
              "      <td>0</td>\n",
              "      <td>0</td>\n",
              "      <td>0</td>\n",
              "    </tr>\n",
              "    <tr>\n",
              "      <th>1</th>\n",
              "      <td>0</td>\n",
              "      <td>0</td>\n",
              "      <td>0</td>\n",
              "      <td>0</td>\n",
              "      <td>0</td>\n",
              "      <td>0</td>\n",
              "      <td>0</td>\n",
              "      <td>0</td>\n",
              "      <td>0</td>\n",
              "      <td>0</td>\n",
              "      <td>...</td>\n",
              "      <td>0</td>\n",
              "      <td>0</td>\n",
              "      <td>0</td>\n",
              "      <td>0</td>\n",
              "      <td>0</td>\n",
              "      <td>0</td>\n",
              "      <td>0</td>\n",
              "      <td>0</td>\n",
              "      <td>0</td>\n",
              "      <td>0</td>\n",
              "    </tr>\n",
              "    <tr>\n",
              "      <th>2</th>\n",
              "      <td>0</td>\n",
              "      <td>0</td>\n",
              "      <td>0</td>\n",
              "      <td>0</td>\n",
              "      <td>0</td>\n",
              "      <td>0</td>\n",
              "      <td>0</td>\n",
              "      <td>0</td>\n",
              "      <td>0</td>\n",
              "      <td>0</td>\n",
              "      <td>...</td>\n",
              "      <td>0</td>\n",
              "      <td>0</td>\n",
              "      <td>0</td>\n",
              "      <td>0</td>\n",
              "      <td>0</td>\n",
              "      <td>0</td>\n",
              "      <td>0</td>\n",
              "      <td>0</td>\n",
              "      <td>0</td>\n",
              "      <td>0</td>\n",
              "    </tr>\n",
              "    <tr>\n",
              "      <th>3</th>\n",
              "      <td>0</td>\n",
              "      <td>0</td>\n",
              "      <td>0</td>\n",
              "      <td>0</td>\n",
              "      <td>0</td>\n",
              "      <td>0</td>\n",
              "      <td>0</td>\n",
              "      <td>0</td>\n",
              "      <td>0</td>\n",
              "      <td>0</td>\n",
              "      <td>...</td>\n",
              "      <td>0</td>\n",
              "      <td>0</td>\n",
              "      <td>0</td>\n",
              "      <td>0</td>\n",
              "      <td>0</td>\n",
              "      <td>0</td>\n",
              "      <td>0</td>\n",
              "      <td>0</td>\n",
              "      <td>0</td>\n",
              "      <td>0</td>\n",
              "    </tr>\n",
              "    <tr>\n",
              "      <th>4</th>\n",
              "      <td>0</td>\n",
              "      <td>0</td>\n",
              "      <td>0</td>\n",
              "      <td>0</td>\n",
              "      <td>0</td>\n",
              "      <td>0</td>\n",
              "      <td>0</td>\n",
              "      <td>0</td>\n",
              "      <td>0</td>\n",
              "      <td>0</td>\n",
              "      <td>...</td>\n",
              "      <td>0</td>\n",
              "      <td>0</td>\n",
              "      <td>0</td>\n",
              "      <td>0</td>\n",
              "      <td>0</td>\n",
              "      <td>0</td>\n",
              "      <td>0</td>\n",
              "      <td>0</td>\n",
              "      <td>0</td>\n",
              "      <td>0</td>\n",
              "    </tr>\n",
              "    <tr>\n",
              "      <th>...</th>\n",
              "      <td>...</td>\n",
              "      <td>...</td>\n",
              "      <td>...</td>\n",
              "      <td>...</td>\n",
              "      <td>...</td>\n",
              "      <td>...</td>\n",
              "      <td>...</td>\n",
              "      <td>...</td>\n",
              "      <td>...</td>\n",
              "      <td>...</td>\n",
              "      <td>...</td>\n",
              "      <td>...</td>\n",
              "      <td>...</td>\n",
              "      <td>...</td>\n",
              "      <td>...</td>\n",
              "      <td>...</td>\n",
              "      <td>...</td>\n",
              "      <td>...</td>\n",
              "      <td>...</td>\n",
              "      <td>...</td>\n",
              "      <td>...</td>\n",
              "    </tr>\n",
              "    <tr>\n",
              "      <th>495</th>\n",
              "      <td>0</td>\n",
              "      <td>0</td>\n",
              "      <td>0</td>\n",
              "      <td>0</td>\n",
              "      <td>0</td>\n",
              "      <td>0</td>\n",
              "      <td>0</td>\n",
              "      <td>0</td>\n",
              "      <td>0</td>\n",
              "      <td>0</td>\n",
              "      <td>...</td>\n",
              "      <td>0</td>\n",
              "      <td>0</td>\n",
              "      <td>0</td>\n",
              "      <td>0</td>\n",
              "      <td>0</td>\n",
              "      <td>0</td>\n",
              "      <td>0</td>\n",
              "      <td>0</td>\n",
              "      <td>0</td>\n",
              "      <td>9</td>\n",
              "    </tr>\n",
              "    <tr>\n",
              "      <th>496</th>\n",
              "      <td>0</td>\n",
              "      <td>0</td>\n",
              "      <td>0</td>\n",
              "      <td>0</td>\n",
              "      <td>0</td>\n",
              "      <td>0</td>\n",
              "      <td>0</td>\n",
              "      <td>0</td>\n",
              "      <td>0</td>\n",
              "      <td>0</td>\n",
              "      <td>...</td>\n",
              "      <td>0</td>\n",
              "      <td>0</td>\n",
              "      <td>0</td>\n",
              "      <td>0</td>\n",
              "      <td>0</td>\n",
              "      <td>0</td>\n",
              "      <td>0</td>\n",
              "      <td>0</td>\n",
              "      <td>0</td>\n",
              "      <td>9</td>\n",
              "    </tr>\n",
              "    <tr>\n",
              "      <th>497</th>\n",
              "      <td>0</td>\n",
              "      <td>0</td>\n",
              "      <td>0</td>\n",
              "      <td>0</td>\n",
              "      <td>0</td>\n",
              "      <td>0</td>\n",
              "      <td>0</td>\n",
              "      <td>0</td>\n",
              "      <td>0</td>\n",
              "      <td>0</td>\n",
              "      <td>...</td>\n",
              "      <td>0</td>\n",
              "      <td>0</td>\n",
              "      <td>0</td>\n",
              "      <td>0</td>\n",
              "      <td>0</td>\n",
              "      <td>0</td>\n",
              "      <td>0</td>\n",
              "      <td>0</td>\n",
              "      <td>0</td>\n",
              "      <td>9</td>\n",
              "    </tr>\n",
              "    <tr>\n",
              "      <th>498</th>\n",
              "      <td>0</td>\n",
              "      <td>0</td>\n",
              "      <td>0</td>\n",
              "      <td>0</td>\n",
              "      <td>0</td>\n",
              "      <td>0</td>\n",
              "      <td>0</td>\n",
              "      <td>0</td>\n",
              "      <td>0</td>\n",
              "      <td>0</td>\n",
              "      <td>...</td>\n",
              "      <td>0</td>\n",
              "      <td>0</td>\n",
              "      <td>0</td>\n",
              "      <td>0</td>\n",
              "      <td>0</td>\n",
              "      <td>0</td>\n",
              "      <td>0</td>\n",
              "      <td>0</td>\n",
              "      <td>0</td>\n",
              "      <td>9</td>\n",
              "    </tr>\n",
              "    <tr>\n",
              "      <th>499</th>\n",
              "      <td>0</td>\n",
              "      <td>0</td>\n",
              "      <td>0</td>\n",
              "      <td>0</td>\n",
              "      <td>0</td>\n",
              "      <td>0</td>\n",
              "      <td>0</td>\n",
              "      <td>0</td>\n",
              "      <td>0</td>\n",
              "      <td>0</td>\n",
              "      <td>...</td>\n",
              "      <td>0</td>\n",
              "      <td>0</td>\n",
              "      <td>0</td>\n",
              "      <td>0</td>\n",
              "      <td>0</td>\n",
              "      <td>0</td>\n",
              "      <td>0</td>\n",
              "      <td>0</td>\n",
              "      <td>0</td>\n",
              "      <td>9</td>\n",
              "    </tr>\n",
              "  </tbody>\n",
              "</table>\n",
              "<p>500 rows × 785 columns</p>\n",
              "</div>\n",
              "    <div class=\"colab-df-buttons\">\n",
              "\n",
              "  <div class=\"colab-df-container\">\n",
              "    <button class=\"colab-df-convert\" onclick=\"convertToInteractive('df-5b7b610c-7530-41db-bc93-009c4c130293')\"\n",
              "            title=\"Convert this dataframe to an interactive table.\"\n",
              "            style=\"display:none;\">\n",
              "\n",
              "  <svg xmlns=\"http://www.w3.org/2000/svg\" height=\"24px\" viewBox=\"0 -960 960 960\">\n",
              "    <path d=\"M120-120v-720h720v720H120Zm60-500h600v-160H180v160Zm220 220h160v-160H400v160Zm0 220h160v-160H400v160ZM180-400h160v-160H180v160Zm440 0h160v-160H620v160ZM180-180h160v-160H180v160Zm440 0h160v-160H620v160Z\"/>\n",
              "  </svg>\n",
              "    </button>\n",
              "\n",
              "  <style>\n",
              "    .colab-df-container {\n",
              "      display:flex;\n",
              "      gap: 12px;\n",
              "    }\n",
              "\n",
              "    .colab-df-convert {\n",
              "      background-color: #E8F0FE;\n",
              "      border: none;\n",
              "      border-radius: 50%;\n",
              "      cursor: pointer;\n",
              "      display: none;\n",
              "      fill: #1967D2;\n",
              "      height: 32px;\n",
              "      padding: 0 0 0 0;\n",
              "      width: 32px;\n",
              "    }\n",
              "\n",
              "    .colab-df-convert:hover {\n",
              "      background-color: #E2EBFA;\n",
              "      box-shadow: 0px 1px 2px rgba(60, 64, 67, 0.3), 0px 1px 3px 1px rgba(60, 64, 67, 0.15);\n",
              "      fill: #174EA6;\n",
              "    }\n",
              "\n",
              "    .colab-df-buttons div {\n",
              "      margin-bottom: 4px;\n",
              "    }\n",
              "\n",
              "    [theme=dark] .colab-df-convert {\n",
              "      background-color: #3B4455;\n",
              "      fill: #D2E3FC;\n",
              "    }\n",
              "\n",
              "    [theme=dark] .colab-df-convert:hover {\n",
              "      background-color: #434B5C;\n",
              "      box-shadow: 0px 1px 3px 1px rgba(0, 0, 0, 0.15);\n",
              "      filter: drop-shadow(0px 1px 2px rgba(0, 0, 0, 0.3));\n",
              "      fill: #FFFFFF;\n",
              "    }\n",
              "  </style>\n",
              "\n",
              "    <script>\n",
              "      const buttonEl =\n",
              "        document.querySelector('#df-5b7b610c-7530-41db-bc93-009c4c130293 button.colab-df-convert');\n",
              "      buttonEl.style.display =\n",
              "        google.colab.kernel.accessAllowed ? 'block' : 'none';\n",
              "\n",
              "      async function convertToInteractive(key) {\n",
              "        const element = document.querySelector('#df-5b7b610c-7530-41db-bc93-009c4c130293');\n",
              "        const dataTable =\n",
              "          await google.colab.kernel.invokeFunction('convertToInteractive',\n",
              "                                                    [key], {});\n",
              "        if (!dataTable) return;\n",
              "\n",
              "        const docLinkHtml = 'Like what you see? Visit the ' +\n",
              "          '<a target=\"_blank\" href=https://colab.research.google.com/notebooks/data_table.ipynb>data table notebook</a>'\n",
              "          + ' to learn more about interactive tables.';\n",
              "        element.innerHTML = '';\n",
              "        dataTable['output_type'] = 'display_data';\n",
              "        await google.colab.output.renderOutput(dataTable, element);\n",
              "        const docLink = document.createElement('div');\n",
              "        docLink.innerHTML = docLinkHtml;\n",
              "        element.appendChild(docLink);\n",
              "      }\n",
              "    </script>\n",
              "  </div>\n",
              "\n",
              "\n",
              "<div id=\"df-2e65b902-69c5-4f49-bca7-03a334c10714\">\n",
              "  <button class=\"colab-df-quickchart\" onclick=\"quickchart('df-2e65b902-69c5-4f49-bca7-03a334c10714')\"\n",
              "            title=\"Suggest charts.\"\n",
              "            style=\"display:none;\">\n",
              "\n",
              "<svg xmlns=\"http://www.w3.org/2000/svg\" height=\"24px\"viewBox=\"0 0 24 24\"\n",
              "     width=\"24px\">\n",
              "    <g>\n",
              "        <path d=\"M19 3H5c-1.1 0-2 .9-2 2v14c0 1.1.9 2 2 2h14c1.1 0 2-.9 2-2V5c0-1.1-.9-2-2-2zM9 17H7v-7h2v7zm4 0h-2V7h2v10zm4 0h-2v-4h2v4z\"/>\n",
              "    </g>\n",
              "</svg>\n",
              "  </button>\n",
              "\n",
              "<style>\n",
              "  .colab-df-quickchart {\n",
              "    background-color: #E8F0FE;\n",
              "    border: none;\n",
              "    border-radius: 50%;\n",
              "    cursor: pointer;\n",
              "    display: none;\n",
              "    fill: #1967D2;\n",
              "    height: 32px;\n",
              "    padding: 0 0 0 0;\n",
              "    width: 32px;\n",
              "  }\n",
              "\n",
              "  .colab-df-quickchart:hover {\n",
              "    background-color: #E2EBFA;\n",
              "    box-shadow: 0px 1px 2px rgba(60, 64, 67, 0.3), 0px 1px 3px 1px rgba(60, 64, 67, 0.15);\n",
              "    fill: #174EA6;\n",
              "  }\n",
              "\n",
              "  [theme=dark] .colab-df-quickchart {\n",
              "    background-color: #3B4455;\n",
              "    fill: #D2E3FC;\n",
              "  }\n",
              "\n",
              "  [theme=dark] .colab-df-quickchart:hover {\n",
              "    background-color: #434B5C;\n",
              "    box-shadow: 0px 1px 3px 1px rgba(0, 0, 0, 0.15);\n",
              "    filter: drop-shadow(0px 1px 2px rgba(0, 0, 0, 0.3));\n",
              "    fill: #FFFFFF;\n",
              "  }\n",
              "</style>\n",
              "\n",
              "  <script>\n",
              "    async function quickchart(key) {\n",
              "      const charts = await google.colab.kernel.invokeFunction(\n",
              "          'suggestCharts', [key], {});\n",
              "    }\n",
              "    (() => {\n",
              "      let quickchartButtonEl =\n",
              "        document.querySelector('#df-2e65b902-69c5-4f49-bca7-03a334c10714 button');\n",
              "      quickchartButtonEl.style.display =\n",
              "        google.colab.kernel.accessAllowed ? 'block' : 'none';\n",
              "    })();\n",
              "  </script>\n",
              "</div>\n",
              "    </div>\n",
              "  </div>\n"
            ]
          },
          "metadata": {},
          "execution_count": 5
        },
        {
          "output_type": "stream",
          "name": "stdout",
          "text": [
            "Warning: Total number of columns (785) exceeds max_columns (20) limiting to first (20) columns.\n"
          ]
        }
      ]
    },
    {
      "cell_type": "markdown",
      "source": [
        "Show First digit"
      ],
      "metadata": {
        "id": "k58pr_1UVn4Z"
      }
    },
    {
      "cell_type": "code",
      "metadata": {
        "id": "TgWk2dPmLaxB",
        "outputId": "679c071f-e9ba-49de-f016-ec4b2cee5952",
        "colab": {
          "base_uri": "https://localhost:8080/"
        }
      },
      "source": [
        "print(np.reshape(np.array(df.iloc[0,:-1]),[28,28]))"
      ],
      "execution_count": null,
      "outputs": [
        {
          "output_type": "stream",
          "name": "stdout",
          "text": [
            "[[  0   0   0   0   0   0   0   0   0   0   0   0   0   0   0   0   0   0\n",
            "    0   0   0   0   0   0   0   0   0   0]\n",
            " [  0   0   0   0   0   0   0   0   0   0   0   0   0   0   0   0   0   0\n",
            "    0   0   0   0   0   0   0   0   0   0]\n",
            " [  0   0   0   0   0   0   0   0   0   0   0   0   0   0   0   0   0   0\n",
            "    0   0   0   0   0   0   0   0   0   0]\n",
            " [  0   0   0   0   0   0   0   0   0   0   0   0   0   0   0   0   0   0\n",
            "    0   0   0   0   0   0   0   0   0   0]\n",
            " [  0   0   0   0   0   0   0   0   0   0   0   0   0   0   0  51 159 253\n",
            "  159  50   0   0   0   0   0   0   0   0]\n",
            " [  0   0   0   0   0   0   0   0   0   0   0   0   0   0  48 238 252 252\n",
            "  252 237   0   0   0   0   0   0   0   0]\n",
            " [  0   0   0   0   0   0   0   0   0   0   0   0   0  54 227 253 252 239\n",
            "  233 252  57   6   0   0   0   0   0   0]\n",
            " [  0   0   0   0   0   0   0   0   0   0   0  10  60 224 252 253 252 202\n",
            "   84 252 253 122   0   0   0   0   0   0]\n",
            " [  0   0   0   0   0   0   0   0   0   0   0 163 252 252 252 253 252 252\n",
            "   96 189 253 167   0   0   0   0   0   0]\n",
            " [  0   0   0   0   0   0   0   0   0   0  51 238 253 253 190 114 253 228\n",
            "   47  79 255 168   0   0   0   0   0   0]\n",
            " [  0   0   0   0   0   0   0   0   0  48 238 252 252 179  12  75 121  21\n",
            "    0   0 253 243  50   0   0   0   0   0]\n",
            " [  0   0   0   0   0   0   0   0  38 165 253 233 208  84   0   0   0   0\n",
            "    0   0 253 252 165   0   0   0   0   0]\n",
            " [  0   0   0   0   0   0   0   7 178 252 240  71  19  28   0   0   0   0\n",
            "    0   0 253 252 195   0   0   0   0   0]\n",
            " [  0   0   0   0   0   0   0  57 252 252  63   0   0   0   0   0   0   0\n",
            "    0   0 253 252 195   0   0   0   0   0]\n",
            " [  0   0   0   0   0   0   0 198 253 190   0   0   0   0   0   0   0   0\n",
            "    0   0 255 253 196   0   0   0   0   0]\n",
            " [  0   0   0   0   0   0  76 246 252 112   0   0   0   0   0   0   0   0\n",
            "    0   0 253 252 148   0   0   0   0   0]\n",
            " [  0   0   0   0   0   0  85 252 230  25   0   0   0   0   0   0   0   0\n",
            "    7 135 253 186  12   0   0   0   0   0]\n",
            " [  0   0   0   0   0   0  85 252 223   0   0   0   0   0   0   0   0   7\n",
            "  131 252 225  71   0   0   0   0   0   0]\n",
            " [  0   0   0   0   0   0  85 252 145   0   0   0   0   0   0   0  48 165\n",
            "  252 173   0   0   0   0   0   0   0   0]\n",
            " [  0   0   0   0   0   0  86 253 225   0   0   0   0   0   0 114 238 253\n",
            "  162   0   0   0   0   0   0   0   0   0]\n",
            " [  0   0   0   0   0   0  85 252 249 146  48  29  85 178 225 253 223 167\n",
            "   56   0   0   0   0   0   0   0   0   0]\n",
            " [  0   0   0   0   0   0  85 252 252 252 229 215 252 252 252 196 130   0\n",
            "    0   0   0   0   0   0   0   0   0   0]\n",
            " [  0   0   0   0   0   0  28 199 252 252 253 252 252 233 145   0   0   0\n",
            "    0   0   0   0   0   0   0   0   0   0]\n",
            " [  0   0   0   0   0   0   0  25 128 252 253 252 141  37   0   0   0   0\n",
            "    0   0   0   0   0   0   0   0   0   0]\n",
            " [  0   0   0   0   0   0   0   0   0   0   0   0   0   0   0   0   0   0\n",
            "    0   0   0   0   0   0   0   0   0   0]\n",
            " [  0   0   0   0   0   0   0   0   0   0   0   0   0   0   0   0   0   0\n",
            "    0   0   0   0   0   0   0   0   0   0]\n",
            " [  0   0   0   0   0   0   0   0   0   0   0   0   0   0   0   0   0   0\n",
            "    0   0   0   0   0   0   0   0   0   0]\n",
            " [  0   0   0   0   0   0   0   0   0   0   0   0   0   0   0   0   0   0\n",
            "    0   0   0   0   0   0   0   0   0   0]]\n"
          ]
        }
      ]
    },
    {
      "cell_type": "code",
      "metadata": {
        "id": "Y25tLOWaLaxE"
      },
      "source": [
        "import matplotlib.pyplot as plt\n"
      ],
      "execution_count": null,
      "outputs": []
    },
    {
      "cell_type": "markdown",
      "source": [
        "Reshape 500x784 --> 10 x 50 x 784\n",
        "                   digit x Number    x pixel"
      ],
      "metadata": {
        "id": "66DTIBF4Vrhi"
      }
    },
    {
      "cell_type": "code",
      "metadata": {
        "id": "UYrTK-B_LaxI"
      },
      "source": [
        "digit =np.reshape(np.array(df.iloc[:,:-1]),[10,50,784])"
      ],
      "execution_count": null,
      "outputs": []
    },
    {
      "cell_type": "markdown",
      "source": [
        "Visualized a digit\n",
        "\n"
      ],
      "metadata": {
        "id": "lseMz2v9uF4I"
      }
    },
    {
      "cell_type": "code",
      "metadata": {
        "id": "aPzyYQzQLaxL",
        "colab": {
          "base_uri": "https://localhost:8080/",
          "height": 430
        },
        "outputId": "3bf6b3c1-02b0-4d8c-f54b-00c6807d65b4"
      },
      "source": [
        "plt.imshow(np.reshape(digit[2,15,:],[28,28]),cmap='gray')\n",
        "plt.show()"
      ],
      "execution_count": null,
      "outputs": [
        {
          "output_type": "display_data",
          "data": {
            "text/plain": [
              "<Figure size 640x480 with 1 Axes>"
            ],
            "image/png": "[encoded data removed]"
          },
          "metadata": {}
        }
      ]
    },
    {
      "cell_type": "markdown",
      "source": [
        "Try Visualize one of digit 3"
      ],
      "metadata": {
        "id": "JX1HYncy4Cad"
      }
    },
    {
      "cell_type": "code",
      "metadata": {
        "id": "_X2q--itLaxN",
        "outputId": "a021914f-2771-4316-de39-aa54475e83db",
        "colab": {
          "base_uri": "https://localhost:8080/"
        }
      },
      "source": [
        "print(digit[0,:,:].shape)"
      ],
      "execution_count": null,
      "outputs": [
        {
          "output_type": "stream",
          "name": "stdout",
          "text": [
            "(50, 784)\n"
          ]
        }
      ]
    },
    {
      "cell_type": "markdown",
      "source": [
        "## Binarize the digit"
      ],
      "metadata": {
        "id": "oYxZ4oFLcFMF"
      }
    },
    {
      "cell_type": "code",
      "metadata": {
        "id": "DfFSW-1kLaxR"
      },
      "source": [
        "bin_digit=1*(digit>128)"
      ],
      "execution_count": null,
      "outputs": []
    },
    {
      "cell_type": "markdown",
      "source": [
        "# Create train data (80%/20%)"
      ],
      "metadata": {
        "id": "eGUxD93nwfKo"
      }
    },
    {
      "cell_type": "code",
      "metadata": {
        "id": "avQ_KRSJLaxZ",
        "outputId": "949eb77f-608b-4541-985d-96846cdb57b0",
        "colab": {
          "base_uri": "https://localhost:8080/"
        }
      },
      "source": [
        "number0=np.mean(bin_digit[0,:40,:],axis=0)#  P(D|0)\n",
        "number1=np.mean(bin_digit[1,:40,:],axis=0)# P(D|1)\n",
        "\n",
        "print(number0.shape)"
      ],
      "execution_count": null,
      "outputs": [
        {
          "output_type": "stream",
          "name": "stdout",
          "text": [
            "(784,)\n"
          ]
        }
      ]
    },
    {
      "cell_type": "code",
      "metadata": {
        "id": "3f2_wWfGLaxj",
        "outputId": "cc132a04-b431-40c2-86f1-bd66420570c5",
        "colab": {
          "base_uri": "https://localhost:8080/"
        }
      },
      "source": [
        "print(number0)\n"
      ],
      "execution_count": null,
      "outputs": [
        {
          "output_type": "stream",
          "name": "stdout",
          "text": [
            "[0.    0.    0.    0.    0.    0.    0.    0.    0.    0.    0.    0.\n",
            " 0.    0.    0.    0.    0.    0.    0.    0.    0.    0.    0.    0.\n",
            " 0.    0.    0.    0.    0.    0.    0.    0.    0.    0.    0.    0.\n",
            " 0.    0.    0.    0.    0.    0.    0.    0.    0.    0.    0.    0.\n",
            " 0.    0.    0.    0.    0.    0.    0.    0.    0.    0.    0.    0.\n",
            " 0.    0.    0.    0.    0.    0.    0.    0.    0.    0.    0.    0.\n",
            " 0.    0.    0.    0.    0.    0.    0.    0.    0.    0.    0.    0.\n",
            " 0.    0.    0.    0.    0.    0.    0.    0.    0.    0.    0.    0.\n",
            " 0.025 0.    0.    0.025 0.025 0.    0.    0.    0.    0.    0.    0.\n",
            " 0.    0.    0.    0.    0.    0.    0.    0.    0.    0.    0.    0.\n",
            " 0.    0.    0.025 0.025 0.125 0.275 0.2   0.275 0.35  0.35  0.25  0.075\n",
            " 0.    0.    0.    0.    0.    0.    0.    0.    0.    0.    0.    0.\n",
            " 0.    0.    0.    0.    0.    0.05  0.075 0.225 0.35  0.5   0.675 0.75\n",
            " 0.7   0.65  0.5   0.35  0.175 0.05  0.    0.    0.    0.    0.    0.\n",
            " 0.    0.    0.    0.    0.    0.    0.    0.    0.05  0.125 0.3   0.275\n",
            " 0.5   0.6   0.8   0.875 0.825 0.7   0.75  0.475 0.35  0.15  0.025 0.025\n",
            " 0.025 0.    0.    0.    0.    0.    0.    0.    0.    0.    0.    0.05\n",
            " 0.1   0.2   0.275 0.475 0.575 0.825 0.825 0.775 0.8   0.875 0.8   0.775\n",
            " 0.55  0.25  0.05  0.025 0.025 0.    0.    0.    0.    0.    0.    0.\n",
            " 0.    0.    0.025 0.075 0.225 0.275 0.45  0.6   0.675 0.725 0.65  0.575\n",
            " 0.575 0.725 0.75  0.825 0.7   0.425 0.125 0.05  0.025 0.    0.    0.\n",
            " 0.    0.    0.    0.    0.    0.    0.075 0.125 0.275 0.4   0.575 0.8\n",
            " 0.65  0.625 0.5   0.375 0.4   0.45  0.55  0.75  0.775 0.55  0.3   0.075\n",
            " 0.05  0.    0.    0.    0.    0.    0.    0.    0.    0.025 0.125 0.225\n",
            " 0.325 0.525 0.7   0.6   0.575 0.525 0.4   0.25  0.2   0.25  0.35  0.55\n",
            " 0.775 0.625 0.425 0.125 0.05  0.    0.    0.    0.    0.    0.    0.\n",
            " 0.    0.075 0.2   0.3   0.4   0.6   0.625 0.6   0.475 0.3   0.2   0.1\n",
            " 0.1   0.15  0.275 0.425 0.625 0.575 0.525 0.225 0.1   0.    0.    0.\n",
            " 0.    0.    0.    0.    0.    0.1   0.275 0.35  0.55  0.675 0.625 0.525\n",
            " 0.325 0.225 0.075 0.05  0.025 0.1   0.275 0.35  0.625 0.575 0.5   0.275\n",
            " 0.125 0.    0.    0.    0.    0.    0.    0.    0.    0.15  0.325 0.425\n",
            " 0.575 0.65  0.525 0.375 0.225 0.05  0.025 0.025 0.025 0.05  0.275 0.325\n",
            " 0.625 0.575 0.55  0.3   0.125 0.    0.    0.    0.    0.    0.    0.\n",
            " 0.    0.175 0.375 0.575 0.625 0.625 0.4   0.275 0.1   0.025 0.    0.\n",
            " 0.    0.075 0.2   0.35  0.575 0.575 0.45  0.3   0.15  0.    0.    0.\n",
            " 0.    0.    0.    0.    0.    0.2   0.425 0.575 0.75  0.55  0.325 0.125\n",
            " 0.025 0.    0.    0.    0.    0.05  0.175 0.425 0.625 0.55  0.425 0.275\n",
            " 0.125 0.    0.    0.    0.    0.    0.    0.    0.    0.25  0.45  0.65\n",
            " 0.7   0.5   0.25  0.075 0.025 0.    0.    0.    0.    0.025 0.275 0.5\n",
            " 0.625 0.575 0.325 0.225 0.1   0.    0.    0.    0.    0.    0.    0.\n",
            " 0.025 0.3   0.525 0.675 0.675 0.55  0.2   0.1   0.05  0.    0.    0.\n",
            " 0.05  0.15  0.4   0.575 0.675 0.525 0.275 0.225 0.1   0.    0.    0.\n",
            " 0.    0.    0.    0.    0.    0.25  0.5   0.75  0.725 0.525 0.25  0.075\n",
            " 0.05  0.    0.025 0.075 0.125 0.4   0.6   0.65  0.5   0.325 0.25  0.15\n",
            " 0.05  0.    0.    0.    0.    0.    0.    0.    0.    0.175 0.45  0.75\n",
            " 0.85  0.65  0.4   0.2   0.05  0.075 0.15  0.225 0.45  0.55  0.7   0.625\n",
            " 0.4   0.35  0.175 0.125 0.    0.    0.    0.    0.    0.    0.    0.\n",
            " 0.    0.075 0.35  0.625 0.85  0.8   0.65  0.45  0.375 0.475 0.45  0.525\n",
            " 0.65  0.725 0.575 0.425 0.325 0.225 0.15  0.025 0.    0.    0.    0.\n",
            " 0.    0.    0.    0.    0.    0.025 0.15  0.5   0.725 0.9   0.825 0.725\n",
            " 0.7   0.675 0.7   0.775 0.775 0.675 0.5   0.275 0.25  0.15  0.05  0.\n",
            " 0.    0.    0.    0.    0.    0.    0.    0.    0.    0.025 0.05  0.225\n",
            " 0.55  0.75  0.85  0.9   0.825 0.875 0.875 0.775 0.65  0.45  0.3   0.225\n",
            " 0.125 0.05  0.    0.    0.    0.    0.    0.    0.    0.    0.    0.\n",
            " 0.    0.    0.05  0.05  0.2   0.425 0.6   0.725 0.75  0.675 0.65  0.4\n",
            " 0.25  0.2   0.175 0.05  0.025 0.    0.    0.    0.    0.    0.    0.\n",
            " 0.    0.    0.    0.    0.    0.    0.    0.05  0.05  0.05  0.1   0.175\n",
            " 0.25  0.175 0.2   0.15  0.075 0.05  0.05  0.    0.    0.    0.    0.\n",
            " 0.    0.    0.    0.    0.    0.    0.    0.    0.    0.    0.    0.\n",
            " 0.    0.    0.    0.    0.    0.    0.    0.    0.    0.    0.    0.\n",
            " 0.    0.    0.    0.    0.    0.    0.    0.    0.    0.    0.    0.\n",
            " 0.    0.    0.    0.    0.    0.    0.    0.    0.    0.    0.    0.\n",
            " 0.    0.    0.    0.    0.    0.    0.    0.    0.    0.    0.    0.\n",
            " 0.    0.    0.    0.    0.    0.    0.    0.    0.    0.    0.    0.\n",
            " 0.    0.    0.    0.    0.    0.    0.    0.    0.    0.    0.    0.\n",
            " 0.    0.    0.    0.   ]\n"
          ]
        }
      ]
    },
    {
      "cell_type": "code",
      "source": [
        "plt.imshow(np.reshape(number0,[28,28]),cmap='gray')"
      ],
      "metadata": {
        "colab": {
          "base_uri": "https://localhost:8080/",
          "height": 448
        },
        "id": "pd3OOUKYqLBi",
        "outputId": "fb614f7a-9c56-4ef4-bfd5-5d8295fa2022"
      },
      "execution_count": null,
      "outputs": [
        {
          "output_type": "execute_result",
          "data": {
            "text/plain": [
              "<matplotlib.image.AxesImage at 0x7f3d73100d00>"
            ]
          },
          "metadata": {},
          "execution_count": 19
        },
        {
          "output_type": "display_data",
          "data": {
            "text/plain": [
              "<Figure size 640x480 with 1 Axes>"
            ],
            "image/png": "[encoded data removed]"
          },
          "metadata": {}
        }
      ]
    },
    {
      "cell_type": "code",
      "source": [
        "plt.imshow(np.reshape(number1,[28,28]),cmap='gray')"
      ],
      "metadata": {
        "colab": {
          "base_uri": "https://localhost:8080/",
          "height": 448
        },
        "id": "PQ6tsxAXvAYw",
        "outputId": "5116887d-448c-4d2a-da30-e23cdd9d309d"
      },
      "execution_count": null,
      "outputs": [
        {
          "output_type": "execute_result",
          "data": {
            "text/plain": [
              "<matplotlib.image.AxesImage at 0x7f3d72fac400>"
            ]
          },
          "metadata": {},
          "execution_count": 20
        },
        {
          "output_type": "display_data",
          "data": {
            "text/plain": [
              "<Figure size 640x480 with 1 Axes>"
            ],
            "image/png": "[encoded data removed]"
          },
          "metadata": {}
        }
      ]
    },
    {
      "cell_type": "code",
      "source": [
        "print(np.reshape(number1,[28,28]))"
      ],
      "metadata": {
        "colab": {
          "base_uri": "https://localhost:8080/"
        },
        "id": "Fem7SxbQyfZe",
        "outputId": "cc2b04be-c792-4548-f039-449b3cb92013"
      },
      "execution_count": null,
      "outputs": [
        {
          "output_type": "stream",
          "name": "stdout",
          "text": [
            "[[0.    0.    0.    0.    0.    0.    0.    0.    0.    0.    0.    0.\n",
            "  0.    0.    0.    0.    0.    0.    0.    0.    0.    0.    0.    0.\n",
            "  0.    0.    0.    0.   ]\n",
            " [0.    0.    0.    0.    0.    0.    0.    0.    0.    0.    0.    0.\n",
            "  0.    0.    0.    0.    0.    0.    0.    0.    0.    0.    0.    0.\n",
            "  0.    0.    0.    0.   ]\n",
            " [0.    0.    0.    0.    0.    0.    0.    0.    0.    0.    0.    0.\n",
            "  0.    0.    0.    0.    0.    0.    0.    0.    0.    0.    0.    0.\n",
            "  0.    0.    0.    0.   ]\n",
            " [0.    0.    0.    0.    0.    0.    0.    0.    0.    0.    0.    0.\n",
            "  0.    0.    0.025 0.025 0.025 0.    0.    0.    0.    0.    0.    0.\n",
            "  0.    0.    0.    0.   ]\n",
            " [0.    0.    0.    0.    0.    0.    0.    0.    0.025 0.025 0.    0.\n",
            "  0.125 0.125 0.125 0.2   0.25  0.225 0.125 0.125 0.05  0.    0.    0.\n",
            "  0.    0.    0.    0.   ]\n",
            " [0.    0.    0.    0.    0.    0.    0.    0.025 0.025 0.025 0.    0.025\n",
            "  0.2   0.25  0.25  0.35  0.425 0.425 0.175 0.225 0.1   0.025 0.    0.\n",
            "  0.    0.    0.    0.   ]\n",
            " [0.    0.    0.    0.    0.    0.    0.025 0.025 0.025 0.025 0.025 0.05\n",
            "  0.175 0.25  0.35  0.4   0.525 0.45  0.3   0.25  0.1   0.025 0.    0.\n",
            "  0.    0.    0.    0.   ]\n",
            " [0.    0.    0.    0.    0.    0.    0.    0.025 0.025 0.025 0.05  0.05\n",
            "  0.175 0.275 0.45  0.425 0.575 0.375 0.325 0.225 0.1   0.025 0.    0.\n",
            "  0.    0.    0.    0.   ]\n",
            " [0.    0.    0.    0.    0.    0.    0.    0.    0.025 0.05  0.05  0.05\n",
            "  0.175 0.3   0.525 0.6   0.575 0.425 0.325 0.15  0.05  0.025 0.    0.\n",
            "  0.    0.    0.    0.   ]\n",
            " [0.    0.    0.    0.    0.    0.    0.    0.    0.025 0.05  0.075 0.075\n",
            "  0.15  0.3   0.6   0.675 0.65  0.4   0.25  0.1   0.025 0.    0.    0.\n",
            "  0.    0.    0.    0.   ]\n",
            " [0.    0.    0.    0.    0.    0.    0.    0.    0.025 0.05  0.05  0.05\n",
            "  0.125 0.325 0.75  0.8   0.65  0.3   0.125 0.05  0.    0.    0.    0.\n",
            "  0.    0.    0.    0.   ]\n",
            " [0.    0.    0.    0.    0.    0.    0.    0.025 0.025 0.05  0.075 0.05\n",
            "  0.1   0.475 0.85  0.85  0.525 0.25  0.1   0.    0.    0.    0.    0.\n",
            "  0.    0.    0.    0.   ]\n",
            " [0.    0.    0.    0.    0.    0.    0.025 0.05  0.05  0.025 0.025 0.05\n",
            "  0.125 0.55  0.925 0.85  0.475 0.175 0.025 0.    0.    0.    0.    0.\n",
            "  0.    0.    0.    0.   ]\n",
            " [0.    0.    0.    0.    0.    0.    0.025 0.025 0.    0.    0.    0.\n",
            "  0.125 0.75  0.925 0.85  0.4   0.1   0.    0.    0.    0.    0.    0.\n",
            "  0.    0.    0.    0.   ]\n",
            " [0.    0.    0.    0.    0.    0.    0.    0.    0.    0.    0.    0.\n",
            "  0.175 0.825 0.95  0.9   0.275 0.075 0.    0.    0.    0.    0.    0.\n",
            "  0.    0.    0.    0.   ]\n",
            " [0.    0.    0.    0.    0.    0.    0.    0.    0.    0.    0.    0.025\n",
            "  0.325 0.925 0.975 0.625 0.125 0.025 0.    0.    0.    0.    0.    0.\n",
            "  0.    0.    0.    0.   ]\n",
            " [0.    0.    0.    0.    0.    0.    0.    0.    0.    0.    0.    0.15\n",
            "  0.45  0.9   0.95  0.475 0.15  0.025 0.025 0.    0.    0.    0.    0.\n",
            "  0.    0.    0.    0.   ]\n",
            " [0.    0.    0.    0.    0.    0.    0.    0.    0.    0.    0.05  0.25\n",
            "  0.5   0.875 0.825 0.425 0.1   0.025 0.05  0.025 0.025 0.    0.    0.\n",
            "  0.    0.    0.    0.   ]\n",
            " [0.    0.    0.    0.    0.    0.    0.    0.    0.    0.    0.15  0.35\n",
            "  0.6   0.85  0.675 0.375 0.15  0.05  0.05  0.05  0.05  0.    0.    0.\n",
            "  0.    0.    0.    0.   ]\n",
            " [0.    0.    0.    0.    0.    0.    0.    0.    0.    0.075 0.25  0.425\n",
            "  0.65  0.7   0.6   0.35  0.2   0.125 0.075 0.075 0.075 0.025 0.    0.\n",
            "  0.    0.    0.    0.   ]\n",
            " [0.    0.    0.    0.    0.    0.    0.    0.025 0.05  0.15  0.3   0.525\n",
            "  0.675 0.625 0.525 0.275 0.2   0.15  0.125 0.05  0.05  0.025 0.    0.\n",
            "  0.    0.    0.    0.   ]\n",
            " [0.    0.    0.    0.    0.    0.    0.025 0.075 0.05  0.2   0.35  0.5\n",
            "  0.575 0.525 0.425 0.225 0.175 0.125 0.075 0.05  0.025 0.025 0.    0.\n",
            "  0.    0.    0.025 0.   ]\n",
            " [0.    0.    0.    0.    0.    0.    0.025 0.075 0.1   0.325 0.375 0.475\n",
            "  0.5   0.5   0.4   0.25  0.125 0.075 0.05  0.05  0.025 0.025 0.    0.\n",
            "  0.    0.    0.    0.   ]\n",
            " [0.    0.    0.    0.    0.    0.    0.    0.025 0.075 0.3   0.35  0.4\n",
            "  0.3   0.375 0.225 0.15  0.075 0.05  0.05  0.025 0.025 0.025 0.    0.\n",
            "  0.    0.    0.    0.   ]\n",
            " [0.    0.    0.    0.    0.    0.    0.    0.    0.    0.15  0.15  0.125\n",
            "  0.05  0.025 0.1   0.025 0.    0.    0.    0.    0.    0.    0.    0.\n",
            "  0.    0.    0.    0.   ]\n",
            " [0.    0.    0.    0.    0.    0.    0.    0.    0.    0.    0.    0.\n",
            "  0.    0.    0.    0.    0.    0.    0.    0.    0.    0.    0.    0.\n",
            "  0.    0.    0.    0.   ]\n",
            " [0.    0.    0.    0.    0.    0.    0.    0.    0.    0.    0.    0.\n",
            "  0.    0.    0.    0.    0.    0.    0.    0.    0.    0.    0.    0.\n",
            "  0.    0.    0.    0.   ]\n",
            " [0.    0.    0.    0.    0.    0.    0.    0.    0.    0.    0.    0.\n",
            "  0.    0.    0.    0.    0.    0.    0.    0.    0.    0.    0.    0.\n",
            "  0.    0.    0.    0.   ]]\n"
          ]
        }
      ]
    },
    {
      "cell_type": "code",
      "metadata": {
        "id": "SmJVv1GZLaxm",
        "outputId": "ed6df58e-5598-4ee8-dc8b-af9f9a70c502",
        "colab": {
          "base_uri": "https://localhost:8080/"
        }
      },
      "source": [
        "(1-digit[0,40:,:])*(1-number0)"
      ],
      "execution_count": null,
      "outputs": [
        {
          "output_type": "execute_result",
          "data": {
            "text/plain": [
              "array([[1., 1., 1., ..., 1., 1., 1.],\n",
              "       [1., 1., 1., ..., 1., 1., 1.],\n",
              "       [1., 1., 1., ..., 1., 1., 1.],\n",
              "       ...,\n",
              "       [1., 1., 1., ..., 1., 1., 1.],\n",
              "       [1., 1., 1., ..., 1., 1., 1.],\n",
              "       [1., 1., 1., ..., 1., 1., 1.]])"
            ]
          },
          "metadata": {},
          "execution_count": 13
        }
      ]
    },
    {
      "cell_type": "code",
      "source": [],
      "metadata": {
        "id": "KYBad4oz2GWJ"
      },
      "execution_count": null,
      "outputs": []
    },
    {
      "cell_type": "code",
      "metadata": {
        "id": "uCdYTcwRLaxp",
        "outputId": "527613be-4fc5-4739-8cc8-3ead47418bff",
        "colab": {
          "base_uri": "https://localhost:8080/"
        }
      },
      "source": [
        "\n",
        "# p(0|number) = p(digit|0) p(0) /   (p(0|digit) p(0)+ p(1|digit) p(1))\n",
        "p0 = np.prod(bin_digit[0,:,:]*number0+(1-bin_digit[0,:,:])*(1-number0),axis=1)*.5 # p(digit|0) p(0)\n",
        "p1 = np.prod(bin_digit[0,:,:]*number1+(1-bin_digit[0,:,:])*(1-number1),axis=1)*.5 # p(digit|1) p(1)\n",
        "\n",
        "prob0=p0/(p0+p1)\n",
        "prob1=p1/(p0+p1)"
      ],
      "execution_count": null,
      "outputs": [
        {
          "output_type": "stream",
          "name": "stderr",
          "text": [
            "<ipython-input-21-85ff5dad5a6f>:5: RuntimeWarning: invalid value encountered in divide\n",
            "  prob0=p0/(p0+p1)\n",
            "<ipython-input-21-85ff5dad5a6f>:6: RuntimeWarning: invalid value encountered in divide\n",
            "  prob1=p1/(p0+p1)\n"
          ]
        }
      ]
    },
    {
      "cell_type": "code",
      "metadata": {
        "id": "lAhDTNzpLaxs",
        "outputId": "91d31e90-c3de-48b9-b4b2-53f3b7bdd746",
        "colab": {
          "base_uri": "https://localhost:8080/"
        }
      },
      "source": [
        "print(np.array([prob0 ,prob1]).T)\n"
      ],
      "execution_count": null,
      "outputs": [
        {
          "output_type": "stream",
          "name": "stdout",
          "text": [
            "[[ 1.  0.]\n",
            " [ 1.  0.]\n",
            " [ 1.  0.]\n",
            " [ 1.  0.]\n",
            " [ 1.  0.]\n",
            " [ 1.  0.]\n",
            " [ 1.  0.]\n",
            " [ 1.  0.]\n",
            " [ 1.  0.]\n",
            " [ 1.  0.]\n",
            " [ 1.  0.]\n",
            " [ 1.  0.]\n",
            " [ 1.  0.]\n",
            " [ 1.  0.]\n",
            " [ 1.  0.]\n",
            " [ 1.  0.]\n",
            " [ 1.  0.]\n",
            " [ 1.  0.]\n",
            " [ 1.  0.]\n",
            " [ 1.  0.]\n",
            " [ 1.  0.]\n",
            " [ 1.  0.]\n",
            " [ 1.  0.]\n",
            " [ 1.  0.]\n",
            " [ 1.  0.]\n",
            " [ 1.  0.]\n",
            " [ 1.  0.]\n",
            " [ 1.  0.]\n",
            " [ 1.  0.]\n",
            " [ 1.  0.]\n",
            " [ 1.  0.]\n",
            " [ 1.  0.]\n",
            " [ 1.  0.]\n",
            " [ 1.  0.]\n",
            " [ 1.  0.]\n",
            " [ 1.  0.]\n",
            " [ 1.  0.]\n",
            " [ 1.  0.]\n",
            " [ 1.  0.]\n",
            " [ 1.  0.]\n",
            " [ 1.  0.]\n",
            " [ 1.  0.]\n",
            " [nan nan]\n",
            " [nan nan]\n",
            " [ 1.  0.]\n",
            " [ 1.  0.]\n",
            " [nan nan]\n",
            " [nan nan]\n",
            " [nan nan]\n",
            " [ 1.  0.]]\n"
          ]
        }
      ]
    },
    {
      "cell_type": "code",
      "source": [],
      "metadata": {
        "id": "Nj2uWkJgrSNL"
      },
      "execution_count": null,
      "outputs": []
    },
    {
      "cell_type": "markdown",
      "metadata": {
        "id": "lv8k7gF3Laxw"
      },
      "source": [
        "np.mean(digit)"
      ]
    },
    {
      "cell_type": "code",
      "metadata": {
        "id": "bI4zU6h8Laxw"
      },
      "source": [
        "p0 = np.prod(bin_digit[1,:,:]*number0+(1-bin_digit[1,:,:])*(1-number0),axis=1)*.5 # p(digit|0) p(0)\n",
        "p1 = np.prod(bin_digit[1,:,:]*number1+(1-bin_digit[1,:,:])*(1-number1),axis=1)*.5 # p(digit|1) p(1)\n",
        "\n",
        "prob0=p0/(p0+p1)\n",
        "prob1=p1/(p0+p1)"
      ],
      "execution_count": null,
      "outputs": []
    },
    {
      "cell_type": "code",
      "metadata": {
        "id": "ZuzhLbC7Laxz",
        "colab": {
          "base_uri": "https://localhost:8080/"
        },
        "outputId": "377132f9-bc8f-435b-8b54-29c8fd8f91ae"
      },
      "source": [
        "print(np.array([prob0 ,prob1]).T)"
      ],
      "execution_count": null,
      "outputs": [
        {
          "output_type": "stream",
          "name": "stdout",
          "text": [
            "[[0. 1.]\n",
            " [0. 1.]\n",
            " [0. 1.]\n",
            " [0. 1.]\n",
            " [0. 1.]\n",
            " [0. 1.]\n",
            " [0. 1.]\n",
            " [0. 1.]\n",
            " [0. 1.]\n",
            " [0. 1.]\n",
            " [0. 1.]\n",
            " [0. 1.]\n",
            " [0. 1.]\n",
            " [0. 1.]\n",
            " [0. 1.]\n",
            " [0. 1.]\n",
            " [0. 1.]\n",
            " [0. 1.]\n",
            " [0. 1.]\n",
            " [0. 1.]\n",
            " [0. 1.]\n",
            " [0. 1.]\n",
            " [0. 1.]\n",
            " [0. 1.]\n",
            " [0. 1.]\n",
            " [0. 1.]\n",
            " [0. 1.]\n",
            " [0. 1.]\n",
            " [0. 1.]\n",
            " [0. 1.]\n",
            " [0. 1.]\n",
            " [0. 1.]\n",
            " [0. 1.]\n",
            " [0. 1.]\n",
            " [0. 1.]\n",
            " [0. 1.]\n",
            " [0. 1.]\n",
            " [0. 1.]\n",
            " [0. 1.]\n",
            " [0. 1.]\n",
            " [0. 1.]\n",
            " [0. 1.]\n",
            " [0. 1.]\n",
            " [0. 1.]\n",
            " [0. 1.]\n",
            " [0. 1.]\n",
            " [0. 1.]\n",
            " [0. 1.]\n",
            " [0. 1.]\n",
            " [0. 1.]]\n"
          ]
        }
      ]
    },
    {
      "cell_type": "markdown",
      "source": [
        "Try with all digits"
      ],
      "metadata": {
        "id": "aKenvC1ucay7"
      }
    },
    {
      "cell_type": "code",
      "source": [],
      "metadata": {
        "id": "TgBUh6QJmxCK"
      },
      "execution_count": null,
      "outputs": []
    },
    {
      "cell_type": "code",
      "source": [],
      "metadata": {
        "id": "lwQ8MewnrzRE"
      },
      "execution_count": null,
      "outputs": []
    },
    {
      "cell_type": "markdown",
      "source": [
        "\n",
        "\n",
        "```\n",
        "# This is formatted as code\n",
        "```\n",
        "\n",
        "# Estimate from the first 40 digits"
      ],
      "metadata": {
        "id": "ipxqVPaRmubo"
      }
    }
  ]
}