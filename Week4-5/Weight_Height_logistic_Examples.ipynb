{
  "nbformat": 4,
  "nbformat_minor": 0,
  "metadata": {
    "colab": {
      "provenance": [],
      "include_colab_link": true
    },
    "kernelspec": {
      "name": "python3",
      "display_name": "Python 3"
    }
  },
  "cells": [
    {
      "cell_type": "markdown",
      "metadata": {
        "id": "view-in-github",
        "colab_type": "text"
      },
      "source": [
        "<a href=\"https://colab.research.google.com/github/AjMing/Pattern-EGCI463/blob/main/Week4-5/Weight_Height_logistic_Examples.ipynb\" target=\"_parent\"><img src=\"https://colab.research.google.com/assets/colab-badge.svg\" alt=\"Open In Colab\"/></a>"
      ]
    },
    {
      "cell_type": "markdown",
      "source": [
        "# Import Data\n",
        "    Assume the data is in my(your) drive!!\n",
        "    You can import the data from data upload"
      ],
      "metadata": {
        "id": "TNFDTIbRpYSY"
      }
    },
    {
      "cell_type": "code",
      "metadata": {
        "id": "r74JBlaKlohJ",
        "outputId": "68fe3dba-8645-4570-ae65-02d084c89a70",
        "colab": {
          "base_uri": "https://localhost:8080/"
        }
      },
      "source": [
        "import numpy as np\n",
        "import pandas as pd\n",
        "import math as mt\n",
        "from google.colab import drive\n",
        "drive.mount(\"/content/drive\",force_remount=True)\n",
        "path=\"/content/drive/My Drive/data/Weight_Height_M_W.csv\"\n",
        "df =pd.read_csv(path)"
      ],
      "execution_count": 41,
      "outputs": [
        {
          "output_type": "stream",
          "name": "stdout",
          "text": [
            "Mounted at /content/drive\n"
          ]
        }
      ]
    },
    {
      "cell_type": "markdown",
      "source": [
        "# Show the data content"
      ],
      "metadata": {
        "id": "Mp9HRLrbpmyP"
      }
    },
    {
      "cell_type": "code",
      "metadata": {
        "id": "aFIacLKUnK36",
        "outputId": "28285aee-91af-4163-c74d-ff6f53509254",
        "colab": {
          "base_uri": "https://localhost:8080/",
          "height": 424
        }
      },
      "source": [
        "df"
      ],
      "execution_count": null,
      "outputs": [
        {
          "output_type": "execute_result",
          "data": {
            "text/plain": [
              "       Height   Weight gender\n",
              "0    159.7415  57.2608      W\n",
              "1    157.2365  53.1664      W\n",
              "2    158.8578  49.5106      W\n",
              "3    157.4017  54.1508      W\n",
              "4    156.2003  52.2173      W\n",
              "..        ...      ...    ...\n",
              "96   172.1863  63.6287      M\n",
              "97   168.9630  55.1719      M\n",
              "98   172.8701  53.6238      M\n",
              "99   171.1873  62.8852      M\n",
              "100  168.6423  75.0807      M\n",
              "\n",
              "[101 rows x 3 columns]"
            ],
            "text/html": [
              "\n",
              "  <div id=\"df-dbde8b2e-c36e-47cb-a7d0-6728e4fd4da1\" class=\"colab-df-container\">\n",
              "    <div>\n",
              "<style scoped>\n",
              "    .dataframe tbody tr th:only-of-type {\n",
              "        vertical-align: middle;\n",
              "    }\n",
              "\n",
              "    .dataframe tbody tr th {\n",
              "        vertical-align: top;\n",
              "    }\n",
              "\n",
              "    .dataframe thead th {\n",
              "        text-align: right;\n",
              "    }\n",
              "</style>\n",
              "<table border=\"1\" class=\"dataframe\">\n",
              "  <thead>\n",
              "    <tr style=\"text-align: right;\">\n",
              "      <th></th>\n",
              "      <th>Height</th>\n",
              "      <th>Weight</th>\n",
              "      <th>gender</th>\n",
              "    </tr>\n",
              "  </thead>\n",
              "  <tbody>\n",
              "    <tr>\n",
              "      <th>0</th>\n",
              "      <td>159.7415</td>\n",
              "      <td>57.2608</td>\n",
              "      <td>W</td>\n",
              "    </tr>\n",
              "    <tr>\n",
              "      <th>1</th>\n",
              "      <td>157.2365</td>\n",
              "      <td>53.1664</td>\n",
              "      <td>W</td>\n",
              "    </tr>\n",
              "    <tr>\n",
              "      <th>2</th>\n",
              "      <td>158.8578</td>\n",
              "      <td>49.5106</td>\n",
              "      <td>W</td>\n",
              "    </tr>\n",
              "    <tr>\n",
              "      <th>3</th>\n",
              "      <td>157.4017</td>\n",
              "      <td>54.1508</td>\n",
              "      <td>W</td>\n",
              "    </tr>\n",
              "    <tr>\n",
              "      <th>4</th>\n",
              "      <td>156.2003</td>\n",
              "      <td>52.2173</td>\n",
              "      <td>W</td>\n",
              "    </tr>\n",
              "    <tr>\n",
              "      <th>...</th>\n",
              "      <td>...</td>\n",
              "      <td>...</td>\n",
              "      <td>...</td>\n",
              "    </tr>\n",
              "    <tr>\n",
              "      <th>96</th>\n",
              "      <td>172.1863</td>\n",
              "      <td>63.6287</td>\n",
              "      <td>M</td>\n",
              "    </tr>\n",
              "    <tr>\n",
              "      <th>97</th>\n",
              "      <td>168.9630</td>\n",
              "      <td>55.1719</td>\n",
              "      <td>M</td>\n",
              "    </tr>\n",
              "    <tr>\n",
              "      <th>98</th>\n",
              "      <td>172.8701</td>\n",
              "      <td>53.6238</td>\n",
              "      <td>M</td>\n",
              "    </tr>\n",
              "    <tr>\n",
              "      <th>99</th>\n",
              "      <td>171.1873</td>\n",
              "      <td>62.8852</td>\n",
              "      <td>M</td>\n",
              "    </tr>\n",
              "    <tr>\n",
              "      <th>100</th>\n",
              "      <td>168.6423</td>\n",
              "      <td>75.0807</td>\n",
              "      <td>M</td>\n",
              "    </tr>\n",
              "  </tbody>\n",
              "</table>\n",
              "<p>101 rows × 3 columns</p>\n",
              "</div>\n",
              "    <div class=\"colab-df-buttons\">\n",
              "\n",
              "  <div class=\"colab-df-container\">\n",
              "    <button class=\"colab-df-convert\" onclick=\"convertToInteractive('df-dbde8b2e-c36e-47cb-a7d0-6728e4fd4da1')\"\n",
              "            title=\"Convert this dataframe to an interactive table.\"\n",
              "            style=\"display:none;\">\n",
              "\n",
              "  <svg xmlns=\"http://www.w3.org/2000/svg\" height=\"24px\" viewBox=\"0 -960 960 960\">\n",
              "    <path d=\"M120-120v-720h720v720H120Zm60-500h600v-160H180v160Zm220 220h160v-160H400v160Zm0 220h160v-160H400v160ZM180-400h160v-160H180v160Zm440 0h160v-160H620v160ZM180-180h160v-160H180v160Zm440 0h160v-160H620v160Z\"/>\n",
              "  </svg>\n",
              "    </button>\n",
              "\n",
              "  <style>\n",
              "    .colab-df-container {\n",
              "      display:flex;\n",
              "      gap: 12px;\n",
              "    }\n",
              "\n",
              "    .colab-df-convert {\n",
              "      background-color: #E8F0FE;\n",
              "      border: none;\n",
              "      border-radius: 50%;\n",
              "      cursor: pointer;\n",
              "      display: none;\n",
              "      fill: #1967D2;\n",
              "      height: 32px;\n",
              "      padding: 0 0 0 0;\n",
              "      width: 32px;\n",
              "    }\n",
              "\n",
              "    .colab-df-convert:hover {\n",
              "      background-color: #E2EBFA;\n",
              "      box-shadow: 0px 1px 2px rgba(60, 64, 67, 0.3), 0px 1px 3px 1px rgba(60, 64, 67, 0.15);\n",
              "      fill: #174EA6;\n",
              "    }\n",
              "\n",
              "    .colab-df-buttons div {\n",
              "      margin-bottom: 4px;\n",
              "    }\n",
              "\n",
              "    [theme=dark] .colab-df-convert {\n",
              "      background-color: #3B4455;\n",
              "      fill: #D2E3FC;\n",
              "    }\n",
              "\n",
              "    [theme=dark] .colab-df-convert:hover {\n",
              "      background-color: #434B5C;\n",
              "      box-shadow: 0px 1px 3px 1px rgba(0, 0, 0, 0.15);\n",
              "      filter: drop-shadow(0px 1px 2px rgba(0, 0, 0, 0.3));\n",
              "      fill: #FFFFFF;\n",
              "    }\n",
              "  </style>\n",
              "\n",
              "    <script>\n",
              "      const buttonEl =\n",
              "        document.querySelector('#df-dbde8b2e-c36e-47cb-a7d0-6728e4fd4da1 button.colab-df-convert');\n",
              "      buttonEl.style.display =\n",
              "        google.colab.kernel.accessAllowed ? 'block' : 'none';\n",
              "\n",
              "      async function convertToInteractive(key) {\n",
              "        const element = document.querySelector('#df-dbde8b2e-c36e-47cb-a7d0-6728e4fd4da1');\n",
              "        const dataTable =\n",
              "          await google.colab.kernel.invokeFunction('convertToInteractive',\n",
              "                                                    [key], {});\n",
              "        if (!dataTable) return;\n",
              "\n",
              "        const docLinkHtml = 'Like what you see? Visit the ' +\n",
              "          '<a target=\"_blank\" href=https://colab.research.google.com/notebooks/data_table.ipynb>data table notebook</a>'\n",
              "          + ' to learn more about interactive tables.';\n",
              "        element.innerHTML = '';\n",
              "        dataTable['output_type'] = 'display_data';\n",
              "        await google.colab.output.renderOutput(dataTable, element);\n",
              "        const docLink = document.createElement('div');\n",
              "        docLink.innerHTML = docLinkHtml;\n",
              "        element.appendChild(docLink);\n",
              "      }\n",
              "    </script>\n",
              "  </div>\n",
              "\n",
              "\n",
              "<div id=\"df-0d28fe85-444e-48a6-91cf-8c5af231ca2c\">\n",
              "  <button class=\"colab-df-quickchart\" onclick=\"quickchart('df-0d28fe85-444e-48a6-91cf-8c5af231ca2c')\"\n",
              "            title=\"Suggest charts\"\n",
              "            style=\"display:none;\">\n",
              "\n",
              "<svg xmlns=\"http://www.w3.org/2000/svg\" height=\"24px\"viewBox=\"0 0 24 24\"\n",
              "     width=\"24px\">\n",
              "    <g>\n",
              "        <path d=\"M19 3H5c-1.1 0-2 .9-2 2v14c0 1.1.9 2 2 2h14c1.1 0 2-.9 2-2V5c0-1.1-.9-2-2-2zM9 17H7v-7h2v7zm4 0h-2V7h2v10zm4 0h-2v-4h2v4z\"/>\n",
              "    </g>\n",
              "</svg>\n",
              "  </button>\n",
              "\n",
              "<style>\n",
              "  .colab-df-quickchart {\n",
              "      --bg-color: #E8F0FE;\n",
              "      --fill-color: #1967D2;\n",
              "      --hover-bg-color: #E2EBFA;\n",
              "      --hover-fill-color: #174EA6;\n",
              "      --disabled-fill-color: #AAA;\n",
              "      --disabled-bg-color: #DDD;\n",
              "  }\n",
              "\n",
              "  [theme=dark] .colab-df-quickchart {\n",
              "      --bg-color: #3B4455;\n",
              "      --fill-color: #D2E3FC;\n",
              "      --hover-bg-color: #434B5C;\n",
              "      --hover-fill-color: #FFFFFF;\n",
              "      --disabled-bg-color: #3B4455;\n",
              "      --disabled-fill-color: #666;\n",
              "  }\n",
              "\n",
              "  .colab-df-quickchart {\n",
              "    background-color: var(--bg-color);\n",
              "    border: none;\n",
              "    border-radius: 50%;\n",
              "    cursor: pointer;\n",
              "    display: none;\n",
              "    fill: var(--fill-color);\n",
              "    height: 32px;\n",
              "    padding: 0;\n",
              "    width: 32px;\n",
              "  }\n",
              "\n",
              "  .colab-df-quickchart:hover {\n",
              "    background-color: var(--hover-bg-color);\n",
              "    box-shadow: 0 1px 2px rgba(60, 64, 67, 0.3), 0 1px 3px 1px rgba(60, 64, 67, 0.15);\n",
              "    fill: var(--button-hover-fill-color);\n",
              "  }\n",
              "\n",
              "  .colab-df-quickchart-complete:disabled,\n",
              "  .colab-df-quickchart-complete:disabled:hover {\n",
              "    background-color: var(--disabled-bg-color);\n",
              "    fill: var(--disabled-fill-color);\n",
              "    box-shadow: none;\n",
              "  }\n",
              "\n",
              "  .colab-df-spinner {\n",
              "    border: 2px solid var(--fill-color);\n",
              "    border-color: transparent;\n",
              "    border-bottom-color: var(--fill-color);\n",
              "    animation:\n",
              "      spin 1s steps(1) infinite;\n",
              "  }\n",
              "\n",
              "  @keyframes spin {\n",
              "    0% {\n",
              "      border-color: transparent;\n",
              "      border-bottom-color: var(--fill-color);\n",
              "      border-left-color: var(--fill-color);\n",
              "    }\n",
              "    20% {\n",
              "      border-color: transparent;\n",
              "      border-left-color: var(--fill-color);\n",
              "      border-top-color: var(--fill-color);\n",
              "    }\n",
              "    30% {\n",
              "      border-color: transparent;\n",
              "      border-left-color: var(--fill-color);\n",
              "      border-top-color: var(--fill-color);\n",
              "      border-right-color: var(--fill-color);\n",
              "    }\n",
              "    40% {\n",
              "      border-color: transparent;\n",
              "      border-right-color: var(--fill-color);\n",
              "      border-top-color: var(--fill-color);\n",
              "    }\n",
              "    60% {\n",
              "      border-color: transparent;\n",
              "      border-right-color: var(--fill-color);\n",
              "    }\n",
              "    80% {\n",
              "      border-color: transparent;\n",
              "      border-right-color: var(--fill-color);\n",
              "      border-bottom-color: var(--fill-color);\n",
              "    }\n",
              "    90% {\n",
              "      border-color: transparent;\n",
              "      border-bottom-color: var(--fill-color);\n",
              "    }\n",
              "  }\n",
              "</style>\n",
              "\n",
              "  <script>\n",
              "    async function quickchart(key) {\n",
              "      const quickchartButtonEl =\n",
              "        document.querySelector('#' + key + ' button');\n",
              "      quickchartButtonEl.disabled = true;  // To prevent multiple clicks.\n",
              "      quickchartButtonEl.classList.add('colab-df-spinner');\n",
              "      try {\n",
              "        const charts = await google.colab.kernel.invokeFunction(\n",
              "            'suggestCharts', [key], {});\n",
              "      } catch (error) {\n",
              "        console.error('Error during call to suggestCharts:', error);\n",
              "      }\n",
              "      quickchartButtonEl.classList.remove('colab-df-spinner');\n",
              "      quickchartButtonEl.classList.add('colab-df-quickchart-complete');\n",
              "    }\n",
              "    (() => {\n",
              "      let quickchartButtonEl =\n",
              "        document.querySelector('#df-0d28fe85-444e-48a6-91cf-8c5af231ca2c button');\n",
              "      quickchartButtonEl.style.display =\n",
              "        google.colab.kernel.accessAllowed ? 'block' : 'none';\n",
              "    })();\n",
              "  </script>\n",
              "</div>\n",
              "\n",
              "  <div id=\"id_a588848d-6fe0-4016-8831-219f49a86cb7\">\n",
              "    <style>\n",
              "      .colab-df-generate {\n",
              "        background-color: #E8F0FE;\n",
              "        border: none;\n",
              "        border-radius: 50%;\n",
              "        cursor: pointer;\n",
              "        display: none;\n",
              "        fill: #1967D2;\n",
              "        height: 32px;\n",
              "        padding: 0 0 0 0;\n",
              "        width: 32px;\n",
              "      }\n",
              "\n",
              "      .colab-df-generate:hover {\n",
              "        background-color: #E2EBFA;\n",
              "        box-shadow: 0px 1px 2px rgba(60, 64, 67, 0.3), 0px 1px 3px 1px rgba(60, 64, 67, 0.15);\n",
              "        fill: #174EA6;\n",
              "      }\n",
              "\n",
              "      [theme=dark] .colab-df-generate {\n",
              "        background-color: #3B4455;\n",
              "        fill: #D2E3FC;\n",
              "      }\n",
              "\n",
              "      [theme=dark] .colab-df-generate:hover {\n",
              "        background-color: #434B5C;\n",
              "        box-shadow: 0px 1px 3px 1px rgba(0, 0, 0, 0.15);\n",
              "        filter: drop-shadow(0px 1px 2px rgba(0, 0, 0, 0.3));\n",
              "        fill: #FFFFFF;\n",
              "      }\n",
              "    </style>\n",
              "    <button class=\"colab-df-generate\" onclick=\"generateWithVariable('df')\"\n",
              "            title=\"Generate code using this dataframe.\"\n",
              "            style=\"display:none;\">\n",
              "\n",
              "  <svg xmlns=\"http://www.w3.org/2000/svg\" height=\"24px\"viewBox=\"0 0 24 24\"\n",
              "       width=\"24px\">\n",
              "    <path d=\"M7,19H8.4L18.45,9,17,7.55,7,17.6ZM5,21V16.75L18.45,3.32a2,2,0,0,1,2.83,0l1.4,1.43a1.91,1.91,0,0,1,.58,1.4,1.91,1.91,0,0,1-.58,1.4L9.25,21ZM18.45,9,17,7.55Zm-12,3A5.31,5.31,0,0,0,4.9,8.1,5.31,5.31,0,0,0,1,6.5,5.31,5.31,0,0,0,4.9,4.9,5.31,5.31,0,0,0,6.5,1,5.31,5.31,0,0,0,8.1,4.9,5.31,5.31,0,0,0,12,6.5,5.46,5.46,0,0,0,6.5,12Z\"/>\n",
              "  </svg>\n",
              "    </button>\n",
              "    <script>\n",
              "      (() => {\n",
              "      const buttonEl =\n",
              "        document.querySelector('#id_a588848d-6fe0-4016-8831-219f49a86cb7 button.colab-df-generate');\n",
              "      buttonEl.style.display =\n",
              "        google.colab.kernel.accessAllowed ? 'block' : 'none';\n",
              "\n",
              "      buttonEl.onclick = () => {\n",
              "        google.colab.notebook.generateWithVariable('df');\n",
              "      }\n",
              "      })();\n",
              "    </script>\n",
              "  </div>\n",
              "\n",
              "    </div>\n",
              "  </div>\n"
            ],
            "application/vnd.google.colaboratory.intrinsic+json": {
              "type": "dataframe",
              "variable_name": "df",
              "summary": "{\n  \"name\": \"df\",\n  \"rows\": 101,\n  \"fields\": [\n    {\n      \"column\": \"Height\",\n      \"properties\": {\n        \"dtype\": \"number\",\n        \"std\": 5.878017576281923,\n        \"min\": 153.0009,\n        \"max\": 174.8635,\n        \"num_unique_values\": 101,\n        \"samples\": [\n          167.2417,\n          168.4807,\n          161.5305\n        ],\n        \"semantic_type\": \"\",\n        \"description\": \"\"\n      }\n    },\n    {\n      \"column\": \"Weight\",\n      \"properties\": {\n        \"dtype\": \"number\",\n        \"std\": 7.851421833253079,\n        \"min\": 40.602,\n        \"max\": 76.6268,\n        \"num_unique_values\": 101,\n        \"samples\": [\n          66.3584,\n          63.2346,\n          48.8527\n        ],\n        \"semantic_type\": \"\",\n        \"description\": \"\"\n      }\n    },\n    {\n      \"column\": \"gender\",\n      \"properties\": {\n        \"dtype\": \"category\",\n        \"num_unique_values\": 2,\n        \"samples\": [\n          \"M\",\n          \"W\"\n        ],\n        \"semantic_type\": \"\",\n        \"description\": \"\"\n      }\n    }\n  ]\n}"
            }
          },
          "metadata": {},
          "execution_count": 2
        }
      ]
    },
    {
      "cell_type": "markdown",
      "source": [
        "# Prepare the input data by splitting the data"
      ],
      "metadata": {
        "id": "aGgTCA30pwCr"
      }
    },
    {
      "cell_type": "code",
      "source": [
        "from sklearn.model_selection import train_test_split\n",
        "X, X_test, y, y_test = train_test_split(df.iloc[:,:-1], df.iloc[:,-1], test_size=0.2, random_state=42)"
      ],
      "metadata": {
        "id": "QiSdYiWFDxxV"
      },
      "execution_count": null,
      "outputs": []
    },
    {
      "cell_type": "markdown",
      "source": [
        "# Logistic Regression"
      ],
      "metadata": {
        "id": "qv8Q_zGHqN4W"
      }
    },
    {
      "cell_type": "markdown",
      "source": [
        "# Create (Select) a Model"
      ],
      "metadata": {
        "id": "f7g1hGV2pqnj"
      }
    },
    {
      "cell_type": "code",
      "metadata": {
        "id": "ZCJWRx0anqdE"
      },
      "source": [
        "from sklearn.linear_model import LogisticRegression\n",
        "model = LogisticRegression()"
      ],
      "execution_count": null,
      "outputs": []
    },
    {
      "cell_type": "markdown",
      "source": [
        "#Train the model"
      ],
      "metadata": {
        "id": "lK77GAX7qVOE"
      }
    },
    {
      "cell_type": "code",
      "source": [
        "model=model.fit(X, y)"
      ],
      "metadata": {
        "id": "AFfkMUmMqUgA"
      },
      "execution_count": null,
      "outputs": []
    },
    {
      "cell_type": "markdown",
      "source": [
        "# Test the model"
      ],
      "metadata": {
        "id": "NyH-sNfAqYVk"
      }
    },
    {
      "cell_type": "code",
      "source": [
        "y_pred= model.predict(X_test)\n",
        "\n",
        "y_probs = model.predict_proba(X_test)\n",
        "y_log_probs = model.predict_log_proba(X_test)"
      ],
      "metadata": {
        "id": "vKMRadAXRtWe"
      },
      "execution_count": null,
      "outputs": []
    },
    {
      "cell_type": "markdown",
      "source": [
        "Show the output prediction"
      ],
      "metadata": {
        "id": "wzXva-J_qtPZ"
      }
    },
    {
      "cell_type": "code",
      "source": [
        "print(y_pred)\n",
        "print(np.array(y_test))"
      ],
      "metadata": {
        "colab": {
          "base_uri": "https://localhost:8080/"
        },
        "id": "PFnAsHepqtYd",
        "outputId": "45014901-6434-4133-cd6c-ee7451f50d35"
      },
      "execution_count": null,
      "outputs": [
        {
          "output_type": "stream",
          "name": "stdout",
          "text": [
            "['M' 'M' 'W' 'M' 'W' 'W' 'W' 'W' 'W' 'W' 'W' 'W' 'M' 'W' 'M' 'W' 'M' 'M'\n",
            " 'W' 'W' 'M']\n",
            "['M' 'M' 'M' 'M' 'W' 'W' 'W' 'W' 'W' 'W' 'W' 'W' 'M' 'W' 'M' 'W' 'M' 'M'\n",
            " 'W' 'W' 'M']\n"
          ]
        }
      ]
    },
    {
      "cell_type": "markdown",
      "source": [
        "Log_prob (show the exponantial of the log value)"
      ],
      "metadata": {
        "id": "nNI-5xtuqhzd"
      }
    },
    {
      "cell_type": "code",
      "source": [
        "print(np.exp(y_log_probs))"
      ],
      "metadata": {
        "colab": {
          "base_uri": "https://localhost:8080/"
        },
        "id": "ziTUKYuXoN46",
        "outputId": "ad2ad580-0514-4480-852c-768be70d3d7c"
      },
      "execution_count": null,
      "outputs": [
        {
          "output_type": "stream",
          "name": "stdout",
          "text": [
            "[[9.99571813e-01 4.28187152e-04]\n",
            " [9.99954726e-01 4.52736757e-05]\n",
            " [2.54512738e-01 7.45487262e-01]\n",
            " [9.99999972e-01 2.83715733e-08]\n",
            " [5.40669520e-06 9.99994593e-01]\n",
            " [2.33585998e-06 9.99997664e-01]\n",
            " [3.90420313e-05 9.99960958e-01]\n",
            " [1.10291782e-05 9.99988971e-01]\n",
            " [2.38982754e-03 9.97610172e-01]\n",
            " [1.09200639e-02 9.89079936e-01]\n",
            " [3.20083392e-01 6.79916608e-01]\n",
            " [2.87464824e-04 9.99712535e-01]\n",
            " [9.99986401e-01 1.35991025e-05]\n",
            " [8.56849977e-06 9.99991432e-01]\n",
            " [9.95173887e-01 4.82611330e-03]\n",
            " [3.50162286e-05 9.99964984e-01]\n",
            " [9.99999893e-01 1.07136256e-07]\n",
            " [9.99999956e-01 4.43643968e-08]\n",
            " [8.75779978e-04 9.99124220e-01]\n",
            " [1.33405973e-03 9.98665940e-01]\n",
            " [9.99903745e-01 9.62549713e-05]]\n"
          ]
        }
      ]
    },
    {
      "cell_type": "markdown",
      "source": [
        "Show the softmax of the prediction"
      ],
      "metadata": {
        "id": "-170UBQepV74"
      }
    },
    {
      "cell_type": "code",
      "source": [
        "print(f\"{np.array2string(y_probs, formatter={'float': lambda x: f'{x:.2f}'}, separator=', ')}\")\n"
      ],
      "metadata": {
        "colab": {
          "base_uri": "https://localhost:8080/"
        },
        "id": "FW8PSJ1GrJTX",
        "outputId": "53a937bd-64bf-41c8-bb45-901f9e5e882f"
      },
      "execution_count": null,
      "outputs": [
        {
          "output_type": "stream",
          "name": "stdout",
          "text": [
            "[[1.00, 0.00],\n",
            " [1.00, 0.00],\n",
            " [0.25, 0.75],\n",
            " [1.00, 0.00],\n",
            " [0.00, 1.00],\n",
            " [0.00, 1.00],\n",
            " [0.00, 1.00],\n",
            " [0.00, 1.00],\n",
            " [0.00, 1.00],\n",
            " [0.01, 0.99],\n",
            " [0.32, 0.68],\n",
            " [0.00, 1.00],\n",
            " [1.00, 0.00],\n",
            " [0.00, 1.00],\n",
            " [1.00, 0.00],\n",
            " [0.00, 1.00],\n",
            " [1.00, 0.00],\n",
            " [1.00, 0.00],\n",
            " [0.00, 1.00],\n",
            " [0.00, 1.00],\n",
            " [1.00, 0.00]]\n"
          ]
        }
      ]
    },
    {
      "cell_type": "markdown",
      "source": [
        "# Perform a ROC curve from 2 selected data"
      ],
      "metadata": {
        "id": "92HPuw_urb_g"
      }
    },
    {
      "cell_type": "markdown",
      "source": [
        "ROC of the second line, Iris-versicolor"
      ],
      "metadata": {
        "id": "9SfH2CzpuS46"
      }
    },
    {
      "cell_type": "code",
      "metadata": {
        "id": "_Mis6hJ7FayI"
      },
      "source": [
        "from sklearn.metrics import precision_recall_curve\n",
        "from sklearn.metrics import f1_score\n",
        "from sklearn.metrics import auc\n",
        "lr_precision, lr_recall, thresholds= precision_recall_curve(y_test=='M', y_probs[:,1])\n",
        "lr_f1= f1_score(y_test=='M', y_pred=='M')\n",
        "lr_auc= auc(lr_recall, lr_precision)"
      ],
      "execution_count": null,
      "outputs": []
    },
    {
      "cell_type": "code",
      "source": [
        "thresholds"
      ],
      "metadata": {
        "colab": {
          "base_uri": "https://localhost:8080/"
        },
        "id": "nbpXgcTh8Fjx",
        "outputId": "d97ba8f2-1b7f-4d47-9a61-6c5be08af554"
      },
      "execution_count": null,
      "outputs": [
        {
          "output_type": "execute_result",
          "data": {
            "text/plain": [
              "array([2.83715733e-08, 4.43643968e-08, 1.07136256e-07, 1.35991025e-05,\n",
              "       4.52736757e-05, 9.62549713e-05, 4.28187152e-04, 4.82611330e-03,\n",
              "       6.79916608e-01, 7.45487262e-01, 9.89079936e-01, 9.97610172e-01,\n",
              "       9.98665940e-01, 9.99124220e-01, 9.99712535e-01, 9.99960958e-01,\n",
              "       9.99964984e-01, 9.99988971e-01, 9.99991432e-01, 9.99994593e-01,\n",
              "       9.99997664e-01])"
            ]
          },
          "metadata": {},
          "execution_count": 33
        }
      ]
    },
    {
      "cell_type": "code",
      "metadata": {
        "id": "N71q-EmryYrb",
        "colab": {
          "base_uri": "https://localhost:8080/"
        },
        "outputId": "aa4ae990-55b0-4577-fcf7-ec8565221488"
      },
      "source": [
        "lr_precision"
      ],
      "execution_count": null,
      "outputs": [
        {
          "output_type": "execute_result",
          "data": {
            "text/plain": [
              "array([0.42857143, 0.4       , 0.36842105, 0.33333333, 0.29411765,\n",
              "       0.25      , 0.2       , 0.14285714, 0.07692308, 0.08333333,\n",
              "       0.        , 0.        , 0.        , 0.        , 0.        ,\n",
              "       0.        , 0.        , 0.        , 0.        , 0.        ,\n",
              "       0.        , 1.        ])"
            ]
          },
          "metadata": {},
          "execution_count": 28
        }
      ]
    },
    {
      "cell_type": "code",
      "source": [
        "lr_recall"
      ],
      "metadata": {
        "colab": {
          "base_uri": "https://localhost:8080/"
        },
        "id": "61Olmd7y7OhB",
        "outputId": "545419b8-15d5-4aa9-b994-02fed4af547c"
      },
      "execution_count": null,
      "outputs": [
        {
          "output_type": "execute_result",
          "data": {
            "text/plain": [
              "array([1.        , 0.88888889, 0.77777778, 0.66666667, 0.55555556,\n",
              "       0.44444444, 0.33333333, 0.22222222, 0.11111111, 0.11111111,\n",
              "       0.        , 0.        , 0.        , 0.        , 0.        ,\n",
              "       0.        , 0.        , 0.        , 0.        , 0.        ,\n",
              "       0.        , 0.        ])"
            ]
          },
          "metadata": {},
          "execution_count": 31
        }
      ]
    },
    {
      "cell_type": "code",
      "source": [
        " print(\"Auc is %.2f\" % lr_auc)\n",
        " print(\"F1 is %.2f\" % lr_f1)\n"
      ],
      "metadata": {
        "colab": {
          "base_uri": "https://localhost:8080/"
        },
        "id": "Rdox952u74h-",
        "outputId": "b408aadc-9a76-4dc4-e019-fa2dd1555659"
      },
      "execution_count": 51,
      "outputs": [
        {
          "output_type": "stream",
          "name": "stdout",
          "text": [
            "Auc is 0.25\n",
            "F1 is 0.94\n"
          ]
        }
      ]
    },
    {
      "cell_type": "markdown",
      "source": [
        "# (Optional) Create a Decision Boudary Contour"
      ],
      "metadata": {
        "id": "Vwot-T0N_Sye"
      }
    },
    {
      "cell_type": "markdown",
      "source": [
        "Create a scope of xx and yy contour"
      ],
      "metadata": {
        "id": "MALzpybW_m9l"
      }
    },
    {
      "cell_type": "code",
      "source": [
        "x_min, x_max = 150, 180\n",
        "y_min, y_max = 30, 80\n",
        "xx, yy = np.meshgrid(np.linspace(x_min, x_max, 50), np.linspace(y_min, y_max, 50))"
      ],
      "metadata": {
        "id": "FQTQ2L197_GK"
      },
      "execution_count": 52,
      "outputs": []
    },
    {
      "cell_type": "code",
      "source": [
        "z = model.predict_proba(np.c_[xx.ravel(), yy.ravel()])\n"
      ],
      "metadata": {
        "colab": {
          "base_uri": "https://localhost:8080/"
        },
        "id": "qfMl83mt_ujy",
        "outputId": "af341797-e576-4632-a53a-7d2e127b9444"
      },
      "execution_count": 70,
      "outputs": [
        {
          "output_type": "stream",
          "name": "stderr",
          "text": [
            "/usr/local/lib/python3.10/dist-packages/sklearn/base.py:493: UserWarning: X does not have valid feature names, but LogisticRegression was fitted with feature names\n",
            "  warnings.warn(\n"
          ]
        }
      ]
    },
    {
      "cell_type": "code",
      "source": [
        "z.shape"
      ],
      "metadata": {
        "colab": {
          "base_uri": "https://localhost:8080/"
        },
        "id": "tgau9PRLAkx7",
        "outputId": "e8815480-3794-41c8-8115-9ed506a69806"
      },
      "execution_count": 71,
      "outputs": [
        {
          "output_type": "execute_result",
          "data": {
            "text/plain": [
              "(2500, 2)"
            ]
          },
          "metadata": {},
          "execution_count": 71
        }
      ]
    },
    {
      "cell_type": "code",
      "source": [
        "z = z[:,0].reshape(xx.shape)"
      ],
      "metadata": {
        "id": "t2BZ3zpzACtM"
      },
      "execution_count": 72,
      "outputs": []
    },
    {
      "cell_type": "code",
      "source": [
        "from matplotlib import pyplot as plt\n",
        "ax = plt.gca()\n",
        "ax.set_xlim(x_min, x_max)\n",
        "ax.set_ylim(y_min, y_max)\n",
        "c = ax.contourf(xx, yy, z, cmap='RdYlBu', alpha=0.5)\n",
        "c1 = ax.contour(xx, yy, z, colors='black', alpha=0.30)\n",
        "\n",
        "plt.scatter(X_test[y_test=='M'].iloc[:,0], X_test[y_test=='M'].iloc[:,1], c='r',  edgecolor='k', s=20)\n",
        "plt.scatter(X_test[y_test=='W'].iloc[:,0], X_test[y_test=='W'].iloc[:,1], c='b',  edgecolor='k', s=20)\n",
        "ax.set_xlabel('Height')\n",
        "ax.set_ylabel('Weight')\n",
        "ax.set_title('Logistic Regression Decision Boundary')\n",
        "plt.show()"
      ],
      "metadata": {
        "colab": {
          "base_uri": "https://localhost:8080/",
          "height": 472
        },
        "id": "Ea7ZklrgAMCV",
        "outputId": "6d99ca7e-d1fa-4e7a-ae01-9f239fde7fd2"
      },
      "execution_count": 105,
      "outputs": [
        {
          "output_type": "display_data",
          "data": {
            "text/plain": [
              "<Figure size 640x480 with 1 Axes>"
            ],
            "image/png": "[encoded data removed]"
          },
          "metadata": {}
        }
      ]
    },
    {
      "cell_type": "markdown",
      "source": [
        "# ROC CURVE"
      ],
      "metadata": {
        "id": "T44fmq8WK8KW"
      }
    },
    {
      "cell_type": "code",
      "source": [
        "from sklearn import metrics\n",
        "fpr, tpr, thresholds = metrics.roc_curve(y_test=='W', y_probs[:,1])\n",
        "plt.scatter\n",
        "plt.xlabel('False Positive Rate')\n",
        "plt.ylabel('True Positive Rate')\n",
        "plt.xlim([-0.01, 1.0])\n",
        "plt.ylim([-0.01, 1.01])\n",
        "plt.plot([0, 1], [0, 1], color='navy', lw=2, linestyle='--')\n",
        "plt.plot(fpr,tpr,\"*-\")\n",
        "plt.title('ROC Curve')\n",
        "plt.show()"
      ],
      "metadata": {
        "colab": {
          "base_uri": "https://localhost:8080/",
          "height": 472
        },
        "id": "gaWU_gaJJ-SQ",
        "outputId": "491ce148-0eb2-4217-93b8-2dd6d145dc41"
      },
      "execution_count": 132,
      "outputs": [
        {
          "output_type": "display_data",
          "data": {
            "text/plain": [
              "<Figure size 640x480 with 1 Axes>"
            ],
            "image/png": "[encoded data removed]"
          },
          "metadata": {}
        }
      ]
    },
    {
      "cell_type": "code",
      "source": [
        " print(thresholds)\n"
      ],
      "metadata": {
        "colab": {
          "base_uri": "https://localhost:8080/"
        },
        "id": "RbyPeFnfL1Rj",
        "outputId": "acb94491-6767-437e-8671-8d03c9f815de"
      },
      "execution_count": 131,
      "outputs": [
        {
          "output_type": "stream",
          "name": "stdout",
          "text": [
            "[           inf 9.99999972e-01 9.95173887e-01 3.20083392e-01\n",
            " 2.54512738e-01 2.33585998e-06]\n"
          ]
        }
      ]
    },
    {
      "cell_type": "code",
      "source": [],
      "metadata": {
        "id": "0jUxhSoMLA4b"
      },
      "execution_count": null,
      "outputs": []
    }
  ]
}