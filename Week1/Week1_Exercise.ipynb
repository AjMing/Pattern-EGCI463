{
  "nbformat": 4,
  "nbformat_minor": 0,
  "metadata": {
    "colab": {
      "provenance": [],
      "authorship_tag": "ABX9TyMXF4AAp+jS/ShcPNt7Pktf",
      "include_colab_link": true
    },
    "kernelspec": {
      "name": "python3",
      "display_name": "Python 3"
    },
    "language_info": {
      "name": "python"
    }
  },
  "cells": [
    {
      "cell_type": "markdown",
      "metadata": {
        "id": "view-in-github",
        "colab_type": "text"
      },
      "source": [
        "<a href=\"https://colab.research.google.com/github/AjMing/Pattern-EGCI463/blob/main/Week1/Week1_Exercise.ipynb\" target=\"_parent\"><img src=\"https://colab.research.google.com/assets/colab-badge.svg\" alt=\"Open In Colab\"/></a>"
      ]
    },
    {
      "cell_type": "markdown",
      "source": [
        "Loading Data"
      ],
      "metadata": {
        "id": "ef87CZrmD9Ih"
      }
    },
    {
      "cell_type": "markdown",
      "source": [
        "**TASK 1:**\n",
        "*Import* ‘iris’ data (.csv format)\n",
        "  Display\n",
        "\n",
        "1.   Display the last 10 elements\n",
        "2.   Copy the second column(width) to a list\n",
        "3.   Display the first 10 elements\n",
        "4.   Create a new column called Species_label\n",
        "5.   change name in Species to 0,1,2 in Species_label\n"
      ],
      "metadata": {
        "id": "svl3uT0VIPBZ"
      }
    },
    {
      "cell_type": "code",
      "source": [],
      "metadata": {
        "id": "4y1QE1542FLA"
      },
      "execution_count": null,
      "outputs": []
    },
    {
      "cell_type": "code",
      "source": [],
      "metadata": {
        "id": "1l6gJMPO2Ipq"
      },
      "execution_count": null,
      "outputs": []
    },
    {
      "cell_type": "code",
      "source": [],
      "metadata": {
        "id": "mhwoGsja2Iyh"
      },
      "execution_count": null,
      "outputs": []
    },
    {
      "cell_type": "code",
      "source": [],
      "metadata": {
        "id": "WHX6jEc92I6D"
      },
      "execution_count": null,
      "outputs": []
    },
    {
      "cell_type": "code",
      "source": [],
      "metadata": {
        "id": "9vS149uq2JCK"
      },
      "execution_count": null,
      "outputs": []
    },
    {
      "cell_type": "markdown",
      "source": [
        "**TASK2**\n",
        "![image.png]()\n",
        "1.   Find mean/median/min/max/average for each column\n",
        "2.   Print mean,var,min,max group by Species label\n",
        "3.   Plot (scatter) each data based on each type\n",
        "\n"
      ],
      "metadata": {
        "id": "08_rvRw2KD0D"
      }
    },
    {
      "cell_type": "code",
      "source": [],
      "metadata": {
        "id": "-oT95ibDMUMX"
      },
      "execution_count": null,
      "outputs": []
    },
    {
      "cell_type": "code",
      "source": [],
      "metadata": {
        "id": "L9NJDd4V3aBC"
      },
      "execution_count": null,
      "outputs": []
    },
    {
      "cell_type": "code",
      "source": [],
      "metadata": {
        "id": "t6c7owry3aDr"
      },
      "execution_count": null,
      "outputs": []
    },
    {
      "cell_type": "code",
      "source": [],
      "metadata": {
        "id": "rZfi0WFc3aKc"
      },
      "execution_count": null,
      "outputs": []
    },
    {
      "cell_type": "markdown",
      "source": [
        "**TASK3**\n",
        "\n",
        "\n",
        "Try using describe() function"
      ],
      "metadata": {
        "id": "yZJRSC6vPZm9"
      }
    },
    {
      "cell_type": "code",
      "source": [],
      "metadata": {
        "id": "A67ctiD0kBXc"
      },
      "execution_count": null,
      "outputs": []
    },
    {
      "cell_type": "markdown",
      "source": [
        "**TASK4**\n",
        "\n",
        "\n",
        "Show 1 animal each from"
      ],
      "metadata": {
        "id": "Z3NFk1Suj1lT"
      }
    },
    {
      "cell_type": "code",
      "source": [],
      "metadata": {
        "id": "HkUb_6q33TWt"
      },
      "execution_count": null,
      "outputs": []
    }
  ]
}